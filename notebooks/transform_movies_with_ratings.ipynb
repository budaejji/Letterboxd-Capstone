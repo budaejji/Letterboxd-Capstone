{
 "cells": [
  {
   "cell_type": "markdown",
   "id": "01545e57-5558-40c5-833e-9815eabef89c",
   "metadata": {},
   "source": [
    "# Exploratory Data Analysis of Movies with Ratings"
   ]
  },
  {
   "cell_type": "markdown",
   "id": "697a2a40-d540-4f2b-99a3-e66850d91ad7",
   "metadata": {},
   "source": [
    "As our other movie dataset did not contain the average rating from Letterboxd, I've incorporated this movie dataset to fetch the rating. However, the id column does not match the movie_id on the first dataset, so we will have to match movies by title and date, and possibly runtime if that's not enough."
   ]
  },
  {
   "cell_type": "code",
   "execution_count": 2,
   "id": "ae1ce224-5646-4720-9a2a-b14078f2eaba",
   "metadata": {},
   "outputs": [],
   "source": [
    "import pandas as pd"
   ]
  },
  {
   "cell_type": "code",
   "execution_count": 4,
   "id": "8937b93e-efb3-4575-bf73-829ab4d89885",
   "metadata": {},
   "outputs": [
    {
     "name": "stdout",
     "output_type": "stream",
     "text": [
      "<class 'pandas.core.frame.DataFrame'>\n",
      "RangeIndex: 164616 entries, 0 to 164615\n",
      "Data columns (total 5 columns):\n",
      " #   Column  Non-Null Count   Dtype  \n",
      "---  ------  --------------   -----  \n",
      " 0   id      164616 non-null  int64  \n",
      " 1   name    164616 non-null  object \n",
      " 2   date    157062 non-null  float64\n",
      " 3   minute  155740 non-null  float64\n",
      " 4   rating  67519 non-null   float64\n",
      "dtypes: float64(3), int64(1), object(1)\n",
      "memory usage: 6.3+ MB\n"
     ]
    },
    {
     "data": {
      "text/html": [
       "<div>\n",
       "<style scoped>\n",
       "    .dataframe tbody tr th:only-of-type {\n",
       "        vertical-align: middle;\n",
       "    }\n",
       "\n",
       "    .dataframe tbody tr th {\n",
       "        vertical-align: top;\n",
       "    }\n",
       "\n",
       "    .dataframe thead th {\n",
       "        text-align: right;\n",
       "    }\n",
       "</style>\n",
       "<table border=\"1\" class=\"dataframe\">\n",
       "  <thead>\n",
       "    <tr style=\"text-align: right;\">\n",
       "      <th></th>\n",
       "      <th>id</th>\n",
       "      <th>name</th>\n",
       "      <th>date</th>\n",
       "      <th>minute</th>\n",
       "      <th>rating</th>\n",
       "    </tr>\n",
       "  </thead>\n",
       "  <tbody>\n",
       "    <tr>\n",
       "      <th>0</th>\n",
       "      <td>1000002</td>\n",
       "      <td>Parasite</td>\n",
       "      <td>2019.0</td>\n",
       "      <td>133.0</td>\n",
       "      <td>4.56</td>\n",
       "    </tr>\n",
       "    <tr>\n",
       "      <th>1</th>\n",
       "      <td>1000003</td>\n",
       "      <td>Everything Everywhere All at Once</td>\n",
       "      <td>2022.0</td>\n",
       "      <td>140.0</td>\n",
       "      <td>4.30</td>\n",
       "    </tr>\n",
       "    <tr>\n",
       "      <th>2</th>\n",
       "      <td>1000004</td>\n",
       "      <td>Fight Club</td>\n",
       "      <td>1999.0</td>\n",
       "      <td>139.0</td>\n",
       "      <td>4.27</td>\n",
       "    </tr>\n",
       "    <tr>\n",
       "      <th>3</th>\n",
       "      <td>1000005</td>\n",
       "      <td>La La Land</td>\n",
       "      <td>2016.0</td>\n",
       "      <td>129.0</td>\n",
       "      <td>4.09</td>\n",
       "    </tr>\n",
       "    <tr>\n",
       "      <th>4</th>\n",
       "      <td>1000007</td>\n",
       "      <td>Interstellar</td>\n",
       "      <td>2014.0</td>\n",
       "      <td>169.0</td>\n",
       "      <td>4.35</td>\n",
       "    </tr>\n",
       "  </tbody>\n",
       "</table>\n",
       "</div>"
      ],
      "text/plain": [
       "        id                               name    date  minute  rating\n",
       "0  1000002                           Parasite  2019.0   133.0    4.56\n",
       "1  1000003  Everything Everywhere All at Once  2022.0   140.0    4.30\n",
       "2  1000004                         Fight Club  1999.0   139.0    4.27\n",
       "3  1000005                         La La Land  2016.0   129.0    4.09\n",
       "4  1000007                       Interstellar  2014.0   169.0    4.35"
      ]
     },
     "execution_count": 4,
     "metadata": {},
     "output_type": "execute_result"
    }
   ],
   "source": [
    "movies_with_ratings = pd.read_csv('../data/raw/unclean_movies_with_ratings.csv')\n",
    "\n",
    "# Display some information about the transactions DataFrame\n",
    "movies_with_ratings.info()\n",
    "movies_with_ratings.head()"
   ]
  },
  {
   "cell_type": "markdown",
   "id": "54ad5a2f-8881-4cc5-94fd-7bab768f92ef",
   "metadata": {},
   "source": [
    "Name has data type object and is not explicit about what's in them. I'll first check if there's any mismatched data types."
   ]
  },
  {
   "cell_type": "code",
   "execution_count": 5,
   "id": "30361f4b-743a-41ed-ab41-3caa2f0c605c",
   "metadata": {},
   "outputs": [
    {
     "name": "stdout",
     "output_type": "stream",
     "text": [
      "Name types: [<class 'str'>]\n"
     ]
    }
   ],
   "source": [
    "print(f\"Name types: {movies_with_ratings['name'].apply(type).unique()}\")"
   ]
  },
  {
   "cell_type": "markdown",
   "id": "deee528a-b6dd-4cea-9214-0f7e192a4968",
   "metadata": {},
   "source": [
    "It just contains strings which is expected so we can move on. Checking if any rows have missing values:"
   ]
  },
  {
   "cell_type": "code",
   "execution_count": 6,
   "id": "b87b7cd1-1cab-462e-90f7-7a47d67af3b0",
   "metadata": {},
   "outputs": [
    {
     "data": {
      "text/plain": [
       "np.int64(97198)"
      ]
     },
     "execution_count": 6,
     "metadata": {},
     "output_type": "execute_result"
    }
   ],
   "source": [
    "movies_with_ratings.isnull().any(axis=1).sum()"
   ]
  },
  {
   "cell_type": "markdown",
   "id": "dc85b1a4-ba9c-48f1-bf54-892ba570d938",
   "metadata": {},
   "source": [
    "There are many rows with missing data, however that may not be a concern considering we only need this table to extract the rating for the movies in the original movies table. Let's check which bits of data are missing for a better overview:"
   ]
  },
  {
   "cell_type": "code",
   "execution_count": 7,
   "id": "a767384e-cabc-4a14-a361-7dcb6bcc08d5",
   "metadata": {},
   "outputs": [
    {
     "name": "stdout",
     "output_type": "stream",
     "text": [
      "0\n"
     ]
    }
   ],
   "source": [
    "name_missing = (movies_with_ratings[\"name\"].isnull())\n",
    "\n",
    "print(name_missing.sum())"
   ]
  },
  {
   "cell_type": "markdown",
   "id": "027851bd-db74-43d5-a90e-4b45973a2706",
   "metadata": {},
   "source": [
    "There are no rows with missing name (movie title). Let's check for missing ratings now:"
   ]
  },
  {
   "cell_type": "code",
   "execution_count": 8,
   "id": "d8eb437c-f2b9-46e6-bf66-cd36f8902f7c",
   "metadata": {},
   "outputs": [
    {
     "name": "stdout",
     "output_type": "stream",
     "text": [
      "97097\n"
     ]
    }
   ],
   "source": [
    "rating_missing = (movies_with_ratings[\"rating\"].isnull())\n",
    "\n",
    "print(rating_missing.sum())"
   ]
  },
  {
   "cell_type": "markdown",
   "id": "b52b3395-20cd-4715-a54e-46b51fcfe70c",
   "metadata": {},
   "source": [
    "Most of the rows with missing data have missing rating. We'll leave these and see if it's a concern once merged with the other movies table."
   ]
  },
  {
   "cell_type": "markdown",
   "id": "0b9b8b27-b2ad-4f73-8993-12aa90e52a57",
   "metadata": {},
   "source": [
    "Let's check for missing date as that will be a concern when merging."
   ]
  },
  {
   "cell_type": "code",
   "execution_count": 15,
   "id": "798e276e-5d3a-46c2-be8d-d8c8fb67a103",
   "metadata": {},
   "outputs": [
    {
     "name": "stdout",
     "output_type": "stream",
     "text": [
      "7554\n"
     ]
    },
    {
     "data": {
      "text/html": [
       "<div>\n",
       "<style scoped>\n",
       "    .dataframe tbody tr th:only-of-type {\n",
       "        vertical-align: middle;\n",
       "    }\n",
       "\n",
       "    .dataframe tbody tr th {\n",
       "        vertical-align: top;\n",
       "    }\n",
       "\n",
       "    .dataframe thead th {\n",
       "        text-align: right;\n",
       "    }\n",
       "</style>\n",
       "<table border=\"1\" class=\"dataframe\">\n",
       "  <thead>\n",
       "    <tr style=\"text-align: right;\">\n",
       "      <th></th>\n",
       "      <th>id</th>\n",
       "      <th>name</th>\n",
       "      <th>date</th>\n",
       "      <th>minute</th>\n",
       "      <th>rating</th>\n",
       "    </tr>\n",
       "  </thead>\n",
       "  <tbody>\n",
       "    <tr>\n",
       "      <th>7105</th>\n",
       "      <td>1007915</td>\n",
       "      <td>Frankenstein</td>\n",
       "      <td>NaN</td>\n",
       "      <td>NaN</td>\n",
       "      <td>NaN</td>\n",
       "    </tr>\n",
       "    <tr>\n",
       "      <th>8233</th>\n",
       "      <td>1009206</td>\n",
       "      <td>Untitled Peaky Blinders Film</td>\n",
       "      <td>NaN</td>\n",
       "      <td>NaN</td>\n",
       "      <td>NaN</td>\n",
       "    </tr>\n",
       "    <tr>\n",
       "      <th>12934</th>\n",
       "      <td>1014647</td>\n",
       "      <td>Dracula</td>\n",
       "      <td>NaN</td>\n",
       "      <td>NaN</td>\n",
       "      <td>NaN</td>\n",
       "    </tr>\n",
       "    <tr>\n",
       "      <th>14450</th>\n",
       "      <td>1016448</td>\n",
       "      <td>Scarface</td>\n",
       "      <td>NaN</td>\n",
       "      <td>NaN</td>\n",
       "      <td>NaN</td>\n",
       "    </tr>\n",
       "    <tr>\n",
       "      <th>15544</th>\n",
       "      <td>1017716</td>\n",
       "      <td>Havoc</td>\n",
       "      <td>NaN</td>\n",
       "      <td>NaN</td>\n",
       "      <td>NaN</td>\n",
       "    </tr>\n",
       "    <tr>\n",
       "      <th>...</th>\n",
       "      <td>...</td>\n",
       "      <td>...</td>\n",
       "      <td>...</td>\n",
       "      <td>...</td>\n",
       "      <td>...</td>\n",
       "    </tr>\n",
       "    <tr>\n",
       "      <th>164611</th>\n",
       "      <td>1941489</td>\n",
       "      <td>Trap</td>\n",
       "      <td>NaN</td>\n",
       "      <td>85.0</td>\n",
       "      <td>NaN</td>\n",
       "    </tr>\n",
       "    <tr>\n",
       "      <th>164612</th>\n",
       "      <td>1941490</td>\n",
       "      <td>Traumnovelle</td>\n",
       "      <td>NaN</td>\n",
       "      <td>109.0</td>\n",
       "      <td>NaN</td>\n",
       "    </tr>\n",
       "    <tr>\n",
       "      <th>164613</th>\n",
       "      <td>1941513</td>\n",
       "      <td>Untouchable</td>\n",
       "      <td>NaN</td>\n",
       "      <td>NaN</td>\n",
       "      <td>NaN</td>\n",
       "    </tr>\n",
       "    <tr>\n",
       "      <th>164614</th>\n",
       "      <td>1941515</td>\n",
       "      <td>Vagabond</td>\n",
       "      <td>NaN</td>\n",
       "      <td>6.0</td>\n",
       "      <td>NaN</td>\n",
       "    </tr>\n",
       "    <tr>\n",
       "      <th>164615</th>\n",
       "      <td>1941533</td>\n",
       "      <td>Without</td>\n",
       "      <td>NaN</td>\n",
       "      <td>6.0</td>\n",
       "      <td>NaN</td>\n",
       "    </tr>\n",
       "  </tbody>\n",
       "</table>\n",
       "<p>7554 rows × 5 columns</p>\n",
       "</div>"
      ],
      "text/plain": [
       "             id                          name  date  minute  rating\n",
       "7105    1007915                  Frankenstein   NaN     NaN     NaN\n",
       "8233    1009206  Untitled Peaky Blinders Film   NaN     NaN     NaN\n",
       "12934   1014647                       Dracula   NaN     NaN     NaN\n",
       "14450   1016448                      Scarface   NaN     NaN     NaN\n",
       "15544   1017716                         Havoc   NaN     NaN     NaN\n",
       "...         ...                           ...   ...     ...     ...\n",
       "164611  1941489                          Trap   NaN    85.0     NaN\n",
       "164612  1941490                  Traumnovelle   NaN   109.0     NaN\n",
       "164613  1941513                   Untouchable   NaN     NaN     NaN\n",
       "164614  1941515                      Vagabond   NaN     6.0     NaN\n",
       "164615  1941533                       Without   NaN     6.0     NaN\n",
       "\n",
       "[7554 rows x 5 columns]"
      ]
     },
     "execution_count": 15,
     "metadata": {},
     "output_type": "execute_result"
    }
   ],
   "source": [
    "date_missing = (movies_with_ratings[\"date\"].isnull())\n",
    "\n",
    "print(date_missing.sum())\n",
    "movies_with_ratings[date_missing]"
   ]
  },
  {
   "cell_type": "markdown",
   "id": "99256971-b136-42a2-8c89-fa8e7bd6cf47",
   "metadata": {},
   "source": [
    "There are quite a few rows with missing date. We'll leave these as is and find out if it's a concern when merging. Most likely these are lesser-known films that won't be present in our other table, which has no dates missing."
   ]
  },
  {
   "cell_type": "markdown",
   "id": "0ab989c5-7fed-44e2-b1dd-52fb807dc0f1",
   "metadata": {},
   "source": [
    "# Data Cleaning"
   ]
  },
  {
   "cell_type": "markdown",
   "id": "0969f994-f79e-416a-9a7f-91ec8871467f",
   "metadata": {},
   "source": [
    "## Convert float to int"
   ]
  },
  {
   "cell_type": "markdown",
   "id": "6d8fd430-6906-44e8-bb25-a714faa4aab4",
   "metadata": {},
   "source": [
    "Date and minute columns have floating .0 which we don't need. Let's convert these columns to type int."
   ]
  },
  {
   "cell_type": "code",
   "execution_count": 21,
   "id": "f269f5b8-1b5b-487a-8d98-d607899b53e2",
   "metadata": {},
   "outputs": [
    {
     "data": {
      "text/html": [
       "<div>\n",
       "<style scoped>\n",
       "    .dataframe tbody tr th:only-of-type {\n",
       "        vertical-align: middle;\n",
       "    }\n",
       "\n",
       "    .dataframe tbody tr th {\n",
       "        vertical-align: top;\n",
       "    }\n",
       "\n",
       "    .dataframe thead th {\n",
       "        text-align: right;\n",
       "    }\n",
       "</style>\n",
       "<table border=\"1\" class=\"dataframe\">\n",
       "  <thead>\n",
       "    <tr style=\"text-align: right;\">\n",
       "      <th></th>\n",
       "      <th>id</th>\n",
       "      <th>name</th>\n",
       "      <th>date</th>\n",
       "      <th>minute</th>\n",
       "      <th>rating</th>\n",
       "    </tr>\n",
       "  </thead>\n",
       "  <tbody>\n",
       "    <tr>\n",
       "      <th>0</th>\n",
       "      <td>1000002</td>\n",
       "      <td>Parasite</td>\n",
       "      <td>2019</td>\n",
       "      <td>133</td>\n",
       "      <td>4.56</td>\n",
       "    </tr>\n",
       "    <tr>\n",
       "      <th>1</th>\n",
       "      <td>1000003</td>\n",
       "      <td>Everything Everywhere All at Once</td>\n",
       "      <td>2022</td>\n",
       "      <td>140</td>\n",
       "      <td>4.30</td>\n",
       "    </tr>\n",
       "    <tr>\n",
       "      <th>2</th>\n",
       "      <td>1000004</td>\n",
       "      <td>Fight Club</td>\n",
       "      <td>1999</td>\n",
       "      <td>139</td>\n",
       "      <td>4.27</td>\n",
       "    </tr>\n",
       "    <tr>\n",
       "      <th>3</th>\n",
       "      <td>1000005</td>\n",
       "      <td>La La Land</td>\n",
       "      <td>2016</td>\n",
       "      <td>129</td>\n",
       "      <td>4.09</td>\n",
       "    </tr>\n",
       "    <tr>\n",
       "      <th>4</th>\n",
       "      <td>1000007</td>\n",
       "      <td>Interstellar</td>\n",
       "      <td>2014</td>\n",
       "      <td>169</td>\n",
       "      <td>4.35</td>\n",
       "    </tr>\n",
       "    <tr>\n",
       "      <th>...</th>\n",
       "      <td>...</td>\n",
       "      <td>...</td>\n",
       "      <td>...</td>\n",
       "      <td>...</td>\n",
       "      <td>...</td>\n",
       "    </tr>\n",
       "    <tr>\n",
       "      <th>164611</th>\n",
       "      <td>1941489</td>\n",
       "      <td>Trap</td>\n",
       "      <td>&lt;NA&gt;</td>\n",
       "      <td>85</td>\n",
       "      <td>NaN</td>\n",
       "    </tr>\n",
       "    <tr>\n",
       "      <th>164612</th>\n",
       "      <td>1941490</td>\n",
       "      <td>Traumnovelle</td>\n",
       "      <td>&lt;NA&gt;</td>\n",
       "      <td>109</td>\n",
       "      <td>NaN</td>\n",
       "    </tr>\n",
       "    <tr>\n",
       "      <th>164613</th>\n",
       "      <td>1941513</td>\n",
       "      <td>Untouchable</td>\n",
       "      <td>&lt;NA&gt;</td>\n",
       "      <td>&lt;NA&gt;</td>\n",
       "      <td>NaN</td>\n",
       "    </tr>\n",
       "    <tr>\n",
       "      <th>164614</th>\n",
       "      <td>1941515</td>\n",
       "      <td>Vagabond</td>\n",
       "      <td>&lt;NA&gt;</td>\n",
       "      <td>6</td>\n",
       "      <td>NaN</td>\n",
       "    </tr>\n",
       "    <tr>\n",
       "      <th>164615</th>\n",
       "      <td>1941533</td>\n",
       "      <td>Without</td>\n",
       "      <td>&lt;NA&gt;</td>\n",
       "      <td>6</td>\n",
       "      <td>NaN</td>\n",
       "    </tr>\n",
       "  </tbody>\n",
       "</table>\n",
       "<p>164616 rows × 5 columns</p>\n",
       "</div>"
      ],
      "text/plain": [
       "             id                               name  date  minute  rating\n",
       "0       1000002                           Parasite  2019     133    4.56\n",
       "1       1000003  Everything Everywhere All at Once  2022     140    4.30\n",
       "2       1000004                         Fight Club  1999     139    4.27\n",
       "3       1000005                         La La Land  2016     129    4.09\n",
       "4       1000007                       Interstellar  2014     169    4.35\n",
       "...         ...                                ...   ...     ...     ...\n",
       "164611  1941489                               Trap  <NA>      85     NaN\n",
       "164612  1941490                       Traumnovelle  <NA>     109     NaN\n",
       "164613  1941513                        Untouchable  <NA>    <NA>     NaN\n",
       "164614  1941515                           Vagabond  <NA>       6     NaN\n",
       "164615  1941533                            Without  <NA>       6     NaN\n",
       "\n",
       "[164616 rows x 5 columns]"
      ]
     },
     "execution_count": 21,
     "metadata": {},
     "output_type": "execute_result"
    }
   ],
   "source": [
    "movies_with_ratings['date'] = movies_with_ratings['date'].astype('Int64')\n",
    "movies_with_ratings['minute'] = movies_with_ratings['minute'].astype('Int64')\n",
    "\n",
    "movies_with_ratings"
   ]
  },
  {
   "cell_type": "markdown",
   "id": "4fc41138-9fa2-41ca-9375-f6ebefa809e1",
   "metadata": {},
   "source": [
    "## Standardise ratings"
   ]
  },
  {
   "cell_type": "markdown",
   "id": "25a5a672-8522-411c-b56f-471ca16a7ed0",
   "metadata": {},
   "source": [
    "The user_ratings rating system is out of 10, while this one is out of 5. Let's multiply the ratings by 2 to standardise them."
   ]
  },
  {
   "cell_type": "code",
   "execution_count": 22,
   "id": "b372c3b3-9c04-4f37-b4fb-41c03852bb18",
   "metadata": {},
   "outputs": [
    {
     "data": {
      "text/html": [
       "<div>\n",
       "<style scoped>\n",
       "    .dataframe tbody tr th:only-of-type {\n",
       "        vertical-align: middle;\n",
       "    }\n",
       "\n",
       "    .dataframe tbody tr th {\n",
       "        vertical-align: top;\n",
       "    }\n",
       "\n",
       "    .dataframe thead th {\n",
       "        text-align: right;\n",
       "    }\n",
       "</style>\n",
       "<table border=\"1\" class=\"dataframe\">\n",
       "  <thead>\n",
       "    <tr style=\"text-align: right;\">\n",
       "      <th></th>\n",
       "      <th>id</th>\n",
       "      <th>name</th>\n",
       "      <th>date</th>\n",
       "      <th>minute</th>\n",
       "      <th>rating</th>\n",
       "    </tr>\n",
       "  </thead>\n",
       "  <tbody>\n",
       "    <tr>\n",
       "      <th>0</th>\n",
       "      <td>1000002</td>\n",
       "      <td>Parasite</td>\n",
       "      <td>2019</td>\n",
       "      <td>133</td>\n",
       "      <td>9.12</td>\n",
       "    </tr>\n",
       "    <tr>\n",
       "      <th>1</th>\n",
       "      <td>1000003</td>\n",
       "      <td>Everything Everywhere All at Once</td>\n",
       "      <td>2022</td>\n",
       "      <td>140</td>\n",
       "      <td>8.60</td>\n",
       "    </tr>\n",
       "    <tr>\n",
       "      <th>2</th>\n",
       "      <td>1000004</td>\n",
       "      <td>Fight Club</td>\n",
       "      <td>1999</td>\n",
       "      <td>139</td>\n",
       "      <td>8.54</td>\n",
       "    </tr>\n",
       "    <tr>\n",
       "      <th>3</th>\n",
       "      <td>1000005</td>\n",
       "      <td>La La Land</td>\n",
       "      <td>2016</td>\n",
       "      <td>129</td>\n",
       "      <td>8.18</td>\n",
       "    </tr>\n",
       "    <tr>\n",
       "      <th>4</th>\n",
       "      <td>1000007</td>\n",
       "      <td>Interstellar</td>\n",
       "      <td>2014</td>\n",
       "      <td>169</td>\n",
       "      <td>8.70</td>\n",
       "    </tr>\n",
       "  </tbody>\n",
       "</table>\n",
       "</div>"
      ],
      "text/plain": [
       "        id                               name  date  minute  rating\n",
       "0  1000002                           Parasite  2019     133    9.12\n",
       "1  1000003  Everything Everywhere All at Once  2022     140    8.60\n",
       "2  1000004                         Fight Club  1999     139    8.54\n",
       "3  1000005                         La La Land  2016     129    8.18\n",
       "4  1000007                       Interstellar  2014     169    8.70"
      ]
     },
     "execution_count": 22,
     "metadata": {},
     "output_type": "execute_result"
    }
   ],
   "source": [
    "movies_with_ratings['rating'] = movies_with_ratings['rating'] * 2\n",
    "\n",
    "movies_with_ratings.head()\n"
   ]
  },
  {
   "cell_type": "markdown",
   "id": "93d96a89-6189-4516-8853-d4bf07e7592d",
   "metadata": {},
   "source": [
    "## Drop id column"
   ]
  },
  {
   "cell_type": "code",
   "execution_count": 23,
   "id": "1fe78b8a-43c5-41da-832d-0da71f17dd7f",
   "metadata": {},
   "outputs": [
    {
     "data": {
      "text/plain": [
       "(164616, 4)"
      ]
     },
     "execution_count": 23,
     "metadata": {},
     "output_type": "execute_result"
    }
   ],
   "source": [
    "movies_with_ratings = movies_with_ratings.drop(columns=['id'])\n",
    "\n",
    "movies_with_ratings.shape"
   ]
  },
  {
   "cell_type": "code",
   "execution_count": 26,
   "id": "e03e1286-9f81-4555-a3ad-dd2440b4fba4",
   "metadata": {},
   "outputs": [],
   "source": [
    "movies_with_ratings.reset_index(drop=True, inplace=True)"
   ]
  },
  {
   "cell_type": "markdown",
   "id": "90aae9a1-abf2-4ce4-9924-6e9705102147",
   "metadata": {},
   "source": [
    "# Save the Cleaned Data"
   ]
  },
  {
   "cell_type": "markdown",
   "id": "2d8137ea-d0c2-4c42-855f-7af833a7f805",
   "metadata": {},
   "source": [
    "For testing purposes in the pipeline, it makes sense for us to export the cleaned DataFrame to a CSV file.  This will allow us to use the cleaned data in the pipeline without having to run the cleaning steps again."
   ]
  },
  {
   "cell_type": "code",
   "execution_count": 27,
   "id": "ef762d0d-483d-4bb1-a63e-f2af75a55f8d",
   "metadata": {},
   "outputs": [],
   "source": [
    "movies_with_ratings.to_csv(\n",
    "    \"../tests/test_data/expected_movies_with_ratings_clean_results.csv\", index=False\n",
    ")"
   ]
  }
 ],
 "metadata": {
  "kernelspec": {
   "display_name": "Python 3 (ipykernel)",
   "language": "python",
   "name": "python3"
  },
  "language_info": {
   "codemirror_mode": {
    "name": "ipython",
    "version": 3
   },
   "file_extension": ".py",
   "mimetype": "text/x-python",
   "name": "python",
   "nbconvert_exporter": "python",
   "pygments_lexer": "ipython3",
   "version": "3.11.0"
  }
 },
 "nbformat": 4,
 "nbformat_minor": 5
}
