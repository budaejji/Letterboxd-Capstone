{
 "cells": [
  {
   "cell_type": "markdown",
   "id": "213a1070-78c0-4b13-925d-c34253e317d1",
   "metadata": {},
   "source": [
    "# Exploratory Data Analysis of User Ratings"
   ]
  },
  {
   "cell_type": "code",
   "execution_count": 56,
   "id": "2d5a461e-a04b-4dd1-9cb2-44e5691b8f5c",
   "metadata": {},
   "outputs": [],
   "source": [
    "import pandas as pd"
   ]
  },
  {
   "cell_type": "code",
   "execution_count": 58,
   "id": "70dbf699",
   "metadata": {},
   "outputs": [],
   "source": [
    "user_ratings = pd.read_csv(\"../data/raw/unclean_user_ratings.csv\")"
   ]
  },
  {
   "cell_type": "markdown",
   "id": "b60cad21-ac4f-47f5-a589-6c5bf0249306",
   "metadata": {},
   "source": [
    "Movie_id and user_id have data type object and are not explicit about what's in them. I'll first check if there's any mismatched data types."
   ]
  },
  {
   "cell_type": "code",
   "execution_count": 59,
   "id": "52ce449a-17ee-427b-a143-ff9384b93c7e",
   "metadata": {},
   "outputs": [
    {
     "name": "stdout",
     "output_type": "stream",
     "text": [
      "movie_id types: [<class 'str'>]\n",
      "user_id types: [<class 'str'>]\n"
     ]
    }
   ],
   "source": [
    "print(f\"movie_id types: {user_ratings['movie_id'].apply(type).unique()}\")\n",
    "print(f\"user_id types: {user_ratings['user_id'].apply(type).unique()}\")"
   ]
  },
  {
   "cell_type": "markdown",
   "id": "bcd15f03-47d2-4760-adf0-de0930ebfa02",
   "metadata": {},
   "source": [
    "They just contain strings which is expected so we can move on. Checking if any rows have any missing values:"
   ]
  },
  {
   "cell_type": "code",
   "execution_count": 60,
   "id": "3f4a2ba6-eed8-4ce9-933f-7657e16d3bc4",
   "metadata": {},
   "outputs": [
    {
     "data": {
      "text/plain": [
       "np.int64(0)"
      ]
     },
     "execution_count": 60,
     "metadata": {},
     "output_type": "execute_result"
    }
   ],
   "source": [
    "user_ratings.isnull().any(axis=1).sum()"
   ]
  },
  {
   "cell_type": "markdown",
   "id": "aecb308e-6156-41d6-b5a9-6c45fd82da55",
   "metadata": {},
   "source": [
    "There are no records with missing values. Let's take a look at the data to get an idea of what we want to do:"
   ]
  },
  {
   "cell_type": "code",
   "execution_count": 61,
   "id": "029b47a8-e6d6-44e5-818a-cd7049c46478",
   "metadata": {},
   "outputs": [
    {
     "data": {
      "application/vnd.microsoft.datawrangler.viewer.v0+json": {
       "columns": [
        {
         "name": "index",
         "rawType": "int64",
         "type": "integer"
        },
        {
         "name": "movie_id",
         "rawType": "object",
         "type": "string"
        },
        {
         "name": "rating_val",
         "rawType": "int64",
         "type": "integer"
        },
        {
         "name": "user_id",
         "rawType": "object",
         "type": "string"
        }
       ],
       "ref": "a2488732-b83b-4862-a7e9-685e5176ebba",
       "rows": [
        [
         "0",
         "mank",
         "5",
         "deathproof"
        ],
        [
         "1",
         "the-social-network",
         "10",
         "deathproof"
        ],
        [
         "2",
         "insidious",
         "10",
         "deathproof"
        ],
        [
         "3",
         "hush-2016",
         "8",
         "deathproof"
        ],
        [
         "4",
         "deadpool",
         "5",
         "deathproof"
        ]
       ],
       "shape": {
        "columns": 3,
        "rows": 5
       }
      },
      "text/html": [
       "<div>\n",
       "<style scoped>\n",
       "    .dataframe tbody tr th:only-of-type {\n",
       "        vertical-align: middle;\n",
       "    }\n",
       "\n",
       "    .dataframe tbody tr th {\n",
       "        vertical-align: top;\n",
       "    }\n",
       "\n",
       "    .dataframe thead th {\n",
       "        text-align: right;\n",
       "    }\n",
       "</style>\n",
       "<table border=\"1\" class=\"dataframe\">\n",
       "  <thead>\n",
       "    <tr style=\"text-align: right;\">\n",
       "      <th></th>\n",
       "      <th>movie_id</th>\n",
       "      <th>rating_val</th>\n",
       "      <th>user_id</th>\n",
       "    </tr>\n",
       "  </thead>\n",
       "  <tbody>\n",
       "    <tr>\n",
       "      <th>0</th>\n",
       "      <td>mank</td>\n",
       "      <td>5</td>\n",
       "      <td>deathproof</td>\n",
       "    </tr>\n",
       "    <tr>\n",
       "      <th>1</th>\n",
       "      <td>the-social-network</td>\n",
       "      <td>10</td>\n",
       "      <td>deathproof</td>\n",
       "    </tr>\n",
       "    <tr>\n",
       "      <th>2</th>\n",
       "      <td>insidious</td>\n",
       "      <td>10</td>\n",
       "      <td>deathproof</td>\n",
       "    </tr>\n",
       "    <tr>\n",
       "      <th>3</th>\n",
       "      <td>hush-2016</td>\n",
       "      <td>8</td>\n",
       "      <td>deathproof</td>\n",
       "    </tr>\n",
       "    <tr>\n",
       "      <th>4</th>\n",
       "      <td>deadpool</td>\n",
       "      <td>5</td>\n",
       "      <td>deathproof</td>\n",
       "    </tr>\n",
       "  </tbody>\n",
       "</table>\n",
       "</div>"
      ],
      "text/plain": [
       "             movie_id  rating_val     user_id\n",
       "0                mank           5  deathproof\n",
       "1  the-social-network          10  deathproof\n",
       "2           insidious          10  deathproof\n",
       "3           hush-2016           8  deathproof\n",
       "4            deadpool           5  deathproof"
      ]
     },
     "execution_count": 61,
     "metadata": {},
     "output_type": "execute_result"
    }
   ],
   "source": [
    "user_ratings.head()"
   ]
  },
  {
   "cell_type": "markdown",
   "id": "cb86e4ea-a6f4-4d22-85ae-a9d65caf64dd",
   "metadata": {},
   "source": [
    "We have the movie_id of the movie they are rating which matches with movie_id in movies dataset. We have the user_id of the user that rated that movie and the rating_val out of 10 that they gave to the movie.\n",
    "\n",
    "Let's first make sure that all the ratings are in the correct range:"
   ]
  },
  {
   "cell_type": "code",
   "execution_count": 62,
   "id": "181ee958-9fb9-450a-b0b8-e03094d3a8ee",
   "metadata": {},
   "outputs": [
    {
     "name": "stdout",
     "output_type": "stream",
     "text": [
      "Empty DataFrame\n",
      "Columns: [movie_id, rating_val, user_id]\n",
      "Index: []\n"
     ]
    }
   ],
   "source": [
    "invalid_ratings = user_ratings[(user_ratings['rating_val'] < 0) | (user_ratings['rating_val'] > 10)]\n",
    "print(invalid_ratings)\n"
   ]
  },
  {
   "cell_type": "markdown",
   "id": "a0f5248a-4757-487d-818b-6ebafd89f304",
   "metadata": {},
   "source": [
    "All the ratings are within the correct range."
   ]
  },
  {
   "cell_type": "markdown",
   "id": "91c3f0d4",
   "metadata": {},
   "source": [
    "When exploring the movies table we discovered two movies with the same movie_title but different movie_id (and same or almost same release year so we know they are the same movie referenced twice). Let's check if both movie_ids received ratings by our users."
   ]
  },
  {
   "cell_type": "code",
   "execution_count": 63,
   "id": "c070c334",
   "metadata": {},
   "outputs": [
    {
     "name": "stdout",
     "output_type": "stream",
     "text": [
      "Rating count for black-panther:          movie_id  ratings_count\n",
      "97  black-panther           4894\n",
      "Rating count for black-panther-2018:               movie_id  ratings_count\n",
      "98  black-panther-2018           3031\n"
     ]
    }
   ],
   "source": [
    "rating_count = user_ratings.groupby(\"movie_id\")[\"rating_val\"].count()\n",
    "rating_count = rating_count.reset_index(name=\"ratings_count\")\n",
    "\n",
    "print(f\"Rating count for black-panther: {rating_count[rating_count['movie_id'] == 'black-panther']}\")\n",
    "print(f\"Rating count for black-panther-2018: {rating_count[rating_count['movie_id'] == 'black-panther-2018']}\")"
   ]
  },
  {
   "cell_type": "markdown",
   "id": "a3c609f3",
   "metadata": {},
   "source": [
    "We'll consolidate to black-panther-2018 to keep a more unique id."
   ]
  },
  {
   "cell_type": "code",
   "execution_count": 64,
   "id": "ad18a4d4",
   "metadata": {},
   "outputs": [
    {
     "name": "stdout",
     "output_type": "stream",
     "text": [
      "Rating count for ex-machina-2014:             movie_id  ratings_count\n",
      "217  ex-machina-2014           4022\n",
      "Rating count for ex-machina-2015:             movie_id  ratings_count\n",
      "218  ex-machina-2015           3324\n"
     ]
    }
   ],
   "source": [
    "rating_count = user_ratings.groupby(\"movie_id\")[\"rating_val\"].count()\n",
    "rating_count = rating_count.reset_index(name=\"ratings_count\")\n",
    "\n",
    "print(f\"Rating count for ex-machina-2014: {rating_count[rating_count['movie_id'] == 'ex-machina-2014']}\")\n",
    "print(f\"Rating count for ex-machina-2015: {rating_count[rating_count['movie_id'] == 'ex-machina-2015']}\")"
   ]
  },
  {
   "cell_type": "markdown",
   "id": "fa4ebef7",
   "metadata": {},
   "source": [
    "There is a significant number of records for both. A google search tells me that 2015 is the more accurate release date so we will consolidate the records to that year."
   ]
  },
  {
   "cell_type": "markdown",
   "id": "ad90fbff-7496-4376-988c-a841ea8f37f9",
   "metadata": {},
   "source": [
    "There's nothing else to check so let's move onto data cleaning."
   ]
  },
  {
   "cell_type": "markdown",
   "id": "331eabd4-b591-4131-a112-693b6012a093",
   "metadata": {},
   "source": [
    "# Data Cleaning"
   ]
  },
  {
   "cell_type": "markdown",
   "id": "9b1935a2",
   "metadata": {},
   "source": [
    "## Consolidate Duplicated Movies with Different Movie ID"
   ]
  },
  {
   "cell_type": "markdown",
   "id": "26ef040f",
   "metadata": {},
   "source": [
    "First we want to consolidate the duplicated movies to one id. All instances of \"black-panther\" will be changed to \"black-panther-2018\"."
   ]
  },
  {
   "cell_type": "code",
   "execution_count": 65,
   "id": "df36e2d4",
   "metadata": {},
   "outputs": [
    {
     "name": "stdout",
     "output_type": "stream",
     "text": [
      "Ratings for Black Panther: (0, 3)\n",
      "Ratings for Black Panther 2018: (7925, 3)\n"
     ]
    }
   ],
   "source": [
    "user_ratings.loc[user_ratings[\"movie_id\"] == \"black-panther\", \"movie_id\"] = \"black-panther-2018\"\n",
    "\n",
    "black_panther_ratings = user_ratings[user_ratings[\"movie_id\"] == \"black-panther\"]\n",
    "black_panther_2018_ratings = user_ratings[user_ratings[\"movie_id\"] == \"black-panther-2018\"]\n",
    "\n",
    "print(f\"Ratings for Black Panther: {black_panther_ratings.shape}\")\n",
    "print(f\"Ratings for Black Panther 2018: {black_panther_2018_ratings.shape}\")"
   ]
  },
  {
   "cell_type": "markdown",
   "id": "fd6bf160",
   "metadata": {},
   "source": [
    "Now let's change all instances of \"ex-machina-2014\" to \"ex-machina-2015\"."
   ]
  },
  {
   "cell_type": "code",
   "execution_count": 66,
   "id": "83a194f4",
   "metadata": {},
   "outputs": [
    {
     "name": "stdout",
     "output_type": "stream",
     "text": [
      "Ratings for Ex Machina 2014: (0, 3)\n",
      "Ratings for Ex Machina 2015: (7346, 3)\n"
     ]
    }
   ],
   "source": [
    "user_ratings.loc[user_ratings[\"movie_id\"] == \"ex-machina-2014\", \"movie_id\"] = \"ex-machina-2015\"\n",
    "\n",
    "ex_machina_2014_ratings = user_ratings[user_ratings[\"movie_id\"] == \"ex-machina-2014\"]\n",
    "ex_machina_2015_ratings = user_ratings[user_ratings[\"movie_id\"] == \"ex-machina-2015\"]\n",
    "\n",
    "print(f\"Ratings for Ex Machina 2014: {ex_machina_2014_ratings.shape}\")\n",
    "print(f\"Ratings for Ex Machina 2015: {ex_machina_2015_ratings.shape}\")"
   ]
  },
  {
   "cell_type": "markdown",
   "id": "c6a706ff",
   "metadata": {},
   "source": [
    "Now I'll check if any duplicates have been introduced (same user_id rating both movie_ids)."
   ]
  },
  {
   "cell_type": "code",
   "execution_count": 67,
   "id": "5b8a53a0",
   "metadata": {},
   "outputs": [
    {
     "data": {
      "text/plain": [
       "5551"
      ]
     },
     "execution_count": 67,
     "metadata": {},
     "output_type": "execute_result"
    }
   ],
   "source": [
    "duplicates = user_ratings[user_ratings.duplicated()]\n",
    "\n",
    "num_duplicates = duplicates.shape[0]\n",
    "num_duplicates"
   ]
  },
  {
   "cell_type": "markdown",
   "id": "7ca559d6",
   "metadata": {},
   "source": [
    "Let's drop these duplicates."
   ]
  },
  {
   "cell_type": "code",
   "execution_count": 68,
   "id": "03ab8e1f",
   "metadata": {},
   "outputs": [],
   "source": [
    "user_ratings = user_ratings.drop_duplicates()"
   ]
  },
  {
   "cell_type": "markdown",
   "id": "bdbceaf1",
   "metadata": {},
   "source": [
    "Now let's check if there any users have given the same movie different ratings."
   ]
  },
  {
   "cell_type": "code",
   "execution_count": 69,
   "id": "1fd5dede",
   "metadata": {},
   "outputs": [
    {
     "data": {
      "application/vnd.microsoft.datawrangler.viewer.v0+json": {
       "columns": [
        {
         "name": "index",
         "rawType": "int64",
         "type": "integer"
        },
        {
         "name": "movie_id",
         "rawType": "object",
         "type": "string"
        },
        {
         "name": "rating_val",
         "rawType": "int64",
         "type": "integer"
        },
        {
         "name": "user_id",
         "rawType": "object",
         "type": "string"
        }
       ],
       "ref": "19cedb32-e22d-481c-a5e6-dd4dead32c3a",
       "rows": [
        [
         "1528369",
         "black-panther-2018",
         "7",
         "007filmreviwer"
        ],
        [
         "1599902",
         "black-panther-2018",
         "2",
         "007filmreviwer"
        ],
        [
         "971380",
         "black-panther-2018",
         "5",
         "_movieman_"
        ],
        [
         "1576623",
         "black-panther-2018",
         "6",
         "_movieman_"
        ],
        [
         "1547536",
         "black-panther-2018",
         "5",
         "admiringcinema"
        ],
        [
         "1600978",
         "black-panther-2018",
         "6",
         "admiringcinema"
        ],
        [
         "392628",
         "black-panther-2018",
         "5",
         "alexkar"
        ],
        [
         "1560151",
         "black-panther-2018",
         "8",
         "alexkar"
        ],
        [
         "2286641",
         "ex-machina-2015",
         "6",
         "alexllewellyn"
        ],
        [
         "2343275",
         "ex-machina-2015",
         "4",
         "alexllewellyn"
        ],
        [
         "1132144",
         "black-panther-2018",
         "10",
         "alexlovendahl"
        ],
        [
         "1583399",
         "black-panther-2018",
         "8",
         "alexlovendahl"
        ],
        [
         "1482631",
         "black-panther-2018",
         "4",
         "alexmod1"
        ],
        [
         "1598149",
         "black-panther-2018",
         "3",
         "alexmod1"
        ],
        [
         "277069",
         "black-panther-2018",
         "9",
         "alicjas"
        ],
        [
         "1595834",
         "black-panther-2018",
         "8",
         "alicjas"
        ],
        [
         "610335",
         "black-panther-2018",
         "8",
         "amovieguy"
        ],
        [
         "1567092",
         "black-panther-2018",
         "10",
         "amovieguy"
        ],
        [
         "19748",
         "black-panther-2018",
         "6",
         "arkhamoutlaw10"
        ],
        [
         "1559071",
         "black-panther-2018",
         "4",
         "arkhamoutlaw10"
        ],
        [
         "84093",
         "black-panther-2018",
         "6",
         "ashmatxx"
        ],
        [
         "1588302",
         "black-panther-2018",
         "7",
         "ashmatxx"
        ],
        [
         "732898",
         "black-panther-2018",
         "9",
         "aya"
        ],
        [
         "1569677",
         "black-panther-2018",
         "7",
         "aya"
        ],
        [
         "1064684",
         "black-panther-2018",
         "6",
         "azorianjoey"
        ],
        [
         "1579996",
         "black-panther-2018",
         "7",
         "azorianjoey"
        ],
        [
         "1064390",
         "ex-machina-2015",
         "8",
         "azorianjoey"
        ],
        [
         "2593831",
         "ex-machina-2015",
         "9",
         "azorianjoey"
        ],
        [
         "556062",
         "black-panther-2018",
         "8",
         "benlane"
        ],
        [
         "1565402",
         "black-panther-2018",
         "6",
         "benlane"
        ],
        [
         "177319",
         "black-panther-2018",
         "6",
         "benmatthewempey"
        ],
        [
         "1591441",
         "black-panther-2018",
         "5",
         "benmatthewempey"
        ],
        [
         "766441",
         "black-panther-2018",
         "9",
         "billbria"
        ],
        [
         "1570978",
         "black-panther-2018",
         "10",
         "billbria"
        ],
        [
         "1071647",
         "black-panther-2018",
         "8",
         "billymiddle"
        ],
        [
         "1581298",
         "black-panther-2018",
         "7",
         "billymiddle"
        ],
        [
         "1536539",
         "black-panther-2018",
         "7",
         "binoconnor"
        ],
        [
         "1600546",
         "black-panther-2018",
         "8",
         "binoconnor"
        ],
        [
         "910326",
         "black-panther-2018",
         "6",
         "bottomlesspit"
        ],
        [
         "1576564",
         "black-panther-2018",
         "5",
         "bottomlesspit"
        ],
        [
         "1634137",
         "ex-machina-2015",
         "10",
         "bowlognese"
        ],
        [
         "2463147",
         "ex-machina-2015",
         "8",
         "bowlognese"
        ],
        [
         "1150163",
         "black-panther-2018",
         "8",
         "brendancassidy"
        ],
        [
         "1583829",
         "black-panther-2018",
         "7",
         "brendancassidy"
        ],
        [
         "82167",
         "black-panther-2018",
         "7",
         "brianformo"
        ],
        [
         "1588265",
         "black-panther-2018",
         "6",
         "brianformo"
        ],
        [
         "613317",
         "black-panther-2018",
         "5",
         "brifilms"
        ],
        [
         "1568057",
         "black-panther-2018",
         "6",
         "brifilms"
        ],
        [
         "411303",
         "black-panther-2018",
         "6",
         "brockferlaak"
        ],
        [
         "1562028",
         "black-panther-2018",
         "4",
         "brockferlaak"
        ]
       ],
       "shape": {
        "columns": 3,
        "rows": 382
       }
      },
      "text/html": [
       "<div>\n",
       "<style scoped>\n",
       "    .dataframe tbody tr th:only-of-type {\n",
       "        vertical-align: middle;\n",
       "    }\n",
       "\n",
       "    .dataframe tbody tr th {\n",
       "        vertical-align: top;\n",
       "    }\n",
       "\n",
       "    .dataframe thead th {\n",
       "        text-align: right;\n",
       "    }\n",
       "</style>\n",
       "<table border=\"1\" class=\"dataframe\">\n",
       "  <thead>\n",
       "    <tr style=\"text-align: right;\">\n",
       "      <th></th>\n",
       "      <th>movie_id</th>\n",
       "      <th>rating_val</th>\n",
       "      <th>user_id</th>\n",
       "    </tr>\n",
       "  </thead>\n",
       "  <tbody>\n",
       "    <tr>\n",
       "      <th>1528369</th>\n",
       "      <td>black-panther-2018</td>\n",
       "      <td>7</td>\n",
       "      <td>007filmreviwer</td>\n",
       "    </tr>\n",
       "    <tr>\n",
       "      <th>1599902</th>\n",
       "      <td>black-panther-2018</td>\n",
       "      <td>2</td>\n",
       "      <td>007filmreviwer</td>\n",
       "    </tr>\n",
       "    <tr>\n",
       "      <th>971380</th>\n",
       "      <td>black-panther-2018</td>\n",
       "      <td>5</td>\n",
       "      <td>_movieman_</td>\n",
       "    </tr>\n",
       "    <tr>\n",
       "      <th>1576623</th>\n",
       "      <td>black-panther-2018</td>\n",
       "      <td>6</td>\n",
       "      <td>_movieman_</td>\n",
       "    </tr>\n",
       "    <tr>\n",
       "      <th>1547536</th>\n",
       "      <td>black-panther-2018</td>\n",
       "      <td>5</td>\n",
       "      <td>admiringcinema</td>\n",
       "    </tr>\n",
       "    <tr>\n",
       "      <th>...</th>\n",
       "      <td>...</td>\n",
       "      <td>...</td>\n",
       "      <td>...</td>\n",
       "    </tr>\n",
       "    <tr>\n",
       "      <th>2440561</th>\n",
       "      <td>ex-machina-2015</td>\n",
       "      <td>8</td>\n",
       "      <td>yondu4</td>\n",
       "    </tr>\n",
       "    <tr>\n",
       "      <th>1671144</th>\n",
       "      <td>ex-machina-2015</td>\n",
       "      <td>8</td>\n",
       "      <td>zaydentomson</td>\n",
       "    </tr>\n",
       "    <tr>\n",
       "      <th>2464085</th>\n",
       "      <td>ex-machina-2015</td>\n",
       "      <td>9</td>\n",
       "      <td>zaydentomson</td>\n",
       "    </tr>\n",
       "    <tr>\n",
       "      <th>644969</th>\n",
       "      <td>black-panther-2018</td>\n",
       "      <td>8</td>\n",
       "      <td>zegan</td>\n",
       "    </tr>\n",
       "    <tr>\n",
       "      <th>1567717</th>\n",
       "      <td>black-panther-2018</td>\n",
       "      <td>7</td>\n",
       "      <td>zegan</td>\n",
       "    </tr>\n",
       "  </tbody>\n",
       "</table>\n",
       "<p>382 rows × 3 columns</p>\n",
       "</div>"
      ],
      "text/plain": [
       "                   movie_id  rating_val         user_id\n",
       "1528369  black-panther-2018           7  007filmreviwer\n",
       "1599902  black-panther-2018           2  007filmreviwer\n",
       "971380   black-panther-2018           5      _movieman_\n",
       "1576623  black-panther-2018           6      _movieman_\n",
       "1547536  black-panther-2018           5  admiringcinema\n",
       "...                     ...         ...             ...\n",
       "2440561     ex-machina-2015           8          yondu4\n",
       "1671144     ex-machina-2015           8    zaydentomson\n",
       "2464085     ex-machina-2015           9    zaydentomson\n",
       "644969   black-panther-2018           8           zegan\n",
       "1567717  black-panther-2018           7           zegan\n",
       "\n",
       "[382 rows x 3 columns]"
      ]
     },
     "execution_count": 69,
     "metadata": {},
     "output_type": "execute_result"
    }
   ],
   "source": [
    "duplicates = user_ratings[user_ratings.duplicated(subset=[\"user_id\", \"movie_id\"], keep=False)]\n",
    "duplicates = duplicates.sort_values(by=[\"user_id\", \"movie_id\"])\n",
    "\n",
    "duplicates"
   ]
  },
  {
   "cell_type": "markdown",
   "id": "fc948868",
   "metadata": {},
   "source": [
    "We can see that there are some instances of this happening. Let's consolidate their rating for the movie by finding the average of their ratings."
   ]
  },
  {
   "cell_type": "code",
   "execution_count": 70,
   "id": "d822d7b0",
   "metadata": {},
   "outputs": [
    {
     "name": "stdout",
     "output_type": "stream",
     "text": [
      "                  movie_id         user_id  rating_val\n",
      "289116  black-panther-2018  007filmreviwer         4.5\n"
     ]
    }
   ],
   "source": [
    "user_ratings = (\n",
    "    user_ratings.groupby([\"movie_id\", \"user_id\"], as_index=False)[\"rating_val\"]\n",
    "      .mean()\n",
    ")\n",
    "\n",
    "# Check a record that was previously affected\n",
    "record = user_ratings[\n",
    "    (user_ratings[\"movie_id\"] == \"black-panther-2018\") & \n",
    "    (user_ratings[\"user_id\"] == \"007filmreviwer\")\n",
    "]\n",
    "\n",
    "print(record)\n"
   ]
  },
  {
   "cell_type": "markdown",
   "id": "3a422710",
   "metadata": {},
   "source": [
    "Let's check that all the duplicates are gone."
   ]
  },
  {
   "cell_type": "code",
   "execution_count": 71,
   "id": "eba3a3d7",
   "metadata": {},
   "outputs": [
    {
     "data": {
      "application/vnd.microsoft.datawrangler.viewer.v0+json": {
       "columns": [
        {
         "name": "index",
         "rawType": "int64",
         "type": "integer"
        },
        {
         "name": "movie_id",
         "rawType": "object",
         "type": "string"
        },
        {
         "name": "user_id",
         "rawType": "object",
         "type": "string"
        },
        {
         "name": "rating_val",
         "rawType": "float64",
         "type": "float"
        }
       ],
       "ref": "9ecf0b96-9d87-498a-94ae-34b1fd164c22",
       "rows": [],
       "shape": {
        "columns": 3,
        "rows": 0
       }
      },
      "text/html": [
       "<div>\n",
       "<style scoped>\n",
       "    .dataframe tbody tr th:only-of-type {\n",
       "        vertical-align: middle;\n",
       "    }\n",
       "\n",
       "    .dataframe tbody tr th {\n",
       "        vertical-align: top;\n",
       "    }\n",
       "\n",
       "    .dataframe thead th {\n",
       "        text-align: right;\n",
       "    }\n",
       "</style>\n",
       "<table border=\"1\" class=\"dataframe\">\n",
       "  <thead>\n",
       "    <tr style=\"text-align: right;\">\n",
       "      <th></th>\n",
       "      <th>movie_id</th>\n",
       "      <th>user_id</th>\n",
       "      <th>rating_val</th>\n",
       "    </tr>\n",
       "  </thead>\n",
       "  <tbody>\n",
       "  </tbody>\n",
       "</table>\n",
       "</div>"
      ],
      "text/plain": [
       "Empty DataFrame\n",
       "Columns: [movie_id, user_id, rating_val]\n",
       "Index: []"
      ]
     },
     "execution_count": 71,
     "metadata": {},
     "output_type": "execute_result"
    }
   ],
   "source": [
    "duplicates = user_ratings[user_ratings.duplicated(subset=[\"user_id\", \"movie_id\"], keep=False)]\n",
    "duplicates = duplicates.sort_values(by=[\"user_id\", \"movie_id\"])\n",
    "\n",
    "duplicates"
   ]
  },
  {
   "cell_type": "markdown",
   "id": "d3368034",
   "metadata": {},
   "source": [
    "## Anonymise User ID"
   ]
  },
  {
   "cell_type": "markdown",
   "id": "838d1e6e-e82e-4b2f-bd82-cfea5e4c2872",
   "metadata": {},
   "source": [
    "There is not much else to clean in this dataset. However, it's good practice to anonymise the user_ids. Let's change them to serialised numbers so that we can still track different users while keeping their identities anonymous."
   ]
  },
  {
   "cell_type": "code",
   "execution_count": 72,
   "id": "9b5bf518-3ef1-405a-a681-6390d4eae204",
   "metadata": {},
   "outputs": [
    {
     "name": "stdout",
     "output_type": "stream",
     "text": [
      "Unique users: 7449\n",
      "Unique users after mapping: 7449\n",
      "[   1    2    3 ... 7447 7448 7449]\n"
     ]
    }
   ],
   "source": [
    "# Check unique users\n",
    "print(f\"Unique users: {user_ratings['user_id'].nunique()}\")\n",
    "\n",
    "user_mapping = {uid: i for i, uid in enumerate(user_ratings['user_id'].unique(), start=1)}\n",
    "\n",
    "user_ratings['user_id'] = user_ratings['user_id'].map(user_mapping)\n",
    "print(f\"Unique users after mapping: {user_ratings['user_id'].nunique()}\")\n",
    "\n",
    "print(user_ratings['user_id'].unique())"
   ]
  },
  {
   "cell_type": "markdown",
   "id": "f45b7c0e-846c-4ad1-98cd-42db14012698",
   "metadata": {},
   "source": [
    "We've successfully mapped the user_ids to an anonymised series and retained the user count."
   ]
  },
  {
   "cell_type": "code",
   "execution_count": 73,
   "id": "b5086ba8",
   "metadata": {},
   "outputs": [],
   "source": [
    "user_ratings.reset_index(drop=True, inplace=True)"
   ]
  },
  {
   "cell_type": "markdown",
   "id": "ed78b13a-9c20-44ff-b59c-a18ee45ba402",
   "metadata": {},
   "source": [
    "# Save the cleaned data"
   ]
  },
  {
   "cell_type": "markdown",
   "id": "bacda6d3-bfe7-4ae7-9c8a-8a8a56e97045",
   "metadata": {},
   "source": [
    "For testing purposes in the pipeline, it makes sense for us to export the cleaned DataFrame to a CSV file.  This will allow us to use the cleaned data in the pipeline without having to run the cleaning steps again."
   ]
  },
  {
   "cell_type": "code",
   "execution_count": 74,
   "id": "b906be80-3b40-44fb-9edf-e2c70698c903",
   "metadata": {},
   "outputs": [],
   "source": [
    "user_ratings.to_csv(\n",
    "    \"../tests/test_data/expected_user_ratings_clean_results.csv\", index=False\n",
    ")"
   ]
  }
 ],
 "metadata": {
  "kernelspec": {
   "display_name": ".venv",
   "language": "python",
   "name": "python3"
  },
  "language_info": {
   "codemirror_mode": {
    "name": "ipython",
    "version": 3
   },
   "file_extension": ".py",
   "mimetype": "text/x-python",
   "name": "python",
   "nbconvert_exporter": "python",
   "pygments_lexer": "ipython3",
   "version": "3.11.0"
  }
 },
 "nbformat": 4,
 "nbformat_minor": 5
}
