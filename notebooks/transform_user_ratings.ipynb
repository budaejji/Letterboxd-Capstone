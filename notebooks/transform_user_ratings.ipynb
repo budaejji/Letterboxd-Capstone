{
 "cells": [
  {
   "cell_type": "markdown",
   "id": "213a1070-78c0-4b13-925d-c34253e317d1",
   "metadata": {},
   "source": [
    "# Exploratory Data Analysis of User Ratings"
   ]
  },
  {
   "cell_type": "code",
   "execution_count": 52,
   "id": "2d5a461e-a04b-4dd1-9cb2-44e5691b8f5c",
   "metadata": {},
   "outputs": [],
   "source": [
    "import pandas as pd"
   ]
  },
  {
   "cell_type": "code",
   "execution_count": 60,
   "id": "6f9f84ca-f611-4fc9-bb8a-599abc49aac7",
   "metadata": {},
   "outputs": [
    {
     "name": "stdout",
     "output_type": "stream",
     "text": [
      "<class 'pandas.core.frame.DataFrame'>\n",
      "RangeIndex: 2603343 entries, 0 to 2603342\n",
      "Data columns (total 3 columns):\n",
      " #   Column      Dtype \n",
      "---  ------      ----- \n",
      " 0   movie_id    object\n",
      " 1   rating_val  int64 \n",
      " 2   user_id     object\n",
      "dtypes: int64(1), object(2)\n",
      "memory usage: 59.6+ MB\n"
     ]
    }
   ],
   "source": [
    "user_ratings = pd.read_csv('../data/raw/unclean_user_ratings.csv')\n",
    "\n",
    "# Display some information about the transactions DataFrame\n",
    "user_ratings.info()"
   ]
  },
  {
   "cell_type": "markdown",
   "id": "b60cad21-ac4f-47f5-a589-6c5bf0249306",
   "metadata": {},
   "source": [
    "Movie_id and user_id have data type object and are not explicit about what's in them. I'll first check if there's any mismatched data types."
   ]
  },
  {
   "cell_type": "code",
   "execution_count": 55,
   "id": "52ce449a-17ee-427b-a143-ff9384b93c7e",
   "metadata": {},
   "outputs": [
    {
     "name": "stdout",
     "output_type": "stream",
     "text": [
      "movie_id types: [<class 'str'>]\n",
      "user_id types: [<class 'str'>]\n"
     ]
    }
   ],
   "source": [
    "print(f\"movie_id types: {user_ratings['movie_id'].apply(type).unique()}\")\n",
    "print(f\"user_id types: {user_ratings['user_id'].apply(type).unique()}\")"
   ]
  },
  {
   "cell_type": "markdown",
   "id": "bcd15f03-47d2-4760-adf0-de0930ebfa02",
   "metadata": {},
   "source": [
    "They just contain strings which is expected so we can move on. Checking if any rows have any missing values:"
   ]
  },
  {
   "cell_type": "code",
   "execution_count": 56,
   "id": "3f4a2ba6-eed8-4ce9-933f-7657e16d3bc4",
   "metadata": {},
   "outputs": [
    {
     "data": {
      "text/plain": [
       "np.int64(0)"
      ]
     },
     "execution_count": 56,
     "metadata": {},
     "output_type": "execute_result"
    }
   ],
   "source": [
    "user_ratings.isnull().any(axis=1).sum()"
   ]
  },
  {
   "cell_type": "markdown",
   "id": "aecb308e-6156-41d6-b5a9-6c45fd82da55",
   "metadata": {},
   "source": [
    "There are no records with missing values. Let's take a look at the data to get an idea of what we want to do:"
   ]
  },
  {
   "cell_type": "code",
   "execution_count": 57,
   "id": "029b47a8-e6d6-44e5-818a-cd7049c46478",
   "metadata": {},
   "outputs": [
    {
     "data": {
      "text/html": [
       "<div>\n",
       "<style scoped>\n",
       "    .dataframe tbody tr th:only-of-type {\n",
       "        vertical-align: middle;\n",
       "    }\n",
       "\n",
       "    .dataframe tbody tr th {\n",
       "        vertical-align: top;\n",
       "    }\n",
       "\n",
       "    .dataframe thead th {\n",
       "        text-align: right;\n",
       "    }\n",
       "</style>\n",
       "<table border=\"1\" class=\"dataframe\">\n",
       "  <thead>\n",
       "    <tr style=\"text-align: right;\">\n",
       "      <th></th>\n",
       "      <th>movie_id</th>\n",
       "      <th>rating_val</th>\n",
       "      <th>user_id</th>\n",
       "    </tr>\n",
       "  </thead>\n",
       "  <tbody>\n",
       "    <tr>\n",
       "      <th>0</th>\n",
       "      <td>mank</td>\n",
       "      <td>5</td>\n",
       "      <td>deathproof</td>\n",
       "    </tr>\n",
       "    <tr>\n",
       "      <th>1</th>\n",
       "      <td>the-social-network</td>\n",
       "      <td>10</td>\n",
       "      <td>deathproof</td>\n",
       "    </tr>\n",
       "    <tr>\n",
       "      <th>2</th>\n",
       "      <td>insidious</td>\n",
       "      <td>10</td>\n",
       "      <td>deathproof</td>\n",
       "    </tr>\n",
       "    <tr>\n",
       "      <th>3</th>\n",
       "      <td>hush-2016</td>\n",
       "      <td>8</td>\n",
       "      <td>deathproof</td>\n",
       "    </tr>\n",
       "    <tr>\n",
       "      <th>4</th>\n",
       "      <td>deadpool</td>\n",
       "      <td>5</td>\n",
       "      <td>deathproof</td>\n",
       "    </tr>\n",
       "  </tbody>\n",
       "</table>\n",
       "</div>"
      ],
      "text/plain": [
       "             movie_id  rating_val     user_id\n",
       "0                mank           5  deathproof\n",
       "1  the-social-network          10  deathproof\n",
       "2           insidious          10  deathproof\n",
       "3           hush-2016           8  deathproof\n",
       "4            deadpool           5  deathproof"
      ]
     },
     "execution_count": 57,
     "metadata": {},
     "output_type": "execute_result"
    }
   ],
   "source": [
    "user_ratings.head()"
   ]
  },
  {
   "cell_type": "markdown",
   "id": "cb86e4ea-a6f4-4d22-85ae-a9d65caf64dd",
   "metadata": {},
   "source": [
    "We have the movie_id of the movie they are rating which matches with movie_id in movies dataset. We have the user_id of the user that rated that movie and the rating_val out of 10 that they gave to the movie.\n",
    "\n",
    "Let's first make sure that all the ratings are in the correct range:"
   ]
  },
  {
   "cell_type": "code",
   "execution_count": 58,
   "id": "181ee958-9fb9-450a-b0b8-e03094d3a8ee",
   "metadata": {},
   "outputs": [
    {
     "name": "stdout",
     "output_type": "stream",
     "text": [
      "Empty DataFrame\n",
      "Columns: [movie_id, rating_val, user_id]\n",
      "Index: []\n"
     ]
    }
   ],
   "source": [
    "invalid_ratings = user_ratings[(user_ratings['rating_val'] < 0) | (user_ratings['rating_val'] > 10)]\n",
    "print(invalid_ratings)\n"
   ]
  },
  {
   "cell_type": "markdown",
   "id": "a0f5248a-4757-487d-818b-6ebafd89f304",
   "metadata": {},
   "source": [
    "All the ratings are within the correct range."
   ]
  },
  {
   "cell_type": "markdown",
   "id": "ad90fbff-7496-4376-988c-a841ea8f37f9",
   "metadata": {},
   "source": [
    "There's nothing else to check so let's move onto data cleaning."
   ]
  },
  {
   "cell_type": "markdown",
   "id": "331eabd4-b591-4131-a112-693b6012a093",
   "metadata": {},
   "source": [
    "# Data Cleaning"
   ]
  },
  {
   "cell_type": "markdown",
   "id": "838d1e6e-e82e-4b2f-bd82-cfea5e4c2872",
   "metadata": {},
   "source": [
    "There is not much to clean in this dataset. However, it's good practice to anonymise the user_ids. Let's change them to serialised numbers so that we can still track different users while keeping their identities anonymous."
   ]
  },
  {
   "cell_type": "code",
   "execution_count": 64,
   "id": "9b5bf518-3ef1-405a-a681-6390d4eae204",
   "metadata": {},
   "outputs": [
    {
     "name": "stdout",
     "output_type": "stream",
     "text": [
      "Unique users: 7449\n",
      "Unique users after mapping: 7449\n",
      "[   1    2    3 ... 7447 7448 7449]\n"
     ]
    }
   ],
   "source": [
    "# Check unique users\n",
    "print(f\"Unique users: {user_ratings['user_id'].nunique()}\")\n",
    "\n",
    "user_mapping = {uid: i for i, uid in enumerate(user_ratings['user_id'].unique(), start=1)}\n",
    "\n",
    "user_ratings['user_id'] = user_ratings['user_id'].map(user_mapping)\n",
    "print(f\"Unique users after mapping: {user_ratings['user_id'].nunique()}\")\n",
    "\n",
    "print(user_ratings['user_id'].unique())"
   ]
  },
  {
   "cell_type": "markdown",
   "id": "f45b7c0e-846c-4ad1-98cd-42db14012698",
   "metadata": {},
   "source": [
    "We've successfully mapped the user_ids to an anonymised series and retained the user count."
   ]
  },
  {
   "cell_type": "code",
   "execution_count": null,
   "id": "b5086ba8",
   "metadata": {},
   "outputs": [],
   "source": [
    "user_ratings.reset_index(drop=True, inplace=True)"
   ]
  },
  {
   "cell_type": "markdown",
   "id": "ed78b13a-9c20-44ff-b59c-a18ee45ba402",
   "metadata": {},
   "source": [
    "# Save the cleaned data"
   ]
  },
  {
   "cell_type": "markdown",
   "id": "bacda6d3-bfe7-4ae7-9c8a-8a8a56e97045",
   "metadata": {},
   "source": [
    "For testing purposes in the pipeline, it makes sense for us to export the cleaned DataFrame to a CSV file.  This will allow us to use the cleaned data in the pipeline without having to run the cleaning steps again."
   ]
  },
  {
   "cell_type": "code",
   "execution_count": 67,
   "id": "b906be80-3b40-44fb-9edf-e2c70698c903",
   "metadata": {},
   "outputs": [],
   "source": [
    "user_ratings.to_csv(\n",
    "    \"../tests/test_data/expected_user_ratings_clean_results.csv\", index=False\n",
    ")"
   ]
  }
 ],
 "metadata": {
  "kernelspec": {
   "display_name": "Python 3 (ipykernel)",
   "language": "python",
   "name": "python3"
  },
  "language_info": {
   "codemirror_mode": {
    "name": "ipython",
    "version": 3
   },
   "file_extension": ".py",
   "mimetype": "text/x-python",
   "name": "python",
   "nbconvert_exporter": "python",
   "pygments_lexer": "ipython3",
   "version": "3.11.0"
  }
 },
 "nbformat": 4,
 "nbformat_minor": 5
}
