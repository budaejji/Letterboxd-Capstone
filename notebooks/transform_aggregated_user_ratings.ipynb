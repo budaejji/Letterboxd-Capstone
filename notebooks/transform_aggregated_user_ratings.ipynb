{
 "cells": [
  {
   "cell_type": "markdown",
   "id": "810eefea",
   "metadata": {},
   "source": [
    "# Create Aggregate Table of User Rating Data"
   ]
  },
  {
   "cell_type": "markdown",
   "id": "1f58d3c2",
   "metadata": {},
   "source": [
    "Finally, I want to create a new table to store the average rating and total ratings of each user_id."
   ]
  },
  {
   "cell_type": "markdown",
   "id": "e7d2c319",
   "metadata": {},
   "source": [
    "## Find Average Rating of Each User ID"
   ]
  },
  {
   "cell_type": "code",
   "execution_count": 2,
   "id": "011b1bed",
   "metadata": {},
   "outputs": [],
   "source": [
    "import pandas as pd"
   ]
  },
  {
   "cell_type": "code",
   "execution_count": 3,
   "id": "db9dfdaa",
   "metadata": {},
   "outputs": [],
   "source": [
    "user_ratings = pd.read_csv(\n",
    "    \"../tests/test_data/expected_user_ratings_clean_results.csv\"\n",
    ")"
   ]
  },
  {
   "cell_type": "code",
   "execution_count": 4,
   "id": "dc040325",
   "metadata": {},
   "outputs": [
    {
     "data": {
      "application/vnd.microsoft.datawrangler.viewer.v0+json": {
       "columns": [
        {
         "name": "index",
         "rawType": "int64",
         "type": "integer"
        },
        {
         "name": "user_id",
         "rawType": "int64",
         "type": "integer"
        },
        {
         "name": "user_average_rating",
         "rawType": "float64",
         "type": "float"
        }
       ],
       "ref": "0f2a9675-700e-4506-860f-5f7cf57ccc93",
       "rows": [
        [
         "0",
         "1",
         "7.59"
        ],
        [
         "1",
         "2",
         "7.38"
        ],
        [
         "2",
         "3",
         "8.48"
        ],
        [
         "3",
         "4",
         "6.83"
        ],
        [
         "4",
         "5",
         "7.54"
        ]
       ],
       "shape": {
        "columns": 2,
        "rows": 5
       }
      },
      "text/html": [
       "<div>\n",
       "<style scoped>\n",
       "    .dataframe tbody tr th:only-of-type {\n",
       "        vertical-align: middle;\n",
       "    }\n",
       "\n",
       "    .dataframe tbody tr th {\n",
       "        vertical-align: top;\n",
       "    }\n",
       "\n",
       "    .dataframe thead th {\n",
       "        text-align: right;\n",
       "    }\n",
       "</style>\n",
       "<table border=\"1\" class=\"dataframe\">\n",
       "  <thead>\n",
       "    <tr style=\"text-align: right;\">\n",
       "      <th></th>\n",
       "      <th>user_id</th>\n",
       "      <th>user_average_rating</th>\n",
       "    </tr>\n",
       "  </thead>\n",
       "  <tbody>\n",
       "    <tr>\n",
       "      <th>0</th>\n",
       "      <td>1</td>\n",
       "      <td>7.59</td>\n",
       "    </tr>\n",
       "    <tr>\n",
       "      <th>1</th>\n",
       "      <td>2</td>\n",
       "      <td>7.38</td>\n",
       "    </tr>\n",
       "    <tr>\n",
       "      <th>2</th>\n",
       "      <td>3</td>\n",
       "      <td>8.48</td>\n",
       "    </tr>\n",
       "    <tr>\n",
       "      <th>3</th>\n",
       "      <td>4</td>\n",
       "      <td>6.83</td>\n",
       "    </tr>\n",
       "    <tr>\n",
       "      <th>4</th>\n",
       "      <td>5</td>\n",
       "      <td>7.54</td>\n",
       "    </tr>\n",
       "  </tbody>\n",
       "</table>\n",
       "</div>"
      ],
      "text/plain": [
       "   user_id  user_average_rating\n",
       "0        1                 7.59\n",
       "1        2                 7.38\n",
       "2        3                 8.48\n",
       "3        4                 6.83\n",
       "4        5                 7.54"
      ]
     },
     "execution_count": 4,
     "metadata": {},
     "output_type": "execute_result"
    }
   ],
   "source": [
    "user_average_rating = user_ratings.groupby(\"user_id\")[\"rating_val\"].mean().reset_index()\n",
    "user_average_rating.rename(columns={\"rating_val\": \"user_average_rating\"}, inplace=True)\n",
    "\n",
    "user_average_rating[\"user_average_rating\"] = user_average_rating[\"user_average_rating\"].round(2)\n",
    "\n",
    "user_average_rating.shape\n",
    "user_average_rating.head()"
   ]
  },
  {
   "cell_type": "markdown",
   "id": "f6aa5a91",
   "metadata": {},
   "source": [
    "## Find Rating Count of Each User ID"
   ]
  },
  {
   "cell_type": "code",
   "execution_count": 5,
   "id": "b4a19319",
   "metadata": {},
   "outputs": [
    {
     "data": {
      "application/vnd.microsoft.datawrangler.viewer.v0+json": {
       "columns": [
        {
         "name": "index",
         "rawType": "int64",
         "type": "integer"
        },
        {
         "name": "user_id",
         "rawType": "int64",
         "type": "integer"
        },
        {
         "name": "rating_count",
         "rawType": "int64",
         "type": "integer"
        }
       ],
       "ref": "78bd63d3-9c4a-4581-8fcb-0db8dee0d958",
       "rows": [
        [
         "0",
         "1",
         "788"
        ],
        [
         "1",
         "2",
         "142"
        ],
        [
         "2",
         "3",
         "123"
        ],
        [
         "3",
         "4",
         "580"
        ],
        [
         "4",
         "5",
         "257"
        ]
       ],
       "shape": {
        "columns": 2,
        "rows": 5
       }
      },
      "text/html": [
       "<div>\n",
       "<style scoped>\n",
       "    .dataframe tbody tr th:only-of-type {\n",
       "        vertical-align: middle;\n",
       "    }\n",
       "\n",
       "    .dataframe tbody tr th {\n",
       "        vertical-align: top;\n",
       "    }\n",
       "\n",
       "    .dataframe thead th {\n",
       "        text-align: right;\n",
       "    }\n",
       "</style>\n",
       "<table border=\"1\" class=\"dataframe\">\n",
       "  <thead>\n",
       "    <tr style=\"text-align: right;\">\n",
       "      <th></th>\n",
       "      <th>user_id</th>\n",
       "      <th>rating_count</th>\n",
       "    </tr>\n",
       "  </thead>\n",
       "  <tbody>\n",
       "    <tr>\n",
       "      <th>0</th>\n",
       "      <td>1</td>\n",
       "      <td>788</td>\n",
       "    </tr>\n",
       "    <tr>\n",
       "      <th>1</th>\n",
       "      <td>2</td>\n",
       "      <td>142</td>\n",
       "    </tr>\n",
       "    <tr>\n",
       "      <th>2</th>\n",
       "      <td>3</td>\n",
       "      <td>123</td>\n",
       "    </tr>\n",
       "    <tr>\n",
       "      <th>3</th>\n",
       "      <td>4</td>\n",
       "      <td>580</td>\n",
       "    </tr>\n",
       "    <tr>\n",
       "      <th>4</th>\n",
       "      <td>5</td>\n",
       "      <td>257</td>\n",
       "    </tr>\n",
       "  </tbody>\n",
       "</table>\n",
       "</div>"
      ],
      "text/plain": [
       "   user_id  rating_count\n",
       "0        1           788\n",
       "1        2           142\n",
       "2        3           123\n",
       "3        4           580\n",
       "4        5           257"
      ]
     },
     "execution_count": 5,
     "metadata": {},
     "output_type": "execute_result"
    }
   ],
   "source": [
    "user_rating_count = user_ratings.groupby(\"user_id\").size().reset_index(name=\"rating_count\")\n",
    "\n",
    "user_rating_count.head()"
   ]
  },
  {
   "cell_type": "markdown",
   "id": "1ce1399d",
   "metadata": {},
   "source": [
    "### Merge these two DataFrames into one"
   ]
  },
  {
   "cell_type": "code",
   "execution_count": 8,
   "id": "635a005b",
   "metadata": {},
   "outputs": [
    {
     "data": {
      "text/plain": [
       "(7449, 3)"
      ]
     },
     "execution_count": 8,
     "metadata": {},
     "output_type": "execute_result"
    }
   ],
   "source": [
    "merge_ratings_aggregated = user_average_rating.merge(user_rating_count, on=\"user_id\", how=\"left\")\n",
    "\n",
    "merge_ratings_aggregated.head()\n",
    "merge_ratings_aggregated.shape"
   ]
  },
  {
   "cell_type": "markdown",
   "id": "5dab93a3",
   "metadata": {},
   "source": [
    "I'm happy with this table now, let's export the result of the merge into a CSV file so we can test against it in the pipeline."
   ]
  },
  {
   "cell_type": "code",
   "execution_count": 9,
   "id": "c82a41df",
   "metadata": {},
   "outputs": [],
   "source": [
    "merge_ratings_aggregated.to_csv(\n",
    "    \"../tests/test_data/expected_aggregated_user_ratings_results.csv\", index=False\n",
    ")"
   ]
  }
 ],
 "metadata": {
  "kernelspec": {
   "display_name": ".venv",
   "language": "python",
   "name": "python3"
  },
  "language_info": {
   "codemirror_mode": {
    "name": "ipython",
    "version": 3
   },
   "file_extension": ".py",
   "mimetype": "text/x-python",
   "name": "python",
   "nbconvert_exporter": "python",
   "pygments_lexer": "ipython3",
   "version": "3.11.0"
  }
 },
 "nbformat": 4,
 "nbformat_minor": 5
}
