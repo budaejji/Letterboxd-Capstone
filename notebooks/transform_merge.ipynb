{
 "cells": [
  {
   "cell_type": "markdown",
   "id": "a84ad5ad-d6d3-4ddc-a9ad-3a05e418dbf5",
   "metadata": {},
   "source": [
    "# Merge the Transformed Data Sets"
   ]
  },
  {
   "cell_type": "code",
   "execution_count": 1,
   "id": "1772d404-0955-4df6-8d3d-bf1667bc5073",
   "metadata": {},
   "outputs": [],
   "source": [
    "import pandas as pd"
   ]
  },
  {
   "cell_type": "markdown",
   "id": "08d72466-6606-4af0-b912-30332b509338",
   "metadata": {},
   "source": [
    "Let's make sure we're confident of the results by using the results of the transforming saved into CSV files to work on merging them."
   ]
  },
  {
   "cell_type": "code",
   "execution_count": 2,
   "id": "106a7ae0-9918-4db9-9e81-941c1034d364",
   "metadata": {},
   "outputs": [],
   "source": [
    "movies = pd.read_csv(\n",
    "    \"../tests/test_data/expected_movies_clean_results.csv\"\n",
    ")\n",
    "\n",
    "movies_with_ratings = pd.read_csv(\n",
    "    \"../tests/test_data/expected_movies_with_ratings_clean_results.csv\"\n",
    ")\n",
    "\n",
    "user_ratings = pd.read_csv(\n",
    "    \"../tests/test_data/expected_user_ratings_clean_results.csv\"\n",
    ")"
   ]
  },
  {
   "cell_type": "markdown",
   "id": "c51af201-90d9-4efd-92ca-5845fdd5ba8a",
   "metadata": {},
   "source": [
    "First we will merge the two movie tables to get the ratings for the movies matched by title and release date. Then drop the unnecessary columns."
   ]
  },
  {
   "cell_type": "code",
   "execution_count": 3,
   "id": "81dfaaab-4399-47c5-ad43-2657b28f0f34",
   "metadata": {},
   "outputs": [
    {
     "name": "stdout",
     "output_type": "stream",
     "text": [
      "(865, 8)\n",
      "(910, 9)\n"
     ]
    },
    {
     "data": {
      "text/html": [
       "<div>\n",
       "<style scoped>\n",
       "    .dataframe tbody tr th:only-of-type {\n",
       "        vertical-align: middle;\n",
       "    }\n",
       "\n",
       "    .dataframe tbody tr th {\n",
       "        vertical-align: top;\n",
       "    }\n",
       "\n",
       "    .dataframe thead th {\n",
       "        text-align: right;\n",
       "    }\n",
       "</style>\n",
       "<table border=\"1\" class=\"dataframe\">\n",
       "  <thead>\n",
       "    <tr style=\"text-align: right;\">\n",
       "      <th></th>\n",
       "      <th>movie_id</th>\n",
       "      <th>movie_title</th>\n",
       "      <th>genres</th>\n",
       "      <th>original_language</th>\n",
       "      <th>image_url</th>\n",
       "      <th>runtime</th>\n",
       "      <th>spoken_languages</th>\n",
       "      <th>year_released</th>\n",
       "      <th>rating</th>\n",
       "    </tr>\n",
       "  </thead>\n",
       "  <tbody>\n",
       "    <tr>\n",
       "      <th>0</th>\n",
       "      <td>napoleon-dynamite</td>\n",
       "      <td>Napoleon Dynamite</td>\n",
       "      <td>['Comedy']</td>\n",
       "      <td>en</td>\n",
       "      <td>sm/upload/wu/r9/ma/tt/2VMXuUAvU8T0oQl0w77CqVAR...</td>\n",
       "      <td>95</td>\n",
       "      <td>['English']</td>\n",
       "      <td>2004</td>\n",
       "      <td>7.36</td>\n",
       "    </tr>\n",
       "    <tr>\n",
       "      <th>1</th>\n",
       "      <td>insomnia-2002</td>\n",
       "      <td>Insomnia</td>\n",
       "      <td>['Crime', 'Mystery', 'Thriller']</td>\n",
       "      <td>en</td>\n",
       "      <td>film-poster/5/1/7/3/9/51739-insomnia-0-230-0-3...</td>\n",
       "      <td>118</td>\n",
       "      <td>['English']</td>\n",
       "      <td>2002</td>\n",
       "      <td>7.06</td>\n",
       "    </tr>\n",
       "    <tr>\n",
       "      <th>2</th>\n",
       "      <td>a-bugs-life</td>\n",
       "      <td>A Bug's Life</td>\n",
       "      <td>['Adventure', 'Animation', 'Comedy', 'Family']</td>\n",
       "      <td>en</td>\n",
       "      <td>film-poster/4/7/1/1/1/47111-a-bug-s-life-0-230...</td>\n",
       "      <td>95</td>\n",
       "      <td>['English']</td>\n",
       "      <td>1998</td>\n",
       "      <td>6.90</td>\n",
       "    </tr>\n",
       "    <tr>\n",
       "      <th>3</th>\n",
       "      <td>before-midnight</td>\n",
       "      <td>Before Midnight</td>\n",
       "      <td>['Romance', 'Drama']</td>\n",
       "      <td>en</td>\n",
       "      <td>film-poster/1/0/2/4/4/4/102444-before-midnight...</td>\n",
       "      <td>109</td>\n",
       "      <td>['English', 'ελληνικά', 'Français']</td>\n",
       "      <td>2013</td>\n",
       "      <td>8.14</td>\n",
       "    </tr>\n",
       "    <tr>\n",
       "      <th>4</th>\n",
       "      <td>searching-2018</td>\n",
       "      <td>Searching</td>\n",
       "      <td>['Thriller', 'Mystery', 'Drama']</td>\n",
       "      <td>en</td>\n",
       "      <td>film-poster/4/2/0/4/6/7/420467-searching-0-230...</td>\n",
       "      <td>102</td>\n",
       "      <td>['English']</td>\n",
       "      <td>2018</td>\n",
       "      <td>7.44</td>\n",
       "    </tr>\n",
       "  </tbody>\n",
       "</table>\n",
       "</div>"
      ],
      "text/plain": [
       "            movie_id        movie_title  \\\n",
       "0  napoleon-dynamite  Napoleon Dynamite   \n",
       "1      insomnia-2002           Insomnia   \n",
       "2        a-bugs-life       A Bug's Life   \n",
       "3    before-midnight    Before Midnight   \n",
       "4     searching-2018          Searching   \n",
       "\n",
       "                                           genres original_language  \\\n",
       "0                                      ['Comedy']                en   \n",
       "1                ['Crime', 'Mystery', 'Thriller']                en   \n",
       "2  ['Adventure', 'Animation', 'Comedy', 'Family']                en   \n",
       "3                            ['Romance', 'Drama']                en   \n",
       "4                ['Thriller', 'Mystery', 'Drama']                en   \n",
       "\n",
       "                                           image_url  runtime  \\\n",
       "0  sm/upload/wu/r9/ma/tt/2VMXuUAvU8T0oQl0w77CqVAR...       95   \n",
       "1  film-poster/5/1/7/3/9/51739-insomnia-0-230-0-3...      118   \n",
       "2  film-poster/4/7/1/1/1/47111-a-bug-s-life-0-230...       95   \n",
       "3  film-poster/1/0/2/4/4/4/102444-before-midnight...      109   \n",
       "4  film-poster/4/2/0/4/6/7/420467-searching-0-230...      102   \n",
       "\n",
       "                      spoken_languages  year_released  rating  \n",
       "0                          ['English']           2004    7.36  \n",
       "1                          ['English']           2002    7.06  \n",
       "2                          ['English']           1998    6.90  \n",
       "3  ['English', 'ελληνικά', 'Français']           2013    8.14  \n",
       "4                          ['English']           2018    7.44  "
      ]
     },
     "execution_count": 3,
     "metadata": {},
     "output_type": "execute_result"
    }
   ],
   "source": [
    "merged = movies.merge(\n",
    "    movies_with_ratings[['name', 'date', 'rating']], \n",
    "    left_on=['movie_title', 'year_released'], \n",
    "    right_on=['name', 'date'],               \n",
    "    how='left'                                \n",
    ")\n",
    "\n",
    "# Drop the extra columns from movies_with_ratings\n",
    "merged = merged.drop(columns=['name', 'date'])\n",
    "\n",
    "print(movies.shape)\n",
    "print(merged.shape)\n",
    "merged.head()\n"
   ]
  },
  {
   "cell_type": "markdown",
   "id": "2aa90e16-185d-4a0e-8cf3-4bcf643a351c",
   "metadata": {},
   "source": [
    "There appears to be rows added in the merge. Let's check for duplicates."
   ]
  },
  {
   "cell_type": "code",
   "execution_count": 4,
   "id": "4859da2c-a3b1-433d-9370-14ba1d97424f",
   "metadata": {},
   "outputs": [
    {
     "data": {
      "text/html": [
       "<div>\n",
       "<style scoped>\n",
       "    .dataframe tbody tr th:only-of-type {\n",
       "        vertical-align: middle;\n",
       "    }\n",
       "\n",
       "    .dataframe tbody tr th {\n",
       "        vertical-align: top;\n",
       "    }\n",
       "\n",
       "    .dataframe thead th {\n",
       "        text-align: right;\n",
       "    }\n",
       "</style>\n",
       "<table border=\"1\" class=\"dataframe\">\n",
       "  <thead>\n",
       "    <tr style=\"text-align: right;\">\n",
       "      <th></th>\n",
       "      <th>movie_id</th>\n",
       "      <th>movie_title</th>\n",
       "      <th>genres</th>\n",
       "      <th>original_language</th>\n",
       "      <th>image_url</th>\n",
       "      <th>runtime</th>\n",
       "      <th>spoken_languages</th>\n",
       "      <th>year_released</th>\n",
       "      <th>rating</th>\n",
       "    </tr>\n",
       "  </thead>\n",
       "  <tbody>\n",
       "    <tr>\n",
       "      <th>124</th>\n",
       "      <td>hush-2016</td>\n",
       "      <td>Hush</td>\n",
       "      <td>['Horror', 'Thriller']</td>\n",
       "      <td>en</td>\n",
       "      <td>sm/upload/uy/c2/ed/fu/khDYdmPFlaTqeLQVD4ds4xC1...</td>\n",
       "      <td>82</td>\n",
       "      <td>['English']</td>\n",
       "      <td>2016</td>\n",
       "      <td>NaN</td>\n",
       "    </tr>\n",
       "    <tr>\n",
       "      <th>125</th>\n",
       "      <td>hush-2016</td>\n",
       "      <td>Hush</td>\n",
       "      <td>['Horror', 'Thriller']</td>\n",
       "      <td>en</td>\n",
       "      <td>sm/upload/uy/c2/ed/fu/khDYdmPFlaTqeLQVD4ds4xC1...</td>\n",
       "      <td>82</td>\n",
       "      <td>['English']</td>\n",
       "      <td>2016</td>\n",
       "      <td>NaN</td>\n",
       "    </tr>\n",
       "    <tr>\n",
       "      <th>136</th>\n",
       "      <td>alice-in-wonderland-2010</td>\n",
       "      <td>Alice in Wonderland</td>\n",
       "      <td>['Family', 'Fantasy', 'Adventure']</td>\n",
       "      <td>en</td>\n",
       "      <td>sm/upload/qp/te/tw/3j/alice-in-wonderland-orig...</td>\n",
       "      <td>108</td>\n",
       "      <td>['English']</td>\n",
       "      <td>2010</td>\n",
       "      <td>NaN</td>\n",
       "    </tr>\n",
       "    <tr>\n",
       "      <th>227</th>\n",
       "      <td>split-2016</td>\n",
       "      <td>Split</td>\n",
       "      <td>['Horror', 'Thriller']</td>\n",
       "      <td>en</td>\n",
       "      <td>sm/upload/5e/pw/vs/km/8CHJcVc5IGXS1sC5DyjeMwTD...</td>\n",
       "      <td>117</td>\n",
       "      <td>['English']</td>\n",
       "      <td>2016</td>\n",
       "      <td>NaN</td>\n",
       "    </tr>\n",
       "    <tr>\n",
       "      <th>228</th>\n",
       "      <td>split-2016</td>\n",
       "      <td>Split</td>\n",
       "      <td>['Horror', 'Thriller']</td>\n",
       "      <td>en</td>\n",
       "      <td>sm/upload/5e/pw/vs/km/8CHJcVc5IGXS1sC5DyjeMwTD...</td>\n",
       "      <td>117</td>\n",
       "      <td>['English']</td>\n",
       "      <td>2016</td>\n",
       "      <td>NaN</td>\n",
       "    </tr>\n",
       "    <tr>\n",
       "      <th>229</th>\n",
       "      <td>split-2016</td>\n",
       "      <td>Split</td>\n",
       "      <td>['Horror', 'Thriller']</td>\n",
       "      <td>en</td>\n",
       "      <td>sm/upload/5e/pw/vs/km/8CHJcVc5IGXS1sC5DyjeMwTD...</td>\n",
       "      <td>117</td>\n",
       "      <td>['English']</td>\n",
       "      <td>2016</td>\n",
       "      <td>NaN</td>\n",
       "    </tr>\n",
       "    <tr>\n",
       "      <th>275</th>\n",
       "      <td>the-gift-2015-1</td>\n",
       "      <td>The Gift</td>\n",
       "      <td>['Thriller', 'Mystery', 'Drama']</td>\n",
       "      <td>en</td>\n",
       "      <td>film-poster/2/5/5/9/2/7/255927-the-gift-0-230-...</td>\n",
       "      <td>108</td>\n",
       "      <td>['English']</td>\n",
       "      <td>2015</td>\n",
       "      <td>NaN</td>\n",
       "    </tr>\n",
       "    <tr>\n",
       "      <th>276</th>\n",
       "      <td>the-gift-2015-1</td>\n",
       "      <td>The Gift</td>\n",
       "      <td>['Thriller', 'Mystery', 'Drama']</td>\n",
       "      <td>en</td>\n",
       "      <td>film-poster/2/5/5/9/2/7/255927-the-gift-0-230-...</td>\n",
       "      <td>108</td>\n",
       "      <td>['English']</td>\n",
       "      <td>2015</td>\n",
       "      <td>NaN</td>\n",
       "    </tr>\n",
       "    <tr>\n",
       "      <th>488</th>\n",
       "      <td>silence</td>\n",
       "      <td>Silence</td>\n",
       "      <td>['Drama', 'History']</td>\n",
       "      <td>en</td>\n",
       "      <td>film-poster/5/2/5/0/4/52504-silence-0-230-0-34...</td>\n",
       "      <td>161</td>\n",
       "      <td>['日本語', 'English']</td>\n",
       "      <td>2016</td>\n",
       "      <td>NaN</td>\n",
       "    </tr>\n",
       "    <tr>\n",
       "      <th>489</th>\n",
       "      <td>silence</td>\n",
       "      <td>Silence</td>\n",
       "      <td>['Drama', 'History']</td>\n",
       "      <td>en</td>\n",
       "      <td>film-poster/5/2/5/0/4/52504-silence-0-230-0-34...</td>\n",
       "      <td>161</td>\n",
       "      <td>['日本語', 'English']</td>\n",
       "      <td>2016</td>\n",
       "      <td>NaN</td>\n",
       "    </tr>\n",
       "    <tr>\n",
       "      <th>490</th>\n",
       "      <td>silence</td>\n",
       "      <td>Silence</td>\n",
       "      <td>['Drama', 'History']</td>\n",
       "      <td>en</td>\n",
       "      <td>film-poster/5/2/5/0/4/52504-silence-0-230-0-34...</td>\n",
       "      <td>161</td>\n",
       "      <td>['日本語', 'English']</td>\n",
       "      <td>2016</td>\n",
       "      <td>NaN</td>\n",
       "    </tr>\n",
       "    <tr>\n",
       "      <th>491</th>\n",
       "      <td>silence</td>\n",
       "      <td>Silence</td>\n",
       "      <td>['Drama', 'History']</td>\n",
       "      <td>en</td>\n",
       "      <td>film-poster/5/2/5/0/4/52504-silence-0-230-0-34...</td>\n",
       "      <td>161</td>\n",
       "      <td>['日本語', 'English']</td>\n",
       "      <td>2016</td>\n",
       "      <td>NaN</td>\n",
       "    </tr>\n",
       "    <tr>\n",
       "      <th>492</th>\n",
       "      <td>silence</td>\n",
       "      <td>Silence</td>\n",
       "      <td>['Drama', 'History']</td>\n",
       "      <td>en</td>\n",
       "      <td>film-poster/5/2/5/0/4/52504-silence-0-230-0-34...</td>\n",
       "      <td>161</td>\n",
       "      <td>['日本語', 'English']</td>\n",
       "      <td>2016</td>\n",
       "      <td>NaN</td>\n",
       "    </tr>\n",
       "    <tr>\n",
       "      <th>493</th>\n",
       "      <td>silence</td>\n",
       "      <td>Silence</td>\n",
       "      <td>['Drama', 'History']</td>\n",
       "      <td>en</td>\n",
       "      <td>film-poster/5/2/5/0/4/52504-silence-0-230-0-34...</td>\n",
       "      <td>161</td>\n",
       "      <td>['日本語', 'English']</td>\n",
       "      <td>2016</td>\n",
       "      <td>NaN</td>\n",
       "    </tr>\n",
       "    <tr>\n",
       "      <th>500</th>\n",
       "      <td>the-babysitter-2017</td>\n",
       "      <td>The Babysitter</td>\n",
       "      <td>['Horror', 'Comedy']</td>\n",
       "      <td>en</td>\n",
       "      <td>sm/upload/06/mp/w2/ub/86a7GRVRCwfl7wdI4QadyvKa...</td>\n",
       "      <td>85</td>\n",
       "      <td>['English']</td>\n",
       "      <td>2017</td>\n",
       "      <td>NaN</td>\n",
       "    </tr>\n",
       "    <tr>\n",
       "      <th>531</th>\n",
       "      <td>hercules-1997</td>\n",
       "      <td>Hercules</td>\n",
       "      <td>['Animation', 'Family', 'Fantasy', 'Adventure'...</td>\n",
       "      <td>en</td>\n",
       "      <td>film-poster/4/4/8/3/8/44838-hercules-0-230-0-3...</td>\n",
       "      <td>93</td>\n",
       "      <td>['English', 'Español', 'ελληνικά']</td>\n",
       "      <td>1997</td>\n",
       "      <td>NaN</td>\n",
       "    </tr>\n",
       "    <tr>\n",
       "      <th>654</th>\n",
       "      <td>the-visit-2015</td>\n",
       "      <td>The Visit</td>\n",
       "      <td>['Horror', 'Thriller', 'Mystery']</td>\n",
       "      <td>en</td>\n",
       "      <td>film-poster/2/2/5/4/3/7/225437-the-visit-0-230...</td>\n",
       "      <td>94</td>\n",
       "      <td>['English']</td>\n",
       "      <td>2015</td>\n",
       "      <td>NaN</td>\n",
       "    </tr>\n",
       "    <tr>\n",
       "      <th>655</th>\n",
       "      <td>the-visit-2015</td>\n",
       "      <td>The Visit</td>\n",
       "      <td>['Horror', 'Thriller', 'Mystery']</td>\n",
       "      <td>en</td>\n",
       "      <td>film-poster/2/2/5/4/3/7/225437-the-visit-0-230...</td>\n",
       "      <td>94</td>\n",
       "      <td>['English']</td>\n",
       "      <td>2015</td>\n",
       "      <td>NaN</td>\n",
       "    </tr>\n",
       "    <tr>\n",
       "      <th>656</th>\n",
       "      <td>the-visit-2015</td>\n",
       "      <td>The Visit</td>\n",
       "      <td>['Horror', 'Thriller', 'Mystery']</td>\n",
       "      <td>en</td>\n",
       "      <td>film-poster/2/2/5/4/3/7/225437-the-visit-0-230...</td>\n",
       "      <td>94</td>\n",
       "      <td>['English']</td>\n",
       "      <td>2015</td>\n",
       "      <td>NaN</td>\n",
       "    </tr>\n",
       "    <tr>\n",
       "      <th>657</th>\n",
       "      <td>the-visit-2015</td>\n",
       "      <td>The Visit</td>\n",
       "      <td>['Horror', 'Thriller', 'Mystery']</td>\n",
       "      <td>en</td>\n",
       "      <td>film-poster/2/2/5/4/3/7/225437-the-visit-0-230...</td>\n",
       "      <td>94</td>\n",
       "      <td>['English']</td>\n",
       "      <td>2015</td>\n",
       "      <td>NaN</td>\n",
       "    </tr>\n",
       "  </tbody>\n",
       "</table>\n",
       "</div>"
      ],
      "text/plain": [
       "                     movie_id          movie_title  \\\n",
       "124                 hush-2016                 Hush   \n",
       "125                 hush-2016                 Hush   \n",
       "136  alice-in-wonderland-2010  Alice in Wonderland   \n",
       "227                split-2016                Split   \n",
       "228                split-2016                Split   \n",
       "229                split-2016                Split   \n",
       "275           the-gift-2015-1             The Gift   \n",
       "276           the-gift-2015-1             The Gift   \n",
       "488                   silence              Silence   \n",
       "489                   silence              Silence   \n",
       "490                   silence              Silence   \n",
       "491                   silence              Silence   \n",
       "492                   silence              Silence   \n",
       "493                   silence              Silence   \n",
       "500       the-babysitter-2017       The Babysitter   \n",
       "531             hercules-1997             Hercules   \n",
       "654            the-visit-2015            The Visit   \n",
       "655            the-visit-2015            The Visit   \n",
       "656            the-visit-2015            The Visit   \n",
       "657            the-visit-2015            The Visit   \n",
       "\n",
       "                                                genres original_language  \\\n",
       "124                             ['Horror', 'Thriller']                en   \n",
       "125                             ['Horror', 'Thriller']                en   \n",
       "136                 ['Family', 'Fantasy', 'Adventure']                en   \n",
       "227                             ['Horror', 'Thriller']                en   \n",
       "228                             ['Horror', 'Thriller']                en   \n",
       "229                             ['Horror', 'Thriller']                en   \n",
       "275                   ['Thriller', 'Mystery', 'Drama']                en   \n",
       "276                   ['Thriller', 'Mystery', 'Drama']                en   \n",
       "488                               ['Drama', 'History']                en   \n",
       "489                               ['Drama', 'History']                en   \n",
       "490                               ['Drama', 'History']                en   \n",
       "491                               ['Drama', 'History']                en   \n",
       "492                               ['Drama', 'History']                en   \n",
       "493                               ['Drama', 'History']                en   \n",
       "500                               ['Horror', 'Comedy']                en   \n",
       "531  ['Animation', 'Family', 'Fantasy', 'Adventure'...                en   \n",
       "654                  ['Horror', 'Thriller', 'Mystery']                en   \n",
       "655                  ['Horror', 'Thriller', 'Mystery']                en   \n",
       "656                  ['Horror', 'Thriller', 'Mystery']                en   \n",
       "657                  ['Horror', 'Thriller', 'Mystery']                en   \n",
       "\n",
       "                                             image_url  runtime  \\\n",
       "124  sm/upload/uy/c2/ed/fu/khDYdmPFlaTqeLQVD4ds4xC1...       82   \n",
       "125  sm/upload/uy/c2/ed/fu/khDYdmPFlaTqeLQVD4ds4xC1...       82   \n",
       "136  sm/upload/qp/te/tw/3j/alice-in-wonderland-orig...      108   \n",
       "227  sm/upload/5e/pw/vs/km/8CHJcVc5IGXS1sC5DyjeMwTD...      117   \n",
       "228  sm/upload/5e/pw/vs/km/8CHJcVc5IGXS1sC5DyjeMwTD...      117   \n",
       "229  sm/upload/5e/pw/vs/km/8CHJcVc5IGXS1sC5DyjeMwTD...      117   \n",
       "275  film-poster/2/5/5/9/2/7/255927-the-gift-0-230-...      108   \n",
       "276  film-poster/2/5/5/9/2/7/255927-the-gift-0-230-...      108   \n",
       "488  film-poster/5/2/5/0/4/52504-silence-0-230-0-34...      161   \n",
       "489  film-poster/5/2/5/0/4/52504-silence-0-230-0-34...      161   \n",
       "490  film-poster/5/2/5/0/4/52504-silence-0-230-0-34...      161   \n",
       "491  film-poster/5/2/5/0/4/52504-silence-0-230-0-34...      161   \n",
       "492  film-poster/5/2/5/0/4/52504-silence-0-230-0-34...      161   \n",
       "493  film-poster/5/2/5/0/4/52504-silence-0-230-0-34...      161   \n",
       "500  sm/upload/06/mp/w2/ub/86a7GRVRCwfl7wdI4QadyvKa...       85   \n",
       "531  film-poster/4/4/8/3/8/44838-hercules-0-230-0-3...       93   \n",
       "654  film-poster/2/2/5/4/3/7/225437-the-visit-0-230...       94   \n",
       "655  film-poster/2/2/5/4/3/7/225437-the-visit-0-230...       94   \n",
       "656  film-poster/2/2/5/4/3/7/225437-the-visit-0-230...       94   \n",
       "657  film-poster/2/2/5/4/3/7/225437-the-visit-0-230...       94   \n",
       "\n",
       "                       spoken_languages  year_released  rating  \n",
       "124                         ['English']           2016     NaN  \n",
       "125                         ['English']           2016     NaN  \n",
       "136                         ['English']           2010     NaN  \n",
       "227                         ['English']           2016     NaN  \n",
       "228                         ['English']           2016     NaN  \n",
       "229                         ['English']           2016     NaN  \n",
       "275                         ['English']           2015     NaN  \n",
       "276                         ['English']           2015     NaN  \n",
       "488                  ['日本語', 'English']           2016     NaN  \n",
       "489                  ['日本語', 'English']           2016     NaN  \n",
       "490                  ['日本語', 'English']           2016     NaN  \n",
       "491                  ['日本語', 'English']           2016     NaN  \n",
       "492                  ['日本語', 'English']           2016     NaN  \n",
       "493                  ['日本語', 'English']           2016     NaN  \n",
       "500                         ['English']           2017     NaN  \n",
       "531  ['English', 'Español', 'ελληνικά']           1997     NaN  \n",
       "654                         ['English']           2015     NaN  \n",
       "655                         ['English']           2015     NaN  \n",
       "656                         ['English']           2015     NaN  \n",
       "657                         ['English']           2015     NaN  "
      ]
     },
     "execution_count": 4,
     "metadata": {},
     "output_type": "execute_result"
    }
   ],
   "source": [
    "duplicates = merged[merged.duplicated()]\n",
    "\n",
    "duplicates"
   ]
  },
  {
   "cell_type": "markdown",
   "id": "5ef8001c-0657-45af-89c6-db3c266583c9",
   "metadata": {},
   "source": [
    "Due to being unable to merge by unique id, there have been some duplicates introduced. Let's explore the duplicates to see if there were any records of those films inserted with some different data."
   ]
  },
  {
   "cell_type": "code",
   "execution_count": 5,
   "id": "d1d3630b-d667-4f04-bc52-80e30246b2e0",
   "metadata": {},
   "outputs": [
    {
     "name": "stdout",
     "output_type": "stream",
     "text": [
      "           movie_id movie_title                             genres  \\\n",
      "652  the-visit-2015   The Visit  ['Horror', 'Thriller', 'Mystery']   \n",
      "653  the-visit-2015   The Visit  ['Horror', 'Thriller', 'Mystery']   \n",
      "654  the-visit-2015   The Visit  ['Horror', 'Thriller', 'Mystery']   \n",
      "655  the-visit-2015   The Visit  ['Horror', 'Thriller', 'Mystery']   \n",
      "656  the-visit-2015   The Visit  ['Horror', 'Thriller', 'Mystery']   \n",
      "657  the-visit-2015   The Visit  ['Horror', 'Thriller', 'Mystery']   \n",
      "\n",
      "    original_language                                          image_url  \\\n",
      "652                en  film-poster/2/2/5/4/3/7/225437-the-visit-0-230...   \n",
      "653                en  film-poster/2/2/5/4/3/7/225437-the-visit-0-230...   \n",
      "654                en  film-poster/2/2/5/4/3/7/225437-the-visit-0-230...   \n",
      "655                en  film-poster/2/2/5/4/3/7/225437-the-visit-0-230...   \n",
      "656                en  film-poster/2/2/5/4/3/7/225437-the-visit-0-230...   \n",
      "657                en  film-poster/2/2/5/4/3/7/225437-the-visit-0-230...   \n",
      "\n",
      "     runtime spoken_languages  year_released  rating  \n",
      "652       94      ['English']           2015    6.12  \n",
      "653       94      ['English']           2015     NaN  \n",
      "654       94      ['English']           2015     NaN  \n",
      "655       94      ['English']           2015     NaN  \n",
      "656       94      ['English']           2015     NaN  \n",
      "657       94      ['English']           2015     NaN  \n"
     ]
    }
   ],
   "source": [
    "the_visit = merged[merged['movie_title'] == 'The Visit']\n",
    "print(the_visit)"
   ]
  },
  {
   "cell_type": "markdown",
   "id": "51a5d431-7c8a-427a-9c62-2e7124313a0b",
   "metadata": {},
   "source": [
    "For this movie we have multiple duplicate records inserted but only one contains a rating, nothing else changed. Let's see if other duplicated records follow this same pattern."
   ]
  },
  {
   "cell_type": "code",
   "execution_count": 6,
   "id": "d7cceb66-14dc-4939-adad-0e78e2bfa699",
   "metadata": {},
   "outputs": [
    {
     "name": "stdout",
     "output_type": "stream",
     "text": [
      "                movie_id     movie_title  \\\n",
      "27         the-apartment   The Apartment   \n",
      "28         the-apartment   The Apartment   \n",
      "122            hush-2016            Hush   \n",
      "123            hush-2016            Hush   \n",
      "124            hush-2016            Hush   \n",
      "..                   ...             ...   \n",
      "664  the-lighthouse-2019  The Lighthouse   \n",
      "673       yesterday-2019       Yesterday   \n",
      "674       yesterday-2019       Yesterday   \n",
      "903       malignant-2021       Malignant   \n",
      "904       malignant-2021       Malignant   \n",
      "\n",
      "                                         genres original_language  \\\n",
      "27               ['Comedy', 'Drama', 'Romance']                en   \n",
      "28               ['Comedy', 'Drama', 'Romance']                en   \n",
      "122                      ['Horror', 'Thriller']                en   \n",
      "123                      ['Horror', 'Thriller']                en   \n",
      "124                      ['Horror', 'Thriller']                en   \n",
      "..                                          ...               ...   \n",
      "664  ['Drama', 'Fantasy', 'Thriller', 'Horror']                en   \n",
      "673   ['Music', 'Comedy', 'Romance', 'Fantasy']                en   \n",
      "674   ['Music', 'Comedy', 'Romance', 'Fantasy']                en   \n",
      "903           ['Horror', 'Mystery', 'Thriller']                en   \n",
      "904           ['Horror', 'Mystery', 'Thriller']                en   \n",
      "\n",
      "                                             image_url  runtime  \\\n",
      "27   film-poster/5/1/7/7/4/51774-the-apartment-0-23...      125   \n",
      "28   film-poster/5/1/7/7/4/51774-the-apartment-0-23...      125   \n",
      "122  sm/upload/uy/c2/ed/fu/khDYdmPFlaTqeLQVD4ds4xC1...       82   \n",
      "123  sm/upload/uy/c2/ed/fu/khDYdmPFlaTqeLQVD4ds4xC1...       82   \n",
      "124  sm/upload/uy/c2/ed/fu/khDYdmPFlaTqeLQVD4ds4xC1...       82   \n",
      "..                                                 ...      ...   \n",
      "664  film-poster/4/3/3/8/6/3/433863-the-lighthouse-...      109   \n",
      "673  film-poster/4/4/4/7/9/9/444799-yesterday-0-230...      116   \n",
      "674  film-poster/4/4/4/7/9/9/444799-yesterday-0-230...      116   \n",
      "903  film-poster/5/4/6/3/4/8/546348-malignant-0-230...      112   \n",
      "904  film-poster/5/4/6/3/4/8/546348-malignant-0-230...      112   \n",
      "\n",
      "    spoken_languages  year_released  rating  \n",
      "27       ['English']           1960    8.86  \n",
      "28       ['English']           1960     NaN  \n",
      "122      ['English']           2016    6.42  \n",
      "123      ['English']           2016     NaN  \n",
      "124      ['English']           2016     NaN  \n",
      "..               ...            ...     ...  \n",
      "664      ['English']           2019     NaN  \n",
      "673      ['English']           2019    5.78  \n",
      "674      ['English']           2019     NaN  \n",
      "903      ['English']           2021    6.12  \n",
      "904      ['English']           2021     NaN  \n",
      "\n",
      "[68 rows x 9 columns]\n"
     ]
    }
   ],
   "source": [
    "cols_except_rating = [col for col in merged.columns if col != 'rating']\n",
    "\n",
    "duplicates = merged[merged.duplicated(subset=cols_except_rating, keep=False)]\n",
    "\n",
    "print(duplicates)\n"
   ]
  },
  {
   "cell_type": "markdown",
   "id": "0084d2e0-dbba-45b1-906f-257a40e26f3c",
   "metadata": {},
   "source": [
    "Let's drop the duplicated movies with no rating and then see if there is the expected row count."
   ]
  },
  {
   "cell_type": "code",
   "execution_count": 7,
   "id": "6e8b5234-1d52-4de3-be98-11ccb5256cb5",
   "metadata": {},
   "outputs": [
    {
     "data": {
      "text/plain": [
       "(865, 9)"
      ]
     },
     "execution_count": 7,
     "metadata": {},
     "output_type": "execute_result"
    }
   ],
   "source": [
    "cols_except_rating = [col for col in merged.columns if col != 'rating']\n",
    "merged = merged.drop_duplicates(subset=cols_except_rating, keep='first')\n",
    "\n",
    "merged.shape"
   ]
  },
  {
   "cell_type": "markdown",
   "id": "464f006c-b010-494e-848e-b28a114a30e0",
   "metadata": {},
   "source": [
    "The row count matches, let's check for any duplicates on the joined columns just to be sure."
   ]
  },
  {
   "cell_type": "code",
   "execution_count": 8,
   "id": "e7e733c7-bedf-4cd0-a42e-46255aa0416c",
   "metadata": {},
   "outputs": [
    {
     "data": {
      "text/html": [
       "<div>\n",
       "<style scoped>\n",
       "    .dataframe tbody tr th:only-of-type {\n",
       "        vertical-align: middle;\n",
       "    }\n",
       "\n",
       "    .dataframe tbody tr th {\n",
       "        vertical-align: top;\n",
       "    }\n",
       "\n",
       "    .dataframe thead th {\n",
       "        text-align: right;\n",
       "    }\n",
       "</style>\n",
       "<table border=\"1\" class=\"dataframe\">\n",
       "  <thead>\n",
       "    <tr style=\"text-align: right;\">\n",
       "      <th></th>\n",
       "      <th>movie_id</th>\n",
       "      <th>movie_title</th>\n",
       "      <th>genres</th>\n",
       "      <th>original_language</th>\n",
       "      <th>image_url</th>\n",
       "      <th>runtime</th>\n",
       "      <th>spoken_languages</th>\n",
       "      <th>year_released</th>\n",
       "      <th>rating</th>\n",
       "    </tr>\n",
       "  </thead>\n",
       "  <tbody>\n",
       "    <tr>\n",
       "      <th>200</th>\n",
       "      <td>black-panther-2018</td>\n",
       "      <td>Black Panther</td>\n",
       "      <td>['Action', 'Adventure', 'Science Fiction']</td>\n",
       "      <td>en</td>\n",
       "      <td>film-poster/2/0/9/3/8/3/209383-black-panther-0...</td>\n",
       "      <td>134</td>\n",
       "      <td>['English', '한국어/조선말', 'Kiswahili']</td>\n",
       "      <td>2018</td>\n",
       "      <td>7.3</td>\n",
       "    </tr>\n",
       "    <tr>\n",
       "      <th>890</th>\n",
       "      <td>black-panther</td>\n",
       "      <td>Black Panther</td>\n",
       "      <td>['Action', 'Adventure', 'Science Fiction']</td>\n",
       "      <td>en</td>\n",
       "      <td>film-poster/2/0/9/3/8/3/209383-black-panther-0...</td>\n",
       "      <td>134</td>\n",
       "      <td>['English', '한국어/조선말', 'Kiswahili']</td>\n",
       "      <td>2018</td>\n",
       "      <td>7.3</td>\n",
       "    </tr>\n",
       "  </tbody>\n",
       "</table>\n",
       "</div>"
      ],
      "text/plain": [
       "               movie_id    movie_title  \\\n",
       "200  black-panther-2018  Black Panther   \n",
       "890       black-panther  Black Panther   \n",
       "\n",
       "                                         genres original_language  \\\n",
       "200  ['Action', 'Adventure', 'Science Fiction']                en   \n",
       "890  ['Action', 'Adventure', 'Science Fiction']                en   \n",
       "\n",
       "                                             image_url  runtime  \\\n",
       "200  film-poster/2/0/9/3/8/3/209383-black-panther-0...      134   \n",
       "890  film-poster/2/0/9/3/8/3/209383-black-panther-0...      134   \n",
       "\n",
       "                        spoken_languages  year_released  rating  \n",
       "200  ['English', '한국어/조선말', 'Kiswahili']           2018     7.3  \n",
       "890  ['English', '한국어/조선말', 'Kiswahili']           2018     7.3  "
      ]
     },
     "execution_count": 8,
     "metadata": {},
     "output_type": "execute_result"
    }
   ],
   "source": [
    "\n",
    "duplicates = merged[merged.duplicated(subset=['movie_title', 'year_released'], keep=False)]\n",
    "\n",
    "duplicates"
   ]
  },
  {
   "cell_type": "markdown",
   "id": "82e16493-6cd8-406c-939b-f2d994a1d465",
   "metadata": {},
   "source": [
    "Black panther was duplicated with a different movie_id in the original movies table so this is expected. We will look at the user_ratings table to decide which one to keep. Ex Machina was also duplicated with a different movie_id and release date, let's look at it here:"
   ]
  },
  {
   "cell_type": "code",
   "execution_count": 9,
   "id": "b6345273-ec15-465f-a8ba-5591befd28f6",
   "metadata": {},
   "outputs": [
    {
     "data": {
      "text/html": [
       "<div>\n",
       "<style scoped>\n",
       "    .dataframe tbody tr th:only-of-type {\n",
       "        vertical-align: middle;\n",
       "    }\n",
       "\n",
       "    .dataframe tbody tr th {\n",
       "        vertical-align: top;\n",
       "    }\n",
       "\n",
       "    .dataframe thead th {\n",
       "        text-align: right;\n",
       "    }\n",
       "</style>\n",
       "<table border=\"1\" class=\"dataframe\">\n",
       "  <thead>\n",
       "    <tr style=\"text-align: right;\">\n",
       "      <th></th>\n",
       "      <th>movie_id</th>\n",
       "      <th>movie_title</th>\n",
       "      <th>genres</th>\n",
       "      <th>original_language</th>\n",
       "      <th>image_url</th>\n",
       "      <th>runtime</th>\n",
       "      <th>spoken_languages</th>\n",
       "      <th>year_released</th>\n",
       "      <th>rating</th>\n",
       "    </tr>\n",
       "  </thead>\n",
       "  <tbody>\n",
       "    <tr>\n",
       "      <th>859</th>\n",
       "      <td>ex-machina-2014</td>\n",
       "      <td>Ex Machina</td>\n",
       "      <td>['Drama', 'Science Fiction']</td>\n",
       "      <td>en</td>\n",
       "      <td>film-poster/1/8/7/9/8/6/187986-ex-machina-0-23...</td>\n",
       "      <td>108</td>\n",
       "      <td>['English']</td>\n",
       "      <td>2014</td>\n",
       "      <td>NaN</td>\n",
       "    </tr>\n",
       "    <tr>\n",
       "      <th>909</th>\n",
       "      <td>ex-machina-2015</td>\n",
       "      <td>Ex Machina</td>\n",
       "      <td>['Drama', 'Science Fiction']</td>\n",
       "      <td>en</td>\n",
       "      <td>film-poster/1/8/7/9/8/6/187986-ex-machina-0-23...</td>\n",
       "      <td>108</td>\n",
       "      <td>['English']</td>\n",
       "      <td>2015</td>\n",
       "      <td>7.96</td>\n",
       "    </tr>\n",
       "  </tbody>\n",
       "</table>\n",
       "</div>"
      ],
      "text/plain": [
       "            movie_id movie_title                        genres  \\\n",
       "859  ex-machina-2014  Ex Machina  ['Drama', 'Science Fiction']   \n",
       "909  ex-machina-2015  Ex Machina  ['Drama', 'Science Fiction']   \n",
       "\n",
       "    original_language                                          image_url  \\\n",
       "859                en  film-poster/1/8/7/9/8/6/187986-ex-machina-0-23...   \n",
       "909                en  film-poster/1/8/7/9/8/6/187986-ex-machina-0-23...   \n",
       "\n",
       "     runtime spoken_languages  year_released  rating  \n",
       "859      108      ['English']           2014     NaN  \n",
       "909      108      ['English']           2015    7.96  "
      ]
     },
     "execution_count": 9,
     "metadata": {},
     "output_type": "execute_result"
    }
   ],
   "source": [
    "ex_machina_records = merged[merged[\"movie_title\"] == \"Ex Machina\"]\n",
    "ex_machina_records\n"
   ]
  },
  {
   "cell_type": "markdown",
   "id": "1f0f5ec8-df3b-4c44-8602-c12aa3393309",
   "metadata": {},
   "source": [
    "The 2015 version is the one with a rating so most likely we want to keep that one. We'll explore the user_ratings to check that it's the only version rated by our users."
   ]
  },
  {
   "cell_type": "code",
   "execution_count": 10,
   "id": "7a0aa04c-8464-420b-8f9a-d77692d45744",
   "metadata": {},
   "outputs": [
    {
     "name": "stdout",
     "output_type": "stream",
     "text": [
      "Ratings for Ex Machina 2014: (4022, 3)\n",
      "Ratings for Ex Machina 2015: (3324, 3)\n"
     ]
    }
   ],
   "source": [
    "ex_machina_2014_ratings = user_ratings[user_ratings[\"movie_id\"] == \"ex-machina-2014\"]\n",
    "ex_machina_2015_ratings = user_ratings[user_ratings[\"movie_id\"] == \"ex-machina-2015\"]\n",
    "\n",
    "print(f\"Ratings for Ex Machina 2014: {ex_machina_2014_ratings.shape}\")\n",
    "print(f\"Ratings for Ex Machina 2015: {ex_machina_2015_ratings.shape}\")"
   ]
  },
  {
   "cell_type": "markdown",
   "id": "65a36714-96a6-44bd-8382-f3a17300d667",
   "metadata": {},
   "source": [
    "There is a significant number of records for both. A google search tells me that 2015 is the more accurate release date so we will consolidate the records to that year."
   ]
  },
  {
   "cell_type": "code",
   "execution_count": 11,
   "id": "68ee9039-22f9-4e5f-8a22-bfc92afc2e8e",
   "metadata": {},
   "outputs": [
    {
     "data": {
      "text/html": [
       "<div>\n",
       "<style scoped>\n",
       "    .dataframe tbody tr th:only-of-type {\n",
       "        vertical-align: middle;\n",
       "    }\n",
       "\n",
       "    .dataframe tbody tr th {\n",
       "        vertical-align: top;\n",
       "    }\n",
       "\n",
       "    .dataframe thead th {\n",
       "        text-align: right;\n",
       "    }\n",
       "</style>\n",
       "<table border=\"1\" class=\"dataframe\">\n",
       "  <thead>\n",
       "    <tr style=\"text-align: right;\">\n",
       "      <th></th>\n",
       "      <th>movie_id</th>\n",
       "      <th>movie_title</th>\n",
       "      <th>genres</th>\n",
       "      <th>original_language</th>\n",
       "      <th>image_url</th>\n",
       "      <th>runtime</th>\n",
       "      <th>spoken_languages</th>\n",
       "      <th>year_released</th>\n",
       "      <th>rating</th>\n",
       "    </tr>\n",
       "  </thead>\n",
       "  <tbody>\n",
       "    <tr>\n",
       "      <th>909</th>\n",
       "      <td>ex-machina-2015</td>\n",
       "      <td>Ex Machina</td>\n",
       "      <td>['Drama', 'Science Fiction']</td>\n",
       "      <td>en</td>\n",
       "      <td>film-poster/1/8/7/9/8/6/187986-ex-machina-0-23...</td>\n",
       "      <td>108</td>\n",
       "      <td>['English']</td>\n",
       "      <td>2015</td>\n",
       "      <td>7.96</td>\n",
       "    </tr>\n",
       "  </tbody>\n",
       "</table>\n",
       "</div>"
      ],
      "text/plain": [
       "            movie_id movie_title                        genres  \\\n",
       "909  ex-machina-2015  Ex Machina  ['Drama', 'Science Fiction']   \n",
       "\n",
       "    original_language                                          image_url  \\\n",
       "909                en  film-poster/1/8/7/9/8/6/187986-ex-machina-0-23...   \n",
       "\n",
       "     runtime spoken_languages  year_released  rating  \n",
       "909      108      ['English']           2015    7.96  "
      ]
     },
     "execution_count": 11,
     "metadata": {},
     "output_type": "execute_result"
    }
   ],
   "source": [
    "merged = merged[merged[\"movie_id\"] != \"ex-machina-2014\"]\n",
    "ex_machina_records = merged[merged[\"movie_title\"] == \"Ex Machina\"]\n",
    "ex_machina_records"
   ]
  },
  {
   "cell_type": "code",
   "execution_count": 12,
   "id": "d596b4e5-b3f4-4e88-b834-4302b66ca443",
   "metadata": {},
   "outputs": [
    {
     "name": "stdout",
     "output_type": "stream",
     "text": [
      "Ratings for Ex Machina 2014: (0, 3)\n",
      "Ratings for Ex Machina 2015: (7346, 3)\n"
     ]
    }
   ],
   "source": [
    "user_ratings.loc[user_ratings[\"movie_id\"] == \"ex-machina-2014\", \"movie_id\"] = \"ex-machina-2015\"\n",
    "\n",
    "ex_machina_2014_ratings = user_ratings[user_ratings[\"movie_id\"] == \"ex-machina-2014\"]\n",
    "ex_machina_2015_ratings = user_ratings[user_ratings[\"movie_id\"] == \"ex-machina-2015\"]\n",
    "\n",
    "print(f\"Ratings for Ex Machina 2014: {ex_machina_2014_ratings.shape}\")\n",
    "print(f\"Ratings for Ex Machina 2015: {ex_machina_2015_ratings.shape}\")"
   ]
  },
  {
   "cell_type": "markdown",
   "id": "f9bc8161-d90e-48dd-bf39-6c590eb9c43a",
   "metadata": {},
   "source": [
    "Now let's do the same for Black Panther:"
   ]
  },
  {
   "cell_type": "code",
   "execution_count": 13,
   "id": "8a249c15-9de6-45e0-8ac5-3b8b91c9ea68",
   "metadata": {},
   "outputs": [
    {
     "name": "stdout",
     "output_type": "stream",
     "text": [
      "Ratings for Black Panther: (4894, 3)\n",
      "Ratings for Black Panther 2018: (3031, 3)\n"
     ]
    }
   ],
   "source": [
    "black_panther_ratings = user_ratings[user_ratings[\"movie_id\"] == \"black-panther\"]\n",
    "black_panther_2018_ratings = user_ratings[user_ratings[\"movie_id\"] == \"black-panther-2018\"]\n",
    "\n",
    "print(f\"Ratings for Black Panther: {black_panther_ratings.shape}\")\n",
    "print(f\"Ratings for Black Panther 2018: {black_panther_2018_ratings.shape}\")"
   ]
  },
  {
   "cell_type": "markdown",
   "id": "8df97157-55de-4dd6-be5a-a4daee6dbb34",
   "metadata": {},
   "source": [
    "We'll consolidate to black-panther-2018 just to retain a more unique id."
   ]
  },
  {
   "cell_type": "code",
   "execution_count": 14,
   "id": "9e6ac7a6-7bcf-4045-98de-89d11e64f816",
   "metadata": {},
   "outputs": [
    {
     "data": {
      "text/html": [
       "<div>\n",
       "<style scoped>\n",
       "    .dataframe tbody tr th:only-of-type {\n",
       "        vertical-align: middle;\n",
       "    }\n",
       "\n",
       "    .dataframe tbody tr th {\n",
       "        vertical-align: top;\n",
       "    }\n",
       "\n",
       "    .dataframe thead th {\n",
       "        text-align: right;\n",
       "    }\n",
       "</style>\n",
       "<table border=\"1\" class=\"dataframe\">\n",
       "  <thead>\n",
       "    <tr style=\"text-align: right;\">\n",
       "      <th></th>\n",
       "      <th>movie_id</th>\n",
       "      <th>movie_title</th>\n",
       "      <th>genres</th>\n",
       "      <th>original_language</th>\n",
       "      <th>image_url</th>\n",
       "      <th>runtime</th>\n",
       "      <th>spoken_languages</th>\n",
       "      <th>year_released</th>\n",
       "      <th>rating</th>\n",
       "    </tr>\n",
       "  </thead>\n",
       "  <tbody>\n",
       "    <tr>\n",
       "      <th>200</th>\n",
       "      <td>black-panther-2018</td>\n",
       "      <td>Black Panther</td>\n",
       "      <td>['Action', 'Adventure', 'Science Fiction']</td>\n",
       "      <td>en</td>\n",
       "      <td>film-poster/2/0/9/3/8/3/209383-black-panther-0...</td>\n",
       "      <td>134</td>\n",
       "      <td>['English', '한국어/조선말', 'Kiswahili']</td>\n",
       "      <td>2018</td>\n",
       "      <td>7.3</td>\n",
       "    </tr>\n",
       "  </tbody>\n",
       "</table>\n",
       "</div>"
      ],
      "text/plain": [
       "               movie_id    movie_title  \\\n",
       "200  black-panther-2018  Black Panther   \n",
       "\n",
       "                                         genres original_language  \\\n",
       "200  ['Action', 'Adventure', 'Science Fiction']                en   \n",
       "\n",
       "                                             image_url  runtime  \\\n",
       "200  film-poster/2/0/9/3/8/3/209383-black-panther-0...      134   \n",
       "\n",
       "                        spoken_languages  year_released  rating  \n",
       "200  ['English', '한국어/조선말', 'Kiswahili']           2018     7.3  "
      ]
     },
     "execution_count": 14,
     "metadata": {},
     "output_type": "execute_result"
    }
   ],
   "source": [
    "merged = merged[merged[\"movie_id\"] != \"black-panther\"]\n",
    "black_panther_records = merged[merged[\"movie_title\"] == \"Black Panther\"]\n",
    "black_panther_records"
   ]
  },
  {
   "cell_type": "code",
   "execution_count": 15,
   "id": "29a35f07-266d-4e1d-b143-57a310f9d8b5",
   "metadata": {},
   "outputs": [
    {
     "name": "stdout",
     "output_type": "stream",
     "text": [
      "Ratings for Black Panther: (0, 3)\n",
      "Ratings for Black Panther 2018: (7925, 3)\n"
     ]
    }
   ],
   "source": [
    "user_ratings.loc[user_ratings[\"movie_id\"] == \"black-panther\", \"movie_id\"] = \"black-panther-2018\"\n",
    "\n",
    "black_panther_ratings = user_ratings[user_ratings[\"movie_id\"] == \"black-panther\"]\n",
    "black_panther_2018_ratings = user_ratings[user_ratings[\"movie_id\"] == \"black-panther-2018\"]\n",
    "\n",
    "print(f\"Ratings for Black Panther: {black_panther_ratings.shape}\")\n",
    "print(f\"Ratings for Black Panther 2018: {black_panther_2018_ratings.shape}\")"
   ]
  },
  {
   "cell_type": "markdown",
   "id": "8ddee496-9c4a-4026-abe4-07ec1b9e6917",
   "metadata": {},
   "source": [
    "I don't want to do anything else to these tables, let's check again for any missing values or duplicates:"
   ]
  },
  {
   "cell_type": "code",
   "execution_count": 16,
   "id": "90b6e495-6be6-4a2c-8d52-f9865f4cc4fe",
   "metadata": {},
   "outputs": [
    {
     "name": "stdout",
     "output_type": "stream",
     "text": [
      "Number of duplicates: 0\n",
      "Number of records with missing values: 18\n"
     ]
    }
   ],
   "source": [
    "duplicates = merged[merged.duplicated()]\n",
    "print(f\"Number of duplicates: {len(duplicates)}\")\n",
    "\n",
    "missing_data = merged.isnull().any(axis=1)\n",
    "df_missing = merged[missing_data]\n",
    "\n",
    "print(f\"Number of records with missing values: {len(df_missing)}\")\n"
   ]
  },
  {
   "cell_type": "code",
   "execution_count": 17,
   "id": "caf2016f-91e8-430d-87af-2a2bf309fcf3",
   "metadata": {},
   "outputs": [
    {
     "name": "stdout",
     "output_type": "stream",
     "text": [
      "movie_id              0\n",
      "movie_title           0\n",
      "genres                0\n",
      "original_language     0\n",
      "image_url             0\n",
      "runtime               0\n",
      "spoken_languages      0\n",
      "year_released         0\n",
      "rating               18\n",
      "dtype: int64\n"
     ]
    }
   ],
   "source": [
    "print(df_missing.isnull().sum())"
   ]
  },
  {
   "cell_type": "markdown",
   "id": "5904c1a5-8622-4f9c-ac03-9a378183d0e2",
   "metadata": {},
   "source": [
    "A few records have missing ratings as those movies weren't present in the movies_with_ratings table. It's a small enough number that we can ignore those films so I'll drop those records."
   ]
  },
  {
   "cell_type": "code",
   "execution_count": 18,
   "id": "a96d5ffe-fdb1-41fa-9e1d-0444b37306f1",
   "metadata": {},
   "outputs": [
    {
     "data": {
      "text/plain": [
       "(845, 9)"
      ]
     },
     "execution_count": 18,
     "metadata": {},
     "output_type": "execute_result"
    }
   ],
   "source": [
    "merged_clean = merged.dropna()\n",
    "merged_clean.reset_index(drop=True, inplace=True)\n",
    "merged_clean.shape"
   ]
  },
  {
   "cell_type": "markdown",
   "id": "29fd2b03-0558-4fcb-8def-a04698950e70",
   "metadata": {},
   "source": [
    "I'm happy now, let's export the result of the merge into a CSV file so we can test against it in the pipeline (and use it in our enrich/aggregation step)."
   ]
  },
  {
   "cell_type": "code",
   "execution_count": 19,
   "id": "e3ffab87-8342-4679-ad34-1110f9e62019",
   "metadata": {},
   "outputs": [],
   "source": [
    "merged.to_csv(\n",
    "    \"../tests/test_data/expected_merged_clean_results.csv\", index=False\n",
    ")"
   ]
  }
 ],
 "metadata": {
  "kernelspec": {
   "display_name": "Python 3 (ipykernel)",
   "language": "python",
   "name": "python3"
  },
  "language_info": {
   "codemirror_mode": {
    "name": "ipython",
    "version": 3
   },
   "file_extension": ".py",
   "mimetype": "text/x-python",
   "name": "python",
   "nbconvert_exporter": "python",
   "pygments_lexer": "ipython3",
   "version": "3.11.0"
  }
 },
 "nbformat": 4,
 "nbformat_minor": 5
}
