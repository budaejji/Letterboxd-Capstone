{
 "cells": [
  {
   "cell_type": "markdown",
   "id": "be827599-8879-466e-8a6c-d54df9bf4a5d",
   "metadata": {},
   "source": [
    "# Find Average Rating for each Movie as rated by our Users Sub-section"
   ]
  },
  {
   "cell_type": "code",
   "execution_count": 2,
   "id": "9bf0a637-ed62-4da2-9fac-49e3529f5aea",
   "metadata": {},
   "outputs": [],
   "source": [
    "import pandas as pd"
   ]
  },
  {
   "cell_type": "markdown",
   "id": "d291516c-cf20-42b0-88e6-cc071902413e",
   "metadata": {},
   "source": [
    "For each movie in the merged DataFrame, we want to get the average rating from our user_ratings table and append it as a column to the merged DataFrame."
   ]
  },
  {
   "cell_type": "code",
   "execution_count": 3,
   "id": "840b75e3-69e4-481e-8b6a-dc3eccd3b8b3",
   "metadata": {},
   "outputs": [],
   "source": [
    "user_ratings = pd.read_csv(\n",
    "    \"../tests/test_data/expected_user_ratings_clean_results.csv\"\n",
    ")\n",
    "\n",
    "merged_clean = pd.read_csv(\n",
    "    \"../tests/test_data/expected_merged_clean_results.csv\"\n",
    ")"
   ]
  },
  {
   "cell_type": "code",
   "execution_count": 4,
   "id": "49588563-a7d0-4685-a7b2-c67ab442e73a",
   "metadata": {},
   "outputs": [
    {
     "data": {
      "application/vnd.microsoft.datawrangler.viewer.v0+json": {
       "columns": [
        {
         "name": "index",
         "rawType": "int64",
         "type": "integer"
        },
        {
         "name": "movie_id",
         "rawType": "object",
         "type": "string"
        },
        {
         "name": "power_users_rating",
         "rawType": "float64",
         "type": "float"
        }
       ],
       "ref": "4be9b8eb-c778-4446-b1a3-9d23606b7fe1",
       "rows": [
        [
         "0",
         "10-cloverfield-lane",
         "7.3858377474212435"
        ],
        [
         "1",
         "10-things-i-hate-about-you",
         "7.4433249370277075"
        ],
        [
         "2",
         "12-angry-men",
         "9.188401775804662"
        ],
        [
         "3",
         "12-years-a-slave",
         "8.245344658608298"
        ],
        [
         "4",
         "127-hours",
         "7.150172328902019"
        ]
       ],
       "shape": {
        "columns": 2,
        "rows": 5
       }
      },
      "text/html": [
       "<div>\n",
       "<style scoped>\n",
       "    .dataframe tbody tr th:only-of-type {\n",
       "        vertical-align: middle;\n",
       "    }\n",
       "\n",
       "    .dataframe tbody tr th {\n",
       "        vertical-align: top;\n",
       "    }\n",
       "\n",
       "    .dataframe thead th {\n",
       "        text-align: right;\n",
       "    }\n",
       "</style>\n",
       "<table border=\"1\" class=\"dataframe\">\n",
       "  <thead>\n",
       "    <tr style=\"text-align: right;\">\n",
       "      <th></th>\n",
       "      <th>movie_id</th>\n",
       "      <th>power_users_rating</th>\n",
       "    </tr>\n",
       "  </thead>\n",
       "  <tbody>\n",
       "    <tr>\n",
       "      <th>0</th>\n",
       "      <td>10-cloverfield-lane</td>\n",
       "      <td>7.385838</td>\n",
       "    </tr>\n",
       "    <tr>\n",
       "      <th>1</th>\n",
       "      <td>10-things-i-hate-about-you</td>\n",
       "      <td>7.443325</td>\n",
       "    </tr>\n",
       "    <tr>\n",
       "      <th>2</th>\n",
       "      <td>12-angry-men</td>\n",
       "      <td>9.188402</td>\n",
       "    </tr>\n",
       "    <tr>\n",
       "      <th>3</th>\n",
       "      <td>12-years-a-slave</td>\n",
       "      <td>8.245345</td>\n",
       "    </tr>\n",
       "    <tr>\n",
       "      <th>4</th>\n",
       "      <td>127-hours</td>\n",
       "      <td>7.150172</td>\n",
       "    </tr>\n",
       "  </tbody>\n",
       "</table>\n",
       "</div>"
      ],
      "text/plain": [
       "                     movie_id  power_users_rating\n",
       "0         10-cloverfield-lane            7.385838\n",
       "1  10-things-i-hate-about-you            7.443325\n",
       "2                12-angry-men            9.188402\n",
       "3            12-years-a-slave            8.245345\n",
       "4                   127-hours            7.150172"
      ]
     },
     "execution_count": 4,
     "metadata": {},
     "output_type": "execute_result"
    }
   ],
   "source": [
    "avg_ratings = user_ratings.groupby(\"movie_id\")[\"rating_val\"].mean().reset_index()\n",
    "avg_ratings.rename(columns={\"rating_val\": \"power_users_rating\"}, inplace=True)\n",
    "\n",
    "avg_ratings.head()"
   ]
  },
  {
   "cell_type": "markdown",
   "id": "db218d94-142c-4556-8ff1-8441e5929ba5",
   "metadata": {},
   "source": [
    "Let's change the power_users_rating column to 2 decimal places to keep it in line with the rating column."
   ]
  },
  {
   "cell_type": "code",
   "execution_count": 5,
   "id": "f7aa1c1d-c48d-4aa5-81c1-f99061bdfbbd",
   "metadata": {},
   "outputs": [
    {
     "data": {
      "application/vnd.microsoft.datawrangler.viewer.v0+json": {
       "columns": [
        {
         "name": "index",
         "rawType": "int64",
         "type": "integer"
        },
        {
         "name": "movie_id",
         "rawType": "object",
         "type": "string"
        },
        {
         "name": "power_users_rating",
         "rawType": "float64",
         "type": "float"
        }
       ],
       "ref": "99a5e14c-c97a-4dc6-9a91-c3cd0eea21ec",
       "rows": [
        [
         "0",
         "10-cloverfield-lane",
         "7.39"
        ],
        [
         "1",
         "10-things-i-hate-about-you",
         "7.44"
        ],
        [
         "2",
         "12-angry-men",
         "9.19"
        ],
        [
         "3",
         "12-years-a-slave",
         "8.25"
        ],
        [
         "4",
         "127-hours",
         "7.15"
        ]
       ],
       "shape": {
        "columns": 2,
        "rows": 5
       }
      },
      "text/html": [
       "<div>\n",
       "<style scoped>\n",
       "    .dataframe tbody tr th:only-of-type {\n",
       "        vertical-align: middle;\n",
       "    }\n",
       "\n",
       "    .dataframe tbody tr th {\n",
       "        vertical-align: top;\n",
       "    }\n",
       "\n",
       "    .dataframe thead th {\n",
       "        text-align: right;\n",
       "    }\n",
       "</style>\n",
       "<table border=\"1\" class=\"dataframe\">\n",
       "  <thead>\n",
       "    <tr style=\"text-align: right;\">\n",
       "      <th></th>\n",
       "      <th>movie_id</th>\n",
       "      <th>power_users_rating</th>\n",
       "    </tr>\n",
       "  </thead>\n",
       "  <tbody>\n",
       "    <tr>\n",
       "      <th>0</th>\n",
       "      <td>10-cloverfield-lane</td>\n",
       "      <td>7.39</td>\n",
       "    </tr>\n",
       "    <tr>\n",
       "      <th>1</th>\n",
       "      <td>10-things-i-hate-about-you</td>\n",
       "      <td>7.44</td>\n",
       "    </tr>\n",
       "    <tr>\n",
       "      <th>2</th>\n",
       "      <td>12-angry-men</td>\n",
       "      <td>9.19</td>\n",
       "    </tr>\n",
       "    <tr>\n",
       "      <th>3</th>\n",
       "      <td>12-years-a-slave</td>\n",
       "      <td>8.25</td>\n",
       "    </tr>\n",
       "    <tr>\n",
       "      <th>4</th>\n",
       "      <td>127-hours</td>\n",
       "      <td>7.15</td>\n",
       "    </tr>\n",
       "  </tbody>\n",
       "</table>\n",
       "</div>"
      ],
      "text/plain": [
       "                     movie_id  power_users_rating\n",
       "0         10-cloverfield-lane                7.39\n",
       "1  10-things-i-hate-about-you                7.44\n",
       "2                12-angry-men                9.19\n",
       "3            12-years-a-slave                8.25\n",
       "4                   127-hours                7.15"
      ]
     },
     "execution_count": 5,
     "metadata": {},
     "output_type": "execute_result"
    }
   ],
   "source": [
    "avg_ratings[\"power_users_rating\"] = avg_ratings[\"power_users_rating\"].round(2)\n",
    "avg_ratings.head()"
   ]
  },
  {
   "cell_type": "code",
   "execution_count": 6,
   "id": "c5859a73-b5e9-4f8d-8e01-a04ef74f5e24",
   "metadata": {},
   "outputs": [
    {
     "data": {
      "application/vnd.microsoft.datawrangler.viewer.v0+json": {
       "columns": [
        {
         "name": "index",
         "rawType": "int64",
         "type": "integer"
        },
        {
         "name": "movie_id",
         "rawType": "object",
         "type": "string"
        },
        {
         "name": "movie_title",
         "rawType": "object",
         "type": "string"
        },
        {
         "name": "genres",
         "rawType": "object",
         "type": "string"
        },
        {
         "name": "original_language",
         "rawType": "object",
         "type": "string"
        },
        {
         "name": "image_url",
         "rawType": "object",
         "type": "string"
        },
        {
         "name": "runtime",
         "rawType": "int64",
         "type": "integer"
        },
        {
         "name": "spoken_languages",
         "rawType": "object",
         "type": "string"
        },
        {
         "name": "year_released",
         "rawType": "int64",
         "type": "integer"
        },
        {
         "name": "rating",
         "rawType": "float64",
         "type": "float"
        },
        {
         "name": "power_users_rating",
         "rawType": "float64",
         "type": "float"
        }
       ],
       "ref": "6b34c8f7-8a3e-43c5-bdf0-58e24f8b25dd",
       "rows": [
        [
         "0",
         "napoleon-dynamite",
         "Napoleon Dynamite",
         "['Comedy']",
         "en",
         "sm/upload/wu/r9/ma/tt/2VMXuUAvU8T0oQl0w77CqVARxYs-0-230-0-345-crop",
         "95",
         "['English']",
         "2004",
         "7.36",
         "6.79"
        ],
        [
         "1",
         "insomnia-2002",
         "Insomnia",
         "['Crime', 'Mystery', 'Thriller']",
         "en",
         "film-poster/5/1/7/3/9/51739-insomnia-0-230-0-345-crop",
         "118",
         "['English']",
         "2002",
         "7.06",
         "6.76"
        ],
        [
         "2",
         "a-bugs-life",
         "A Bug's Life",
         "['Adventure', 'Animation', 'Comedy', 'Family']",
         "en",
         "film-poster/4/7/1/1/1/47111-a-bug-s-life-0-230-0-345-crop",
         "95",
         "['English']",
         "1998",
         "6.9",
         "6.59"
        ],
        [
         "3",
         "before-midnight",
         "Before Midnight",
         "['Romance', 'Drama']",
         "en",
         "film-poster/1/0/2/4/4/4/102444-before-midnight-0-230-0-345-crop",
         "109",
         "['English', 'ελληνικά', 'Français']",
         "2013",
         "8.14",
         "8.47"
        ],
        [
         "4",
         "searching-2018",
         "Searching",
         "['Thriller', 'Mystery', 'Drama']",
         "en",
         "film-poster/4/2/0/4/6/7/420467-searching-0-230-0-345-crop",
         "102",
         "['English']",
         "2018",
         "7.44",
         "7.41"
        ]
       ],
       "shape": {
        "columns": 10,
        "rows": 5
       }
      },
      "text/html": [
       "<div>\n",
       "<style scoped>\n",
       "    .dataframe tbody tr th:only-of-type {\n",
       "        vertical-align: middle;\n",
       "    }\n",
       "\n",
       "    .dataframe tbody tr th {\n",
       "        vertical-align: top;\n",
       "    }\n",
       "\n",
       "    .dataframe thead th {\n",
       "        text-align: right;\n",
       "    }\n",
       "</style>\n",
       "<table border=\"1\" class=\"dataframe\">\n",
       "  <thead>\n",
       "    <tr style=\"text-align: right;\">\n",
       "      <th></th>\n",
       "      <th>movie_id</th>\n",
       "      <th>movie_title</th>\n",
       "      <th>genres</th>\n",
       "      <th>original_language</th>\n",
       "      <th>image_url</th>\n",
       "      <th>runtime</th>\n",
       "      <th>spoken_languages</th>\n",
       "      <th>year_released</th>\n",
       "      <th>rating</th>\n",
       "      <th>power_users_rating</th>\n",
       "    </tr>\n",
       "  </thead>\n",
       "  <tbody>\n",
       "    <tr>\n",
       "      <th>0</th>\n",
       "      <td>napoleon-dynamite</td>\n",
       "      <td>Napoleon Dynamite</td>\n",
       "      <td>['Comedy']</td>\n",
       "      <td>en</td>\n",
       "      <td>sm/upload/wu/r9/ma/tt/2VMXuUAvU8T0oQl0w77CqVAR...</td>\n",
       "      <td>95</td>\n",
       "      <td>['English']</td>\n",
       "      <td>2004</td>\n",
       "      <td>7.36</td>\n",
       "      <td>6.79</td>\n",
       "    </tr>\n",
       "    <tr>\n",
       "      <th>1</th>\n",
       "      <td>insomnia-2002</td>\n",
       "      <td>Insomnia</td>\n",
       "      <td>['Crime', 'Mystery', 'Thriller']</td>\n",
       "      <td>en</td>\n",
       "      <td>film-poster/5/1/7/3/9/51739-insomnia-0-230-0-3...</td>\n",
       "      <td>118</td>\n",
       "      <td>['English']</td>\n",
       "      <td>2002</td>\n",
       "      <td>7.06</td>\n",
       "      <td>6.76</td>\n",
       "    </tr>\n",
       "    <tr>\n",
       "      <th>2</th>\n",
       "      <td>a-bugs-life</td>\n",
       "      <td>A Bug's Life</td>\n",
       "      <td>['Adventure', 'Animation', 'Comedy', 'Family']</td>\n",
       "      <td>en</td>\n",
       "      <td>film-poster/4/7/1/1/1/47111-a-bug-s-life-0-230...</td>\n",
       "      <td>95</td>\n",
       "      <td>['English']</td>\n",
       "      <td>1998</td>\n",
       "      <td>6.90</td>\n",
       "      <td>6.59</td>\n",
       "    </tr>\n",
       "    <tr>\n",
       "      <th>3</th>\n",
       "      <td>before-midnight</td>\n",
       "      <td>Before Midnight</td>\n",
       "      <td>['Romance', 'Drama']</td>\n",
       "      <td>en</td>\n",
       "      <td>film-poster/1/0/2/4/4/4/102444-before-midnight...</td>\n",
       "      <td>109</td>\n",
       "      <td>['English', 'ελληνικά', 'Français']</td>\n",
       "      <td>2013</td>\n",
       "      <td>8.14</td>\n",
       "      <td>8.47</td>\n",
       "    </tr>\n",
       "    <tr>\n",
       "      <th>4</th>\n",
       "      <td>searching-2018</td>\n",
       "      <td>Searching</td>\n",
       "      <td>['Thriller', 'Mystery', 'Drama']</td>\n",
       "      <td>en</td>\n",
       "      <td>film-poster/4/2/0/4/6/7/420467-searching-0-230...</td>\n",
       "      <td>102</td>\n",
       "      <td>['English']</td>\n",
       "      <td>2018</td>\n",
       "      <td>7.44</td>\n",
       "      <td>7.41</td>\n",
       "    </tr>\n",
       "  </tbody>\n",
       "</table>\n",
       "</div>"
      ],
      "text/plain": [
       "            movie_id        movie_title  \\\n",
       "0  napoleon-dynamite  Napoleon Dynamite   \n",
       "1      insomnia-2002           Insomnia   \n",
       "2        a-bugs-life       A Bug's Life   \n",
       "3    before-midnight    Before Midnight   \n",
       "4     searching-2018          Searching   \n",
       "\n",
       "                                           genres original_language  \\\n",
       "0                                      ['Comedy']                en   \n",
       "1                ['Crime', 'Mystery', 'Thriller']                en   \n",
       "2  ['Adventure', 'Animation', 'Comedy', 'Family']                en   \n",
       "3                            ['Romance', 'Drama']                en   \n",
       "4                ['Thriller', 'Mystery', 'Drama']                en   \n",
       "\n",
       "                                           image_url  runtime  \\\n",
       "0  sm/upload/wu/r9/ma/tt/2VMXuUAvU8T0oQl0w77CqVAR...       95   \n",
       "1  film-poster/5/1/7/3/9/51739-insomnia-0-230-0-3...      118   \n",
       "2  film-poster/4/7/1/1/1/47111-a-bug-s-life-0-230...       95   \n",
       "3  film-poster/1/0/2/4/4/4/102444-before-midnight...      109   \n",
       "4  film-poster/4/2/0/4/6/7/420467-searching-0-230...      102   \n",
       "\n",
       "                      spoken_languages  year_released  rating  \\\n",
       "0                          ['English']           2004    7.36   \n",
       "1                          ['English']           2002    7.06   \n",
       "2                          ['English']           1998    6.90   \n",
       "3  ['English', 'ελληνικά', 'Français']           2013    8.14   \n",
       "4                          ['English']           2018    7.44   \n",
       "\n",
       "   power_users_rating  \n",
       "0                6.79  \n",
       "1                6.76  \n",
       "2                6.59  \n",
       "3                8.47  \n",
       "4                7.41  "
      ]
     },
     "execution_count": 6,
     "metadata": {},
     "output_type": "execute_result"
    }
   ],
   "source": [
    "merged_clean_enriched = merged_clean.merge(avg_ratings, on=\"movie_id\", how=\"left\")\n",
    "merged_clean_enriched.head()"
   ]
  },
  {
   "cell_type": "markdown",
   "id": "2836c43e-861d-43f8-b390-eaef3fe87943",
   "metadata": {},
   "source": [
    "# Rating Count by our Users Sub-section for each Movie"
   ]
  },
  {
   "cell_type": "markdown",
   "id": "28217e1a-d960-42c1-b1cd-9d09da302a81",
   "metadata": {},
   "source": [
    "I also want to add the number of ratings our power-users made for each movie to determine the popularity of each movie."
   ]
  },
  {
   "cell_type": "code",
   "execution_count": 7,
   "id": "5917dee6-e949-4cbb-b064-be71d9924b98",
   "metadata": {},
   "outputs": [
    {
     "data": {
      "application/vnd.microsoft.datawrangler.viewer.v0+json": {
       "columns": [
        {
         "name": "movie_id",
         "rawType": "object",
         "type": "string"
        },
        {
         "name": "rating_val",
         "rawType": "int64",
         "type": "integer"
        }
       ],
       "ref": "0c7053d9-6669-4701-8e13-55dcefe4eaeb",
       "rows": [
        [
         "10-cloverfield-lane",
         "3587"
        ],
        [
         "10-things-i-hate-about-you",
         "2779"
        ],
        [
         "12-angry-men",
         "3604"
        ],
        [
         "12-years-a-slave",
         "3061"
        ],
        [
         "127-hours",
         "2031"
        ]
       ],
       "shape": {
        "columns": 1,
        "rows": 5
       }
      },
      "text/plain": [
       "movie_id\n",
       "10-cloverfield-lane           3587\n",
       "10-things-i-hate-about-you    2779\n",
       "12-angry-men                  3604\n",
       "12-years-a-slave              3061\n",
       "127-hours                     2031\n",
       "Name: rating_val, dtype: int64"
      ]
     },
     "execution_count": 7,
     "metadata": {},
     "output_type": "execute_result"
    }
   ],
   "source": [
    "rating_count = user_ratings.groupby(\"movie_id\")[\"rating_val\"].count()\n",
    "\n",
    "rating_count.head()"
   ]
  },
  {
   "cell_type": "code",
   "execution_count": 8,
   "id": "e15118b1-9b44-4fc5-a890-96f90c2d063e",
   "metadata": {},
   "outputs": [
    {
     "data": {
      "application/vnd.microsoft.datawrangler.viewer.v0+json": {
       "columns": [
        {
         "name": "index",
         "rawType": "int64",
         "type": "integer"
        },
        {
         "name": "movie_id",
         "rawType": "object",
         "type": "string"
        },
        {
         "name": "movie_title",
         "rawType": "object",
         "type": "string"
        },
        {
         "name": "genres",
         "rawType": "object",
         "type": "string"
        },
        {
         "name": "original_language",
         "rawType": "object",
         "type": "string"
        },
        {
         "name": "image_url",
         "rawType": "object",
         "type": "string"
        },
        {
         "name": "runtime",
         "rawType": "int64",
         "type": "integer"
        },
        {
         "name": "spoken_languages",
         "rawType": "object",
         "type": "string"
        },
        {
         "name": "year_released",
         "rawType": "int64",
         "type": "integer"
        },
        {
         "name": "rating",
         "rawType": "float64",
         "type": "float"
        },
        {
         "name": "power_users_rating",
         "rawType": "float64",
         "type": "float"
        },
        {
         "name": "rating_count",
         "rawType": "int64",
         "type": "integer"
        }
       ],
       "ref": "6ec2aae2-60b7-4a37-8e3c-34b7cadb367e",
       "rows": [
        [
         "0",
         "napoleon-dynamite",
         "Napoleon Dynamite",
         "['Comedy']",
         "en",
         "sm/upload/wu/r9/ma/tt/2VMXuUAvU8T0oQl0w77CqVARxYs-0-230-0-345-crop",
         "95",
         "['English']",
         "2004",
         "7.36",
         "6.79",
         "2101"
        ],
        [
         "1",
         "insomnia-2002",
         "Insomnia",
         "['Crime', 'Mystery', 'Thriller']",
         "en",
         "film-poster/5/1/7/3/9/51739-insomnia-0-230-0-345-crop",
         "118",
         "['English']",
         "2002",
         "7.06",
         "6.76",
         "2089"
        ],
        [
         "2",
         "a-bugs-life",
         "A Bug's Life",
         "['Adventure', 'Animation', 'Comedy', 'Family']",
         "en",
         "film-poster/4/7/1/1/1/47111-a-bug-s-life-0-230-0-345-crop",
         "95",
         "['English']",
         "1998",
         "6.9",
         "6.59",
         "2608"
        ],
        [
         "3",
         "before-midnight",
         "Before Midnight",
         "['Romance', 'Drama']",
         "en",
         "film-poster/1/0/2/4/4/4/102444-before-midnight-0-230-0-345-crop",
         "109",
         "['English', 'ελληνικά', 'Français']",
         "2013",
         "8.14",
         "8.47",
         "2768"
        ],
        [
         "4",
         "searching-2018",
         "Searching",
         "['Thriller', 'Mystery', 'Drama']",
         "en",
         "film-poster/4/2/0/4/6/7/420467-searching-0-230-0-345-crop",
         "102",
         "['English']",
         "2018",
         "7.44",
         "7.41",
         "2775"
        ]
       ],
       "shape": {
        "columns": 11,
        "rows": 5
       }
      },
      "text/html": [
       "<div>\n",
       "<style scoped>\n",
       "    .dataframe tbody tr th:only-of-type {\n",
       "        vertical-align: middle;\n",
       "    }\n",
       "\n",
       "    .dataframe tbody tr th {\n",
       "        vertical-align: top;\n",
       "    }\n",
       "\n",
       "    .dataframe thead th {\n",
       "        text-align: right;\n",
       "    }\n",
       "</style>\n",
       "<table border=\"1\" class=\"dataframe\">\n",
       "  <thead>\n",
       "    <tr style=\"text-align: right;\">\n",
       "      <th></th>\n",
       "      <th>movie_id</th>\n",
       "      <th>movie_title</th>\n",
       "      <th>genres</th>\n",
       "      <th>original_language</th>\n",
       "      <th>image_url</th>\n",
       "      <th>runtime</th>\n",
       "      <th>spoken_languages</th>\n",
       "      <th>year_released</th>\n",
       "      <th>rating</th>\n",
       "      <th>power_users_rating</th>\n",
       "      <th>rating_count</th>\n",
       "    </tr>\n",
       "  </thead>\n",
       "  <tbody>\n",
       "    <tr>\n",
       "      <th>0</th>\n",
       "      <td>napoleon-dynamite</td>\n",
       "      <td>Napoleon Dynamite</td>\n",
       "      <td>['Comedy']</td>\n",
       "      <td>en</td>\n",
       "      <td>sm/upload/wu/r9/ma/tt/2VMXuUAvU8T0oQl0w77CqVAR...</td>\n",
       "      <td>95</td>\n",
       "      <td>['English']</td>\n",
       "      <td>2004</td>\n",
       "      <td>7.36</td>\n",
       "      <td>6.79</td>\n",
       "      <td>2101</td>\n",
       "    </tr>\n",
       "    <tr>\n",
       "      <th>1</th>\n",
       "      <td>insomnia-2002</td>\n",
       "      <td>Insomnia</td>\n",
       "      <td>['Crime', 'Mystery', 'Thriller']</td>\n",
       "      <td>en</td>\n",
       "      <td>film-poster/5/1/7/3/9/51739-insomnia-0-230-0-3...</td>\n",
       "      <td>118</td>\n",
       "      <td>['English']</td>\n",
       "      <td>2002</td>\n",
       "      <td>7.06</td>\n",
       "      <td>6.76</td>\n",
       "      <td>2089</td>\n",
       "    </tr>\n",
       "    <tr>\n",
       "      <th>2</th>\n",
       "      <td>a-bugs-life</td>\n",
       "      <td>A Bug's Life</td>\n",
       "      <td>['Adventure', 'Animation', 'Comedy', 'Family']</td>\n",
       "      <td>en</td>\n",
       "      <td>film-poster/4/7/1/1/1/47111-a-bug-s-life-0-230...</td>\n",
       "      <td>95</td>\n",
       "      <td>['English']</td>\n",
       "      <td>1998</td>\n",
       "      <td>6.90</td>\n",
       "      <td>6.59</td>\n",
       "      <td>2608</td>\n",
       "    </tr>\n",
       "    <tr>\n",
       "      <th>3</th>\n",
       "      <td>before-midnight</td>\n",
       "      <td>Before Midnight</td>\n",
       "      <td>['Romance', 'Drama']</td>\n",
       "      <td>en</td>\n",
       "      <td>film-poster/1/0/2/4/4/4/102444-before-midnight...</td>\n",
       "      <td>109</td>\n",
       "      <td>['English', 'ελληνικά', 'Français']</td>\n",
       "      <td>2013</td>\n",
       "      <td>8.14</td>\n",
       "      <td>8.47</td>\n",
       "      <td>2768</td>\n",
       "    </tr>\n",
       "    <tr>\n",
       "      <th>4</th>\n",
       "      <td>searching-2018</td>\n",
       "      <td>Searching</td>\n",
       "      <td>['Thriller', 'Mystery', 'Drama']</td>\n",
       "      <td>en</td>\n",
       "      <td>film-poster/4/2/0/4/6/7/420467-searching-0-230...</td>\n",
       "      <td>102</td>\n",
       "      <td>['English']</td>\n",
       "      <td>2018</td>\n",
       "      <td>7.44</td>\n",
       "      <td>7.41</td>\n",
       "      <td>2775</td>\n",
       "    </tr>\n",
       "  </tbody>\n",
       "</table>\n",
       "</div>"
      ],
      "text/plain": [
       "            movie_id        movie_title  \\\n",
       "0  napoleon-dynamite  Napoleon Dynamite   \n",
       "1      insomnia-2002           Insomnia   \n",
       "2        a-bugs-life       A Bug's Life   \n",
       "3    before-midnight    Before Midnight   \n",
       "4     searching-2018          Searching   \n",
       "\n",
       "                                           genres original_language  \\\n",
       "0                                      ['Comedy']                en   \n",
       "1                ['Crime', 'Mystery', 'Thriller']                en   \n",
       "2  ['Adventure', 'Animation', 'Comedy', 'Family']                en   \n",
       "3                            ['Romance', 'Drama']                en   \n",
       "4                ['Thriller', 'Mystery', 'Drama']                en   \n",
       "\n",
       "                                           image_url  runtime  \\\n",
       "0  sm/upload/wu/r9/ma/tt/2VMXuUAvU8T0oQl0w77CqVAR...       95   \n",
       "1  film-poster/5/1/7/3/9/51739-insomnia-0-230-0-3...      118   \n",
       "2  film-poster/4/7/1/1/1/47111-a-bug-s-life-0-230...       95   \n",
       "3  film-poster/1/0/2/4/4/4/102444-before-midnight...      109   \n",
       "4  film-poster/4/2/0/4/6/7/420467-searching-0-230...      102   \n",
       "\n",
       "                      spoken_languages  year_released  rating  \\\n",
       "0                          ['English']           2004    7.36   \n",
       "1                          ['English']           2002    7.06   \n",
       "2                          ['English']           1998    6.90   \n",
       "3  ['English', 'ελληνικά', 'Français']           2013    8.14   \n",
       "4                          ['English']           2018    7.44   \n",
       "\n",
       "   power_users_rating  rating_count  \n",
       "0                6.79          2101  \n",
       "1                6.76          2089  \n",
       "2                6.59          2608  \n",
       "3                8.47          2768  \n",
       "4                7.41          2775  "
      ]
     },
     "execution_count": 8,
     "metadata": {},
     "output_type": "execute_result"
    }
   ],
   "source": [
    "merged_clean_enriched = merged_clean_enriched.merge(rating_count.rename(\"rating_count\"), on=\"movie_id\", how=\"left\")\n",
    "merged_clean_enriched.head()"
   ]
  },
  {
   "cell_type": "markdown",
   "id": "14edd078-7f0e-41ac-85c7-dae39a310fc2",
   "metadata": {},
   "source": [
    "I'm happy with this table now, let's export the result of the merge into a CSV file so we can test against it in the pipeline."
   ]
  },
  {
   "cell_type": "code",
   "execution_count": 9,
   "id": "49839c8b-bc01-48ec-a270-5194a14ad2b4",
   "metadata": {},
   "outputs": [],
   "source": [
    "merged_clean_enriched.to_csv(\n",
    "    \"../tests/test_data/expected_merged_enriched_results.csv\", index=False\n",
    ")"
   ]
  }
 ],
 "metadata": {
  "kernelspec": {
   "display_name": ".venv",
   "language": "python",
   "name": "python3"
  },
  "language_info": {
   "codemirror_mode": {
    "name": "ipython",
    "version": 3
   },
   "file_extension": ".py",
   "mimetype": "text/x-python",
   "name": "python",
   "nbconvert_exporter": "python",
   "pygments_lexer": "ipython3",
   "version": "3.11.0"
  }
 },
 "nbformat": 4,
 "nbformat_minor": 5
}
