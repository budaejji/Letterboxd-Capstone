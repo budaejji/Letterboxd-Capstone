{
 "cells": [
  {
   "cell_type": "markdown",
   "id": "1d43c96c-ab6e-469a-ae32-c50756403fd1",
   "metadata": {},
   "source": [
    "# Exploratory Data Analysis of Movies"
   ]
  },
  {
   "cell_type": "code",
   "execution_count": 1,
   "id": "b70c7259-1398-4dcb-8960-495ca1d7550a",
   "metadata": {},
   "outputs": [],
   "source": [
    "import pandas as pd"
   ]
  },
  {
   "cell_type": "code",
   "execution_count": 2,
   "id": "b0e34072-fb19-4f14-bda7-4585db3b4b14",
   "metadata": {},
   "outputs": [
    {
     "name": "stdout",
     "output_type": "stream",
     "text": [
      "<class 'pandas.core.frame.DataFrame'>\n",
      "RangeIndex: 865 entries, 0 to 864\n",
      "Data columns (total 8 columns):\n",
      " #   Column             Non-Null Count  Dtype  \n",
      "---  ------             --------------  -----  \n",
      " 0   movie_id           865 non-null    object \n",
      " 1   movie_title        865 non-null    object \n",
      " 2   genres             865 non-null    object \n",
      " 3   original_language  865 non-null    object \n",
      " 4   image_url          865 non-null    object \n",
      " 5   runtime            865 non-null    float64\n",
      " 6   spoken_languages   865 non-null    object \n",
      " 7   year_released      865 non-null    float64\n",
      "dtypes: float64(2), object(6)\n",
      "memory usage: 54.2+ KB\n"
     ]
    }
   ],
   "source": [
    "movies = pd.read_csv('../data/raw/unclean_movies.csv')\n",
    "\n",
    "# Display some information about the transactions DataFrame\n",
    "movies.info()"
   ]
  },
  {
   "cell_type": "markdown",
   "id": "7a8ec20e-e533-4739-bd4f-fad3e2ffaf35",
   "metadata": {},
   "source": [
    "Runtime and year_released are of type float which may want to convert to int. Many columns have data type object and are not explicit about what's in them. I'll first check if there's any mismatched data types."
   ]
  },
  {
   "cell_type": "code",
   "execution_count": 3,
   "id": "2d86df9e-e695-4276-b413-bed0d82bfa07",
   "metadata": {},
   "outputs": [
    {
     "name": "stdout",
     "output_type": "stream",
     "text": [
      "movie_id types: [<class 'str'>]\n",
      "movie_title types: [<class 'str'>]\n",
      "genres types: [<class 'str'>]\n",
      "original_language types: [<class 'str'>]\n",
      "image_url types: [<class 'str'>]\n",
      "spoken_languages types: [<class 'str'>]\n"
     ]
    }
   ],
   "source": [
    "print(f\"movie_id types: {movies['movie_id'].apply(type).unique()}\")\n",
    "print(f\"movie_title types: {movies['movie_title'].apply(type).unique()}\")\n",
    "print(f\"genres types: {movies['genres'].apply(type).unique()}\")\n",
    "print(f\"original_language types: {movies['original_language'].apply(type).unique()}\")\n",
    "print(f\"image_url types: {movies['image_url'].apply(type).unique()}\")\n",
    "print(f\"spoken_languages types: {movies['spoken_languages'].apply(type).unique()}\")\n"
   ]
  },
  {
   "cell_type": "markdown",
   "id": "57a6850d-cf20-43a7-a163-e403e1638abb",
   "metadata": {},
   "source": [
    "They all only contain strings. However, some of the columns look like arrays, and we will probably want to convert them to arrays. Currently any empty array will not be flagged as missing data so we will need to check those columns again after transformation."
   ]
  },
  {
   "cell_type": "code",
   "execution_count": 4,
   "id": "83fea5ad-846a-40b9-a1ee-03ae29816435",
   "metadata": {},
   "outputs": [
    {
     "data": {
      "text/plain": [
       "np.int64(0)"
      ]
     },
     "execution_count": 4,
     "metadata": {},
     "output_type": "execute_result"
    }
   ],
   "source": [
    "movies.isnull().any(axis=1).sum()"
   ]
  },
  {
   "cell_type": "markdown",
   "id": "3d9ac0fc-dcae-4a2e-9782-c54b095c7d2a",
   "metadata": {},
   "source": [
    "There are no rows with missing data in any of the columns."
   ]
  },
  {
   "cell_type": "code",
   "execution_count": 5,
   "id": "df20751f-7314-42cb-a7e2-16827e527baf",
   "metadata": {},
   "outputs": [
    {
     "name": "stdout",
     "output_type": "stream",
     "text": [
      "There are 0 duplicate rows in the movies DataFrame.\n"
     ]
    }
   ],
   "source": [
    "duplicates = movies.duplicated().sum()\n",
    "print(f'There are {duplicates} duplicate rows in the movies DataFrame.')"
   ]
  },
  {
   "cell_type": "markdown",
   "id": "d9345369-cb7c-49dd-9e24-73eee9db15af",
   "metadata": {},
   "source": [
    "There are no duplicated records."
   ]
  },
  {
   "cell_type": "code",
   "execution_count": 6,
   "id": "4ff53a12-f376-4dcf-98c5-35ad922e44fe",
   "metadata": {},
   "outputs": [
    {
     "data": {
      "text/plain": [
       "(865, 8)"
      ]
     },
     "execution_count": 6,
     "metadata": {},
     "output_type": "execute_result"
    }
   ],
   "source": [
    "movies.shape"
   ]
  },
  {
   "cell_type": "markdown",
   "id": "065a8388-315a-44fe-9e0c-9d1d7bf581ad",
   "metadata": {},
   "source": [
    "Checking for any records with same title but with other columns differing:"
   ]
  },
  {
   "cell_type": "code",
   "execution_count": 7,
   "id": "0637d390-4132-4ec1-aca5-c694b100ccf2",
   "metadata": {},
   "outputs": [
    {
     "data": {
      "application/vnd.microsoft.datawrangler.viewer.v0+json": {
       "columns": [
        {
         "name": "index",
         "rawType": "int64",
         "type": "integer"
        },
        {
         "name": "movie_id",
         "rawType": "object",
         "type": "string"
        },
        {
         "name": "movie_title",
         "rawType": "object",
         "type": "string"
        },
        {
         "name": "genres",
         "rawType": "object",
         "type": "string"
        },
        {
         "name": "original_language",
         "rawType": "object",
         "type": "string"
        },
        {
         "name": "image_url",
         "rawType": "object",
         "type": "string"
        },
        {
         "name": "runtime",
         "rawType": "float64",
         "type": "float"
        },
        {
         "name": "spoken_languages",
         "rawType": "object",
         "type": "string"
        },
        {
         "name": "year_released",
         "rawType": "float64",
         "type": "float"
        }
       ],
       "ref": "118ad3c4-14cd-4612-9132-e8538477a86f",
       "rows": [
        [
         "12",
         "the-lion-king",
         "The Lion King",
         "[\"Family\",\"Animation\",\"Drama\"]",
         "en",
         "sm/upload/lz/96/yu/mf/ztuEReeV6ofpU1HxUV9AsR6aLoe-0-230-0-345-crop",
         "89.0",
         "[\"English\"]",
         "1994.0"
        ],
        [
         "83",
         "ghostbusters-2016",
         "Ghostbusters",
         "[\"Action\",\"Fantasy\",\"Comedy\"]",
         "en",
         "film-poster/2/2/0/4/8/22048-ghostbusters-0-230-0-345-crop",
         "117.0",
         "[\"English\"]",
         "2016.0"
        ],
        [
         "85",
         "beauty-and-the-beast-2017",
         "Beauty and the Beast",
         "[\"Family\",\"Fantasy\",\"Romance\"]",
         "en",
         "film-poster/2/4/8/7/0/8/248708-beauty-and-the-beast-0-230-0-345-crop",
         "129.0",
         "[\"Français\",\"English\"]",
         "2017.0"
        ],
        [
         "191",
         "black-panther-2018",
         "Black Panther",
         "[\"Action\",\"Adventure\",\"Science Fiction\"]",
         "en",
         "film-poster/2/0/9/3/8/3/209383-black-panther-0-230-0-345-crop",
         "134.0",
         "[\"English\",\"한국어/조선말\",\"Kiswahili\",\"\"]",
         "2018.0"
        ],
        [
         "232",
         "halloween-2018",
         "Halloween",
         "[\"Horror\",\"Thriller\"]",
         "en",
         "film-poster/3/5/7/6/8/2/357682-halloween-0-230-0-345-crop",
         "106.0",
         "[\"English\"]",
         "2018.0"
        ],
        [
         "333",
         "suspiria",
         "Suspiria",
         "[\"Horror\"]",
         "it",
         "film-poster/4/4/9/0/0/44900-suspiria-0-230-0-345-crop",
         "99.0",
         "[\"Deutsch\",\"English\",\"Italiano\",\"Latin\"]",
         "1977.0"
        ],
        [
         "400",
         "the-lion-king-2019",
         "The Lion King",
         "[\"Adventure\",\"Family\",\"Animation\"]",
         "en",
         "film-poster/3/5/4/5/3/9/354539-the-lion-king-0-230-0-345-crop",
         "118.0",
         "[\"English\"]",
         "2019.0"
        ],
        [
         "413",
         "beauty-and-the-beast-1991",
         "Beauty and the Beast",
         "[\"Romance\",\"Family\",\"Animation\",\"Fantasy\"]",
         "en",
         "sm/upload/qw/zu/zk/ky/iLe8yMOF5we6lvYbKLHzho7ATQk-0-230-0-345-crop",
         "84.0",
         "[\"Français\",\"English\"]",
         "1991.0"
        ],
        [
         "446",
         "aladdin",
         "Aladdin",
         "[\"Animation\",\"Family\",\"Adventure\",\"Fantasy\",\"Romance\"]",
         "en",
         "sm/upload/n3/26/lb/e2/trm94WPjW5ApKulhFvuRm5cT8KQ-0-230-0-345-crop",
         "90.0",
         "[\"English\"]",
         "1992.0"
        ],
        [
         "508",
         "suspiria-2018",
         "Suspiria",
         "[\"Horror\",\"Thriller\"]",
         "en",
         "film-poster/2/9/3/0/6/6/293066-suspiria-0-230-0-345-crop",
         "152.0",
         "[\"English\",\"Français\",\"Deutsch\"]",
         "2018.0"
        ],
        [
         "651",
         "west-side-story",
         "West Side Story",
         "[\"Crime\",\"Drama\",\"Romance\"]",
         "en",
         "sm/upload/em/vs/66/tb/zRQhCSREdR9h4OzEVvwhdlZNZ6m-0-230-0-345-crop",
         "152.0",
         "[\"Español\",\"English\"]",
         "1961.0"
        ],
        [
         "667",
         "aladdin-2019",
         "Aladdin",
         "[\"Adventure\",\"Fantasy\",\"Romance\",\"Family\"]",
         "en",
         "sm/upload/qh/co/7j/kl/aladdin-0-230-0-345-crop",
         "128.0",
         "[\"English\"]",
         "2019.0"
        ],
        [
         "727",
         "ghostbusters",
         "Ghostbusters",
         "[\"Comedy\",\"Fantasy\"]",
         "en",
         "film-poster/6/1/6/6/6166-ghostbusters-0-230-0-345-crop",
         "107.0",
         "[\"English\"]",
         "1984.0"
        ],
        [
         "762",
         "dune",
         "Dune",
         "[\"Action\",\"Science Fiction\",\"Adventure\"]",
         "en",
         "sm/upload/e9/3l/l6/pt/dune-0-230-0-345-crop",
         "137.0",
         "[\"English\",\"Italiano\"]",
         "1984.0"
        ],
        [
         "814",
         "halloween-1978",
         "Halloween",
         "[\"Horror\",\"Thriller\"]",
         "en",
         "film-poster/6/0/2/9/8/60298-halloween-0-230-0-345-crop",
         "91.0",
         "[\"English\"]",
         "1978.0"
        ],
        [
         "815",
         "ex-machina-2014",
         "Ex Machina",
         "[\"Drama\",\"Science Fiction\"]",
         "en",
         "film-poster/1/8/7/9/8/6/187986-ex-machina-0-230-0-345-crop",
         "108.0",
         "[\"English\"]",
         "2014.0"
        ],
        [
         "834",
         "dune-2021",
         "Dune",
         "[\"Science Fiction\",\"Adventure\"]",
         "en",
         "sm/upload/nx/8b/vs/gc/cDbNAY0KM84cxXhmj8f0dLWza3t-0-230-0-345-crop",
         "155.0",
         "[\"普通话\",\"English\"]",
         "2021.0"
        ],
        [
         "837",
         "west-side-story-2021",
         "West Side Story",
         "[\"Drama\",\"Romance\",\"Crime\"]",
         "en",
         "sm/upload/nn/9m/oa/gb/uvDAImzaVVO04h3CUM1pVJ535nf-0-230-0-345-crop",
         "156.0",
         "[\"English\"]",
         "2021.0"
        ],
        [
         "846",
         "black-panther",
         "Black Panther",
         "[\"Action\",\"Adventure\",\"Science Fiction\"]",
         "en",
         "film-poster/2/0/9/3/8/3/209383-black-panther-0-230-0-345-crop",
         "134.0",
         "[\"English\",\"한국어/조선말\",\"Kiswahili\",\"\"]",
         "2018.0"
        ],
        [
         "864",
         "ex-machina-2015",
         "Ex Machina",
         "[\"Drama\",\"Science Fiction\"]",
         "en",
         "film-poster/1/8/7/9/8/6/187986-ex-machina-0-230-0-345-crop",
         "108.0",
         "[\"English\"]",
         "2015.0"
        ]
       ],
       "shape": {
        "columns": 8,
        "rows": 20
       }
      },
      "text/html": [
       "<div>\n",
       "<style scoped>\n",
       "    .dataframe tbody tr th:only-of-type {\n",
       "        vertical-align: middle;\n",
       "    }\n",
       "\n",
       "    .dataframe tbody tr th {\n",
       "        vertical-align: top;\n",
       "    }\n",
       "\n",
       "    .dataframe thead th {\n",
       "        text-align: right;\n",
       "    }\n",
       "</style>\n",
       "<table border=\"1\" class=\"dataframe\">\n",
       "  <thead>\n",
       "    <tr style=\"text-align: right;\">\n",
       "      <th></th>\n",
       "      <th>movie_id</th>\n",
       "      <th>movie_title</th>\n",
       "      <th>genres</th>\n",
       "      <th>original_language</th>\n",
       "      <th>image_url</th>\n",
       "      <th>runtime</th>\n",
       "      <th>spoken_languages</th>\n",
       "      <th>year_released</th>\n",
       "    </tr>\n",
       "  </thead>\n",
       "  <tbody>\n",
       "    <tr>\n",
       "      <th>12</th>\n",
       "      <td>the-lion-king</td>\n",
       "      <td>The Lion King</td>\n",
       "      <td>[\"Family\",\"Animation\",\"Drama\"]</td>\n",
       "      <td>en</td>\n",
       "      <td>sm/upload/lz/96/yu/mf/ztuEReeV6ofpU1HxUV9AsR6a...</td>\n",
       "      <td>89.0</td>\n",
       "      <td>[\"English\"]</td>\n",
       "      <td>1994.0</td>\n",
       "    </tr>\n",
       "    <tr>\n",
       "      <th>83</th>\n",
       "      <td>ghostbusters-2016</td>\n",
       "      <td>Ghostbusters</td>\n",
       "      <td>[\"Action\",\"Fantasy\",\"Comedy\"]</td>\n",
       "      <td>en</td>\n",
       "      <td>film-poster/2/2/0/4/8/22048-ghostbusters-0-230...</td>\n",
       "      <td>117.0</td>\n",
       "      <td>[\"English\"]</td>\n",
       "      <td>2016.0</td>\n",
       "    </tr>\n",
       "    <tr>\n",
       "      <th>85</th>\n",
       "      <td>beauty-and-the-beast-2017</td>\n",
       "      <td>Beauty and the Beast</td>\n",
       "      <td>[\"Family\",\"Fantasy\",\"Romance\"]</td>\n",
       "      <td>en</td>\n",
       "      <td>film-poster/2/4/8/7/0/8/248708-beauty-and-the-...</td>\n",
       "      <td>129.0</td>\n",
       "      <td>[\"Français\",\"English\"]</td>\n",
       "      <td>2017.0</td>\n",
       "    </tr>\n",
       "    <tr>\n",
       "      <th>191</th>\n",
       "      <td>black-panther-2018</td>\n",
       "      <td>Black Panther</td>\n",
       "      <td>[\"Action\",\"Adventure\",\"Science Fiction\"]</td>\n",
       "      <td>en</td>\n",
       "      <td>film-poster/2/0/9/3/8/3/209383-black-panther-0...</td>\n",
       "      <td>134.0</td>\n",
       "      <td>[\"English\",\"한국어/조선말\",\"Kiswahili\",\"\"]</td>\n",
       "      <td>2018.0</td>\n",
       "    </tr>\n",
       "    <tr>\n",
       "      <th>232</th>\n",
       "      <td>halloween-2018</td>\n",
       "      <td>Halloween</td>\n",
       "      <td>[\"Horror\",\"Thriller\"]</td>\n",
       "      <td>en</td>\n",
       "      <td>film-poster/3/5/7/6/8/2/357682-halloween-0-230...</td>\n",
       "      <td>106.0</td>\n",
       "      <td>[\"English\"]</td>\n",
       "      <td>2018.0</td>\n",
       "    </tr>\n",
       "    <tr>\n",
       "      <th>333</th>\n",
       "      <td>suspiria</td>\n",
       "      <td>Suspiria</td>\n",
       "      <td>[\"Horror\"]</td>\n",
       "      <td>it</td>\n",
       "      <td>film-poster/4/4/9/0/0/44900-suspiria-0-230-0-3...</td>\n",
       "      <td>99.0</td>\n",
       "      <td>[\"Deutsch\",\"English\",\"Italiano\",\"Latin\"]</td>\n",
       "      <td>1977.0</td>\n",
       "    </tr>\n",
       "    <tr>\n",
       "      <th>400</th>\n",
       "      <td>the-lion-king-2019</td>\n",
       "      <td>The Lion King</td>\n",
       "      <td>[\"Adventure\",\"Family\",\"Animation\"]</td>\n",
       "      <td>en</td>\n",
       "      <td>film-poster/3/5/4/5/3/9/354539-the-lion-king-0...</td>\n",
       "      <td>118.0</td>\n",
       "      <td>[\"English\"]</td>\n",
       "      <td>2019.0</td>\n",
       "    </tr>\n",
       "    <tr>\n",
       "      <th>413</th>\n",
       "      <td>beauty-and-the-beast-1991</td>\n",
       "      <td>Beauty and the Beast</td>\n",
       "      <td>[\"Romance\",\"Family\",\"Animation\",\"Fantasy\"]</td>\n",
       "      <td>en</td>\n",
       "      <td>sm/upload/qw/zu/zk/ky/iLe8yMOF5we6lvYbKLHzho7A...</td>\n",
       "      <td>84.0</td>\n",
       "      <td>[\"Français\",\"English\"]</td>\n",
       "      <td>1991.0</td>\n",
       "    </tr>\n",
       "    <tr>\n",
       "      <th>446</th>\n",
       "      <td>aladdin</td>\n",
       "      <td>Aladdin</td>\n",
       "      <td>[\"Animation\",\"Family\",\"Adventure\",\"Fantasy\",\"R...</td>\n",
       "      <td>en</td>\n",
       "      <td>sm/upload/n3/26/lb/e2/trm94WPjW5ApKulhFvuRm5cT...</td>\n",
       "      <td>90.0</td>\n",
       "      <td>[\"English\"]</td>\n",
       "      <td>1992.0</td>\n",
       "    </tr>\n",
       "    <tr>\n",
       "      <th>508</th>\n",
       "      <td>suspiria-2018</td>\n",
       "      <td>Suspiria</td>\n",
       "      <td>[\"Horror\",\"Thriller\"]</td>\n",
       "      <td>en</td>\n",
       "      <td>film-poster/2/9/3/0/6/6/293066-suspiria-0-230-...</td>\n",
       "      <td>152.0</td>\n",
       "      <td>[\"English\",\"Français\",\"Deutsch\"]</td>\n",
       "      <td>2018.0</td>\n",
       "    </tr>\n",
       "    <tr>\n",
       "      <th>651</th>\n",
       "      <td>west-side-story</td>\n",
       "      <td>West Side Story</td>\n",
       "      <td>[\"Crime\",\"Drama\",\"Romance\"]</td>\n",
       "      <td>en</td>\n",
       "      <td>sm/upload/em/vs/66/tb/zRQhCSREdR9h4OzEVvwhdlZN...</td>\n",
       "      <td>152.0</td>\n",
       "      <td>[\"Español\",\"English\"]</td>\n",
       "      <td>1961.0</td>\n",
       "    </tr>\n",
       "    <tr>\n",
       "      <th>667</th>\n",
       "      <td>aladdin-2019</td>\n",
       "      <td>Aladdin</td>\n",
       "      <td>[\"Adventure\",\"Fantasy\",\"Romance\",\"Family\"]</td>\n",
       "      <td>en</td>\n",
       "      <td>sm/upload/qh/co/7j/kl/aladdin-0-230-0-345-crop</td>\n",
       "      <td>128.0</td>\n",
       "      <td>[\"English\"]</td>\n",
       "      <td>2019.0</td>\n",
       "    </tr>\n",
       "    <tr>\n",
       "      <th>727</th>\n",
       "      <td>ghostbusters</td>\n",
       "      <td>Ghostbusters</td>\n",
       "      <td>[\"Comedy\",\"Fantasy\"]</td>\n",
       "      <td>en</td>\n",
       "      <td>film-poster/6/1/6/6/6166-ghostbusters-0-230-0-...</td>\n",
       "      <td>107.0</td>\n",
       "      <td>[\"English\"]</td>\n",
       "      <td>1984.0</td>\n",
       "    </tr>\n",
       "    <tr>\n",
       "      <th>762</th>\n",
       "      <td>dune</td>\n",
       "      <td>Dune</td>\n",
       "      <td>[\"Action\",\"Science Fiction\",\"Adventure\"]</td>\n",
       "      <td>en</td>\n",
       "      <td>sm/upload/e9/3l/l6/pt/dune-0-230-0-345-crop</td>\n",
       "      <td>137.0</td>\n",
       "      <td>[\"English\",\"Italiano\"]</td>\n",
       "      <td>1984.0</td>\n",
       "    </tr>\n",
       "    <tr>\n",
       "      <th>814</th>\n",
       "      <td>halloween-1978</td>\n",
       "      <td>Halloween</td>\n",
       "      <td>[\"Horror\",\"Thriller\"]</td>\n",
       "      <td>en</td>\n",
       "      <td>film-poster/6/0/2/9/8/60298-halloween-0-230-0-...</td>\n",
       "      <td>91.0</td>\n",
       "      <td>[\"English\"]</td>\n",
       "      <td>1978.0</td>\n",
       "    </tr>\n",
       "    <tr>\n",
       "      <th>815</th>\n",
       "      <td>ex-machina-2014</td>\n",
       "      <td>Ex Machina</td>\n",
       "      <td>[\"Drama\",\"Science Fiction\"]</td>\n",
       "      <td>en</td>\n",
       "      <td>film-poster/1/8/7/9/8/6/187986-ex-machina-0-23...</td>\n",
       "      <td>108.0</td>\n",
       "      <td>[\"English\"]</td>\n",
       "      <td>2014.0</td>\n",
       "    </tr>\n",
       "    <tr>\n",
       "      <th>834</th>\n",
       "      <td>dune-2021</td>\n",
       "      <td>Dune</td>\n",
       "      <td>[\"Science Fiction\",\"Adventure\"]</td>\n",
       "      <td>en</td>\n",
       "      <td>sm/upload/nx/8b/vs/gc/cDbNAY0KM84cxXhmj8f0dLWz...</td>\n",
       "      <td>155.0</td>\n",
       "      <td>[\"普通话\",\"English\"]</td>\n",
       "      <td>2021.0</td>\n",
       "    </tr>\n",
       "    <tr>\n",
       "      <th>837</th>\n",
       "      <td>west-side-story-2021</td>\n",
       "      <td>West Side Story</td>\n",
       "      <td>[\"Drama\",\"Romance\",\"Crime\"]</td>\n",
       "      <td>en</td>\n",
       "      <td>sm/upload/nn/9m/oa/gb/uvDAImzaVVO04h3CUM1pVJ53...</td>\n",
       "      <td>156.0</td>\n",
       "      <td>[\"English\"]</td>\n",
       "      <td>2021.0</td>\n",
       "    </tr>\n",
       "    <tr>\n",
       "      <th>846</th>\n",
       "      <td>black-panther</td>\n",
       "      <td>Black Panther</td>\n",
       "      <td>[\"Action\",\"Adventure\",\"Science Fiction\"]</td>\n",
       "      <td>en</td>\n",
       "      <td>film-poster/2/0/9/3/8/3/209383-black-panther-0...</td>\n",
       "      <td>134.0</td>\n",
       "      <td>[\"English\",\"한국어/조선말\",\"Kiswahili\",\"\"]</td>\n",
       "      <td>2018.0</td>\n",
       "    </tr>\n",
       "    <tr>\n",
       "      <th>864</th>\n",
       "      <td>ex-machina-2015</td>\n",
       "      <td>Ex Machina</td>\n",
       "      <td>[\"Drama\",\"Science Fiction\"]</td>\n",
       "      <td>en</td>\n",
       "      <td>film-poster/1/8/7/9/8/6/187986-ex-machina-0-23...</td>\n",
       "      <td>108.0</td>\n",
       "      <td>[\"English\"]</td>\n",
       "      <td>2015.0</td>\n",
       "    </tr>\n",
       "  </tbody>\n",
       "</table>\n",
       "</div>"
      ],
      "text/plain": [
       "                      movie_id           movie_title  \\\n",
       "12               the-lion-king         The Lion King   \n",
       "83           ghostbusters-2016          Ghostbusters   \n",
       "85   beauty-and-the-beast-2017  Beauty and the Beast   \n",
       "191         black-panther-2018         Black Panther   \n",
       "232             halloween-2018             Halloween   \n",
       "333                   suspiria              Suspiria   \n",
       "400         the-lion-king-2019         The Lion King   \n",
       "413  beauty-and-the-beast-1991  Beauty and the Beast   \n",
       "446                    aladdin               Aladdin   \n",
       "508              suspiria-2018              Suspiria   \n",
       "651            west-side-story       West Side Story   \n",
       "667               aladdin-2019               Aladdin   \n",
       "727               ghostbusters          Ghostbusters   \n",
       "762                       dune                  Dune   \n",
       "814             halloween-1978             Halloween   \n",
       "815            ex-machina-2014            Ex Machina   \n",
       "834                  dune-2021                  Dune   \n",
       "837       west-side-story-2021       West Side Story   \n",
       "846              black-panther         Black Panther   \n",
       "864            ex-machina-2015            Ex Machina   \n",
       "\n",
       "                                                genres original_language  \\\n",
       "12                      [\"Family\",\"Animation\",\"Drama\"]                en   \n",
       "83                       [\"Action\",\"Fantasy\",\"Comedy\"]                en   \n",
       "85                      [\"Family\",\"Fantasy\",\"Romance\"]                en   \n",
       "191           [\"Action\",\"Adventure\",\"Science Fiction\"]                en   \n",
       "232                              [\"Horror\",\"Thriller\"]                en   \n",
       "333                                         [\"Horror\"]                it   \n",
       "400                 [\"Adventure\",\"Family\",\"Animation\"]                en   \n",
       "413         [\"Romance\",\"Family\",\"Animation\",\"Fantasy\"]                en   \n",
       "446  [\"Animation\",\"Family\",\"Adventure\",\"Fantasy\",\"R...                en   \n",
       "508                              [\"Horror\",\"Thriller\"]                en   \n",
       "651                        [\"Crime\",\"Drama\",\"Romance\"]                en   \n",
       "667         [\"Adventure\",\"Fantasy\",\"Romance\",\"Family\"]                en   \n",
       "727                               [\"Comedy\",\"Fantasy\"]                en   \n",
       "762           [\"Action\",\"Science Fiction\",\"Adventure\"]                en   \n",
       "814                              [\"Horror\",\"Thriller\"]                en   \n",
       "815                        [\"Drama\",\"Science Fiction\"]                en   \n",
       "834                    [\"Science Fiction\",\"Adventure\"]                en   \n",
       "837                        [\"Drama\",\"Romance\",\"Crime\"]                en   \n",
       "846           [\"Action\",\"Adventure\",\"Science Fiction\"]                en   \n",
       "864                        [\"Drama\",\"Science Fiction\"]                en   \n",
       "\n",
       "                                             image_url  runtime  \\\n",
       "12   sm/upload/lz/96/yu/mf/ztuEReeV6ofpU1HxUV9AsR6a...     89.0   \n",
       "83   film-poster/2/2/0/4/8/22048-ghostbusters-0-230...    117.0   \n",
       "85   film-poster/2/4/8/7/0/8/248708-beauty-and-the-...    129.0   \n",
       "191  film-poster/2/0/9/3/8/3/209383-black-panther-0...    134.0   \n",
       "232  film-poster/3/5/7/6/8/2/357682-halloween-0-230...    106.0   \n",
       "333  film-poster/4/4/9/0/0/44900-suspiria-0-230-0-3...     99.0   \n",
       "400  film-poster/3/5/4/5/3/9/354539-the-lion-king-0...    118.0   \n",
       "413  sm/upload/qw/zu/zk/ky/iLe8yMOF5we6lvYbKLHzho7A...     84.0   \n",
       "446  sm/upload/n3/26/lb/e2/trm94WPjW5ApKulhFvuRm5cT...     90.0   \n",
       "508  film-poster/2/9/3/0/6/6/293066-suspiria-0-230-...    152.0   \n",
       "651  sm/upload/em/vs/66/tb/zRQhCSREdR9h4OzEVvwhdlZN...    152.0   \n",
       "667     sm/upload/qh/co/7j/kl/aladdin-0-230-0-345-crop    128.0   \n",
       "727  film-poster/6/1/6/6/6166-ghostbusters-0-230-0-...    107.0   \n",
       "762        sm/upload/e9/3l/l6/pt/dune-0-230-0-345-crop    137.0   \n",
       "814  film-poster/6/0/2/9/8/60298-halloween-0-230-0-...     91.0   \n",
       "815  film-poster/1/8/7/9/8/6/187986-ex-machina-0-23...    108.0   \n",
       "834  sm/upload/nx/8b/vs/gc/cDbNAY0KM84cxXhmj8f0dLWz...    155.0   \n",
       "837  sm/upload/nn/9m/oa/gb/uvDAImzaVVO04h3CUM1pVJ53...    156.0   \n",
       "846  film-poster/2/0/9/3/8/3/209383-black-panther-0...    134.0   \n",
       "864  film-poster/1/8/7/9/8/6/187986-ex-machina-0-23...    108.0   \n",
       "\n",
       "                             spoken_languages  year_released  \n",
       "12                                [\"English\"]         1994.0  \n",
       "83                                [\"English\"]         2016.0  \n",
       "85                     [\"Français\",\"English\"]         2017.0  \n",
       "191      [\"English\",\"한국어/조선말\",\"Kiswahili\",\"\"]         2018.0  \n",
       "232                               [\"English\"]         2018.0  \n",
       "333  [\"Deutsch\",\"English\",\"Italiano\",\"Latin\"]         1977.0  \n",
       "400                               [\"English\"]         2019.0  \n",
       "413                    [\"Français\",\"English\"]         1991.0  \n",
       "446                               [\"English\"]         1992.0  \n",
       "508          [\"English\",\"Français\",\"Deutsch\"]         2018.0  \n",
       "651                     [\"Español\",\"English\"]         1961.0  \n",
       "667                               [\"English\"]         2019.0  \n",
       "727                               [\"English\"]         1984.0  \n",
       "762                    [\"English\",\"Italiano\"]         1984.0  \n",
       "814                               [\"English\"]         1978.0  \n",
       "815                               [\"English\"]         2014.0  \n",
       "834                         [\"普通话\",\"English\"]         2021.0  \n",
       "837                               [\"English\"]         2021.0  \n",
       "846      [\"English\",\"한국어/조선말\",\"Kiswahili\",\"\"]         2018.0  \n",
       "864                               [\"English\"]         2015.0  "
      ]
     },
     "execution_count": 7,
     "metadata": {},
     "output_type": "execute_result"
    }
   ],
   "source": [
    "same_title = movies[movies.duplicated(subset=[\"movie_title\"], keep=False)]\n",
    "same_title"
   ]
  },
  {
   "cell_type": "markdown",
   "id": "9efa68f4-b5ae-4c6a-bdf0-3445e90611ff",
   "metadata": {},
   "source": [
    "There are some movies with the same title i.e. remakes. Now checking by movie_id to ensure there are still no repeating movies:"
   ]
  },
  {
   "cell_type": "code",
   "execution_count": 8,
   "id": "3b2f6c58-2ddb-4690-ae79-fabdde964983",
   "metadata": {},
   "outputs": [
    {
     "data": {
      "application/vnd.microsoft.datawrangler.viewer.v0+json": {
       "columns": [
        {
         "name": "index",
         "rawType": "int64",
         "type": "integer"
        },
        {
         "name": "movie_id",
         "rawType": "object",
         "type": "string"
        },
        {
         "name": "movie_title",
         "rawType": "object",
         "type": "string"
        },
        {
         "name": "genres",
         "rawType": "object",
         "type": "string"
        },
        {
         "name": "original_language",
         "rawType": "object",
         "type": "string"
        },
        {
         "name": "image_url",
         "rawType": "object",
         "type": "string"
        },
        {
         "name": "runtime",
         "rawType": "float64",
         "type": "float"
        },
        {
         "name": "spoken_languages",
         "rawType": "object",
         "type": "string"
        },
        {
         "name": "year_released",
         "rawType": "float64",
         "type": "float"
        }
       ],
       "ref": "07ec991d-9dbe-4986-a6c5-46df8facd670",
       "rows": [],
       "shape": {
        "columns": 8,
        "rows": 0
       }
      },
      "text/html": [
       "<div>\n",
       "<style scoped>\n",
       "    .dataframe tbody tr th:only-of-type {\n",
       "        vertical-align: middle;\n",
       "    }\n",
       "\n",
       "    .dataframe tbody tr th {\n",
       "        vertical-align: top;\n",
       "    }\n",
       "\n",
       "    .dataframe thead th {\n",
       "        text-align: right;\n",
       "    }\n",
       "</style>\n",
       "<table border=\"1\" class=\"dataframe\">\n",
       "  <thead>\n",
       "    <tr style=\"text-align: right;\">\n",
       "      <th></th>\n",
       "      <th>movie_id</th>\n",
       "      <th>movie_title</th>\n",
       "      <th>genres</th>\n",
       "      <th>original_language</th>\n",
       "      <th>image_url</th>\n",
       "      <th>runtime</th>\n",
       "      <th>spoken_languages</th>\n",
       "      <th>year_released</th>\n",
       "    </tr>\n",
       "  </thead>\n",
       "  <tbody>\n",
       "  </tbody>\n",
       "</table>\n",
       "</div>"
      ],
      "text/plain": [
       "Empty DataFrame\n",
       "Columns: [movie_id, movie_title, genres, original_language, image_url, runtime, spoken_languages, year_released]\n",
       "Index: []"
      ]
     },
     "execution_count": 8,
     "metadata": {},
     "output_type": "execute_result"
    }
   ],
   "source": [
    "same_id = movies[movies.duplicated(subset=[\"movie_id\"], keep=False)]\n",
    "same_id"
   ]
  },
  {
   "cell_type": "markdown",
   "id": "5aca8816-152d-4b14-9d95-59516ca9900c",
   "metadata": {},
   "source": [
    "There are no movies with same id. However I noticed two \"Ex Machina\" films in the first check with only date differing (2014 vs 2015). Now checking on movie_title and runtime just to check if any films were inserted twice into the original database:"
   ]
  },
  {
   "cell_type": "code",
   "execution_count": 9,
   "id": "9069c9c3-e75a-4d76-9964-0c3d87ecb50b",
   "metadata": {
    "scrolled": true
   },
   "outputs": [
    {
     "data": {
      "application/vnd.microsoft.datawrangler.viewer.v0+json": {
       "columns": [
        {
         "name": "index",
         "rawType": "int64",
         "type": "integer"
        },
        {
         "name": "movie_id",
         "rawType": "object",
         "type": "string"
        },
        {
         "name": "movie_title",
         "rawType": "object",
         "type": "string"
        },
        {
         "name": "genres",
         "rawType": "object",
         "type": "string"
        },
        {
         "name": "original_language",
         "rawType": "object",
         "type": "string"
        },
        {
         "name": "image_url",
         "rawType": "object",
         "type": "string"
        },
        {
         "name": "runtime",
         "rawType": "float64",
         "type": "float"
        },
        {
         "name": "spoken_languages",
         "rawType": "object",
         "type": "string"
        },
        {
         "name": "year_released",
         "rawType": "float64",
         "type": "float"
        }
       ],
       "ref": "fa8dc691-3e3c-4b2c-8809-2773f03ac719",
       "rows": [
        [
         "191",
         "black-panther-2018",
         "Black Panther",
         "[\"Action\",\"Adventure\",\"Science Fiction\"]",
         "en",
         "film-poster/2/0/9/3/8/3/209383-black-panther-0-230-0-345-crop",
         "134.0",
         "[\"English\",\"한국어/조선말\",\"Kiswahili\",\"\"]",
         "2018.0"
        ],
        [
         "815",
         "ex-machina-2014",
         "Ex Machina",
         "[\"Drama\",\"Science Fiction\"]",
         "en",
         "film-poster/1/8/7/9/8/6/187986-ex-machina-0-230-0-345-crop",
         "108.0",
         "[\"English\"]",
         "2014.0"
        ],
        [
         "846",
         "black-panther",
         "Black Panther",
         "[\"Action\",\"Adventure\",\"Science Fiction\"]",
         "en",
         "film-poster/2/0/9/3/8/3/209383-black-panther-0-230-0-345-crop",
         "134.0",
         "[\"English\",\"한국어/조선말\",\"Kiswahili\",\"\"]",
         "2018.0"
        ],
        [
         "864",
         "ex-machina-2015",
         "Ex Machina",
         "[\"Drama\",\"Science Fiction\"]",
         "en",
         "film-poster/1/8/7/9/8/6/187986-ex-machina-0-230-0-345-crop",
         "108.0",
         "[\"English\"]",
         "2015.0"
        ]
       ],
       "shape": {
        "columns": 8,
        "rows": 4
       }
      },
      "text/html": [
       "<div>\n",
       "<style scoped>\n",
       "    .dataframe tbody tr th:only-of-type {\n",
       "        vertical-align: middle;\n",
       "    }\n",
       "\n",
       "    .dataframe tbody tr th {\n",
       "        vertical-align: top;\n",
       "    }\n",
       "\n",
       "    .dataframe thead th {\n",
       "        text-align: right;\n",
       "    }\n",
       "</style>\n",
       "<table border=\"1\" class=\"dataframe\">\n",
       "  <thead>\n",
       "    <tr style=\"text-align: right;\">\n",
       "      <th></th>\n",
       "      <th>movie_id</th>\n",
       "      <th>movie_title</th>\n",
       "      <th>genres</th>\n",
       "      <th>original_language</th>\n",
       "      <th>image_url</th>\n",
       "      <th>runtime</th>\n",
       "      <th>spoken_languages</th>\n",
       "      <th>year_released</th>\n",
       "    </tr>\n",
       "  </thead>\n",
       "  <tbody>\n",
       "    <tr>\n",
       "      <th>191</th>\n",
       "      <td>black-panther-2018</td>\n",
       "      <td>Black Panther</td>\n",
       "      <td>[\"Action\",\"Adventure\",\"Science Fiction\"]</td>\n",
       "      <td>en</td>\n",
       "      <td>film-poster/2/0/9/3/8/3/209383-black-panther-0...</td>\n",
       "      <td>134.0</td>\n",
       "      <td>[\"English\",\"한국어/조선말\",\"Kiswahili\",\"\"]</td>\n",
       "      <td>2018.0</td>\n",
       "    </tr>\n",
       "    <tr>\n",
       "      <th>815</th>\n",
       "      <td>ex-machina-2014</td>\n",
       "      <td>Ex Machina</td>\n",
       "      <td>[\"Drama\",\"Science Fiction\"]</td>\n",
       "      <td>en</td>\n",
       "      <td>film-poster/1/8/7/9/8/6/187986-ex-machina-0-23...</td>\n",
       "      <td>108.0</td>\n",
       "      <td>[\"English\"]</td>\n",
       "      <td>2014.0</td>\n",
       "    </tr>\n",
       "    <tr>\n",
       "      <th>846</th>\n",
       "      <td>black-panther</td>\n",
       "      <td>Black Panther</td>\n",
       "      <td>[\"Action\",\"Adventure\",\"Science Fiction\"]</td>\n",
       "      <td>en</td>\n",
       "      <td>film-poster/2/0/9/3/8/3/209383-black-panther-0...</td>\n",
       "      <td>134.0</td>\n",
       "      <td>[\"English\",\"한국어/조선말\",\"Kiswahili\",\"\"]</td>\n",
       "      <td>2018.0</td>\n",
       "    </tr>\n",
       "    <tr>\n",
       "      <th>864</th>\n",
       "      <td>ex-machina-2015</td>\n",
       "      <td>Ex Machina</td>\n",
       "      <td>[\"Drama\",\"Science Fiction\"]</td>\n",
       "      <td>en</td>\n",
       "      <td>film-poster/1/8/7/9/8/6/187986-ex-machina-0-23...</td>\n",
       "      <td>108.0</td>\n",
       "      <td>[\"English\"]</td>\n",
       "      <td>2015.0</td>\n",
       "    </tr>\n",
       "  </tbody>\n",
       "</table>\n",
       "</div>"
      ],
      "text/plain": [
       "               movie_id    movie_title  \\\n",
       "191  black-panther-2018  Black Panther   \n",
       "815     ex-machina-2014     Ex Machina   \n",
       "846       black-panther  Black Panther   \n",
       "864     ex-machina-2015     Ex Machina   \n",
       "\n",
       "                                       genres original_language  \\\n",
       "191  [\"Action\",\"Adventure\",\"Science Fiction\"]                en   \n",
       "815               [\"Drama\",\"Science Fiction\"]                en   \n",
       "846  [\"Action\",\"Adventure\",\"Science Fiction\"]                en   \n",
       "864               [\"Drama\",\"Science Fiction\"]                en   \n",
       "\n",
       "                                             image_url  runtime  \\\n",
       "191  film-poster/2/0/9/3/8/3/209383-black-panther-0...    134.0   \n",
       "815  film-poster/1/8/7/9/8/6/187986-ex-machina-0-23...    108.0   \n",
       "846  film-poster/2/0/9/3/8/3/209383-black-panther-0...    134.0   \n",
       "864  film-poster/1/8/7/9/8/6/187986-ex-machina-0-23...    108.0   \n",
       "\n",
       "                         spoken_languages  year_released  \n",
       "191  [\"English\",\"한국어/조선말\",\"Kiswahili\",\"\"]         2018.0  \n",
       "815                           [\"English\"]         2014.0  \n",
       "846  [\"English\",\"한국어/조선말\",\"Kiswahili\",\"\"]         2018.0  \n",
       "864                           [\"English\"]         2015.0  "
      ]
     },
     "execution_count": 9,
     "metadata": {},
     "output_type": "execute_result"
    }
   ],
   "source": [
    "same_movie = movies[movies.duplicated(subset=[\"movie_title\", \"runtime\"], keep=False)]\n",
    "same_movie"
   ]
  },
  {
   "cell_type": "markdown",
   "id": "99cc47b6-41fb-453a-b2cd-865fe132d26b",
   "metadata": {},
   "source": [
    "It appears two films have been inserted twice into Letterboxd's database with differing movie_id, and in \"Ex Machina\"'s case differing release year. Will decide which one to keep after exploring user_ratings dataset."
   ]
  },
  {
   "cell_type": "markdown",
   "id": "0461fbf0-7993-49a4-8be3-fc43b235068e",
   "metadata": {},
   "source": [
    "Now I want to check the quality of the data. First, checking year_released looks correct by simply checking if it's within an acceptable range."
   ]
  },
  {
   "cell_type": "code",
   "execution_count": 10,
   "id": "6e8d663a-8c80-4499-8922-5dcd2413a36e",
   "metadata": {},
   "outputs": [
    {
     "data": {
      "application/vnd.microsoft.datawrangler.viewer.v0+json": {
       "columns": [
        {
         "name": "index",
         "rawType": "int64",
         "type": "integer"
        },
        {
         "name": "movie_id",
         "rawType": "object",
         "type": "string"
        },
        {
         "name": "movie_title",
         "rawType": "object",
         "type": "string"
        },
        {
         "name": "genres",
         "rawType": "object",
         "type": "string"
        },
        {
         "name": "original_language",
         "rawType": "object",
         "type": "string"
        },
        {
         "name": "image_url",
         "rawType": "object",
         "type": "string"
        },
        {
         "name": "runtime",
         "rawType": "float64",
         "type": "float"
        },
        {
         "name": "spoken_languages",
         "rawType": "object",
         "type": "string"
        },
        {
         "name": "year_released",
         "rawType": "float64",
         "type": "float"
        }
       ],
       "ref": "0d01bdba-033f-48de-8cda-5d3eade97eab",
       "rows": [],
       "shape": {
        "columns": 8,
        "rows": 0
       }
      },
      "text/html": [
       "<div>\n",
       "<style scoped>\n",
       "    .dataframe tbody tr th:only-of-type {\n",
       "        vertical-align: middle;\n",
       "    }\n",
       "\n",
       "    .dataframe tbody tr th {\n",
       "        vertical-align: top;\n",
       "    }\n",
       "\n",
       "    .dataframe thead th {\n",
       "        text-align: right;\n",
       "    }\n",
       "</style>\n",
       "<table border=\"1\" class=\"dataframe\">\n",
       "  <thead>\n",
       "    <tr style=\"text-align: right;\">\n",
       "      <th></th>\n",
       "      <th>movie_id</th>\n",
       "      <th>movie_title</th>\n",
       "      <th>genres</th>\n",
       "      <th>original_language</th>\n",
       "      <th>image_url</th>\n",
       "      <th>runtime</th>\n",
       "      <th>spoken_languages</th>\n",
       "      <th>year_released</th>\n",
       "    </tr>\n",
       "  </thead>\n",
       "  <tbody>\n",
       "  </tbody>\n",
       "</table>\n",
       "</div>"
      ],
      "text/plain": [
       "Empty DataFrame\n",
       "Columns: [movie_id, movie_title, genres, original_language, image_url, runtime, spoken_languages, year_released]\n",
       "Index: []"
      ]
     },
     "execution_count": 10,
     "metadata": {},
     "output_type": "execute_result"
    }
   ],
   "source": [
    "invalid_years = movies[(movies['year_released'] < 1900) | (movies['year_released'] > 2025)]\n",
    "invalid_years"
   ]
  },
  {
   "cell_type": "markdown",
   "id": "ba0226b4-bd56-47cc-9526-e430ac15bd44",
   "metadata": {},
   "source": [
    "There are no movies outside the acceptable range so I am happy with that."
   ]
  },
  {
   "cell_type": "markdown",
   "id": "1b014f5b-c45f-4628-8008-e1c15f3e28c3",
   "metadata": {},
   "source": [
    "Now checking unique values for original_language to see if there's any that look wrong."
   ]
  },
  {
   "cell_type": "code",
   "execution_count": 11,
   "id": "464456cb-4e39-4707-8dbb-f214ff1453d7",
   "metadata": {},
   "outputs": [
    {
     "data": {
      "text/plain": [
       "array(['en', 'cn', 'ja', 'ko', 'sv', 'fr', 'it', 'da', 'de', 'ru', 'pt',\n",
       "       'pl', 'es', 'el', 'id'], dtype=object)"
      ]
     },
     "execution_count": 11,
     "metadata": {},
     "output_type": "execute_result"
    }
   ],
   "source": [
    "movies['original_language'].unique()"
   ]
  },
  {
   "cell_type": "markdown",
   "id": "dc98b77e-6f45-48bd-bd5c-fb15cee9b06a",
   "metadata": {},
   "source": [
    "These all look fine."
   ]
  },
  {
   "cell_type": "markdown",
   "id": "f8d2be03-0408-4a99-9dba-7f39f44bd11a",
   "metadata": {},
   "source": [
    "I want to transform genres and spoken_languages columns to arrays before checking the data quality."
   ]
  },
  {
   "cell_type": "markdown",
   "id": "b59cae5a-ae41-4543-a37b-f1c459278ba7",
   "metadata": {},
   "source": [
    "# Cleaning the data"
   ]
  },
  {
   "cell_type": "markdown",
   "id": "04e366a7-cb30-4bb0-b9fa-028642b93df1",
   "metadata": {},
   "source": [
    "Genres and spoken_languages data is currently in string format but contains comma separated values. Want to transform these strings into arrays."
   ]
  },
  {
   "cell_type": "code",
   "execution_count": 12,
   "id": "8e52c0af-6d97-4376-bf4c-93d0ca34baf7",
   "metadata": {},
   "outputs": [],
   "source": [
    "import ast"
   ]
  },
  {
   "cell_type": "code",
   "execution_count": 13,
   "id": "50e73462-f606-4b1b-a6fa-756ee8632e00",
   "metadata": {},
   "outputs": [
    {
     "name": "stdout",
     "output_type": "stream",
     "text": [
      "[<class 'list'>]\n",
      "            movie_id        movie_title  \\\n",
      "0  napoleon-dynamite  Napoleon Dynamite   \n",
      "1      insomnia-2002           Insomnia   \n",
      "2        a-bugs-life       A Bug's Life   \n",
      "3    before-midnight    Before Midnight   \n",
      "4     searching-2018          Searching   \n",
      "\n",
      "                                   genres original_language  \\\n",
      "0                                [Comedy]                en   \n",
      "1              [Crime, Mystery, Thriller]                en   \n",
      "2  [Adventure, Animation, Comedy, Family]                en   \n",
      "3                        [Romance, Drama]                en   \n",
      "4              [Thriller, Mystery, Drama]                en   \n",
      "\n",
      "                                           image_url  runtime  \\\n",
      "0  sm/upload/wu/r9/ma/tt/2VMXuUAvU8T0oQl0w77CqVAR...     95.0   \n",
      "1  film-poster/5/1/7/3/9/51739-insomnia-0-230-0-3...    118.0   \n",
      "2  film-poster/4/7/1/1/1/47111-a-bug-s-life-0-230...     95.0   \n",
      "3  film-poster/1/0/2/4/4/4/102444-before-midnight...    109.0   \n",
      "4  film-poster/4/2/0/4/6/7/420467-searching-0-230...    102.0   \n",
      "\n",
      "                    spoken_languages  year_released  \n",
      "0                        [\"English\"]         2004.0  \n",
      "1                        [\"English\"]         2002.0  \n",
      "2                        [\"English\"]         1998.0  \n",
      "3  [\"English\",\"ελληνικά\",\"Français\"]         2013.0  \n",
      "4                        [\"English\"]         2018.0  \n"
     ]
    }
   ],
   "source": [
    "movies['genres'] = movies['genres'].apply(lambda x: ast.literal_eval(x) if isinstance(x, str) and x else [])\n",
    "\n",
    "print(movies['genres'].apply(type).unique())\n",
    "print(movies.head())"
   ]
  },
  {
   "cell_type": "markdown",
   "id": "3041ce1f-3623-4c2d-bc3b-7f9ca8751cb2",
   "metadata": {},
   "source": [
    "Genres are now list objects. Now the same for spoken_languages:"
   ]
  },
  {
   "cell_type": "code",
   "execution_count": 14,
   "id": "8af002a3-e8f4-4e19-9a64-3b2c33c4b126",
   "metadata": {},
   "outputs": [
    {
     "name": "stdout",
     "output_type": "stream",
     "text": [
      "[<class 'list'>]\n",
      "            movie_id        movie_title  \\\n",
      "0  napoleon-dynamite  Napoleon Dynamite   \n",
      "1      insomnia-2002           Insomnia   \n",
      "2        a-bugs-life       A Bug's Life   \n",
      "3    before-midnight    Before Midnight   \n",
      "4     searching-2018          Searching   \n",
      "\n",
      "                                   genres original_language  \\\n",
      "0                                [Comedy]                en   \n",
      "1              [Crime, Mystery, Thriller]                en   \n",
      "2  [Adventure, Animation, Comedy, Family]                en   \n",
      "3                        [Romance, Drama]                en   \n",
      "4              [Thriller, Mystery, Drama]                en   \n",
      "\n",
      "                                           image_url  runtime  \\\n",
      "0  sm/upload/wu/r9/ma/tt/2VMXuUAvU8T0oQl0w77CqVAR...     95.0   \n",
      "1  film-poster/5/1/7/3/9/51739-insomnia-0-230-0-3...    118.0   \n",
      "2  film-poster/4/7/1/1/1/47111-a-bug-s-life-0-230...     95.0   \n",
      "3  film-poster/1/0/2/4/4/4/102444-before-midnight...    109.0   \n",
      "4  film-poster/4/2/0/4/6/7/420467-searching-0-230...    102.0   \n",
      "\n",
      "                spoken_languages  year_released  \n",
      "0                      [English]         2004.0  \n",
      "1                      [English]         2002.0  \n",
      "2                      [English]         1998.0  \n",
      "3  [English, ελληνικά, Français]         2013.0  \n",
      "4                      [English]         2018.0  \n"
     ]
    }
   ],
   "source": [
    "movies['spoken_languages'] = movies['spoken_languages'].apply(lambda x: ast.literal_eval(x) if isinstance(x, str) and x else [])\n",
    "\n",
    "print(movies['spoken_languages'].apply(type).unique())\n",
    "print(movies.head())"
   ]
  },
  {
   "cell_type": "markdown",
   "id": "5ad0b8d8-71ed-47e4-b306-df2f8d7a52cd",
   "metadata": {},
   "source": [
    "Now I can check for missing or anomalous values in genres:"
   ]
  },
  {
   "cell_type": "code",
   "execution_count": 15,
   "id": "27270de3-d7d8-46c8-8305-707581ac2d12",
   "metadata": {},
   "outputs": [
    {
     "name": "stdout",
     "output_type": "stream",
     "text": [
      "Number of movies with missing genres: 0\n",
      "{'Comedy', 'Animation', 'Family', 'Drama', 'Action', 'Science Fiction', 'Crime', 'Adventure', 'Fantasy', 'TV Movie', 'Horror', 'War', 'Thriller', 'History', 'Western', 'Mystery', 'Music', 'Romance'}\n"
     ]
    }
   ],
   "source": [
    "missing_genres = movies[movies['genres'].apply(lambda x: len(x) == 0)]\n",
    "print(f\"Number of movies with missing genres: {len(missing_genres)}\")\n",
    "\n",
    "unique_genres = set(genre for sublist in movies['genres'] for genre in sublist)\n",
    "print(unique_genres)"
   ]
  },
  {
   "cell_type": "markdown",
   "id": "1c81d836-333e-4959-9e1d-04fef7d0985e",
   "metadata": {},
   "source": [
    "There are no movies with missing genres and each genre seems suitable. Now the same for spoken languages:"
   ]
  },
  {
   "cell_type": "code",
   "execution_count": 16,
   "id": "117fc793-5734-4986-a262-ee5d8b03e8e8",
   "metadata": {},
   "outputs": [
    {
     "name": "stdout",
     "output_type": "stream",
     "text": [
      "Number of movies with missing spoken_language: 0\n",
      "{'', 'Český', '广州话 / 廣州話', 'Somali', 'Esperanto', 'svenska', 'Tiếng Việt', 'اردو', 'বাংলা', 'Hrvatski', 'Afrikaans', 'Bahasa indonesia', 'Nederlands', 'ਪੰਜਾਬੀ', 'suomi', 'Polski', 'български език', 'Español', 'தமிழ்', 'Português', 'Kiswahili', 'Pусский', 'Íslenska', 'සිංහල', 'Norsk', 'Gaeilge', 'Deutsch', '한국어/조선말', 'Bahasa melayu', 'فارسی', 'Italiano', 'العربية', 'Türkçe', 'shqip', '普通话', 'ελληνικά', 'Latin', 'isiZulu', 'English', '日本語', 'Magyar', 'ภาษาไทย', 'Română', 'עִבְרִית', 'Dansk', 'беларуская мова', 'हिन्दी', 'Français'}\n"
     ]
    }
   ],
   "source": [
    "missing_languages = movies[movies['spoken_languages'].apply(lambda x: len(x) == 0)]\n",
    "print(f\"Number of movies with missing spoken_language: {len(missing_languages)}\")\n",
    "\n",
    "unique_languages = set(language for sublist in movies['spoken_languages'] for language in sublist)\n",
    "print(unique_languages)"
   ]
  },
  {
   "cell_type": "markdown",
   "id": "363035b7-67aa-4833-8eab-c81620b63bbf",
   "metadata": {},
   "source": [
    "One of the language values is an empty string. Let's explore the records with this value: "
   ]
  },
  {
   "cell_type": "code",
   "execution_count": 17,
   "id": "cbb2898c-0000-45c6-99b0-6f419f69cf18",
   "metadata": {},
   "outputs": [
    {
     "name": "stdout",
     "output_type": "stream",
     "text": [
      "                                              movie_id  \\\n",
      "14                             raiders-of-the-lost-ark   \n",
      "191                                 black-panther-2018   \n",
      "284                              avengers-infinity-war   \n",
      "348  borat-cultural-learnings-of-america-for-make-b...   \n",
      "393                 the-life-aquatic-with-steve-zissou   \n",
      "475                                          tangerine   \n",
      "509                                         prometheus   \n",
      "532                                           sinister   \n",
      "590                                   avengers-endgame   \n",
      "627                                         district-9   \n",
      "637                             the-darjeeling-limited   \n",
      "753                                      a-serious-man   \n",
      "774                                               cars   \n",
      "811                                     apocalypse-now   \n",
      "846                                      black-panther   \n",
      "\n",
      "                                           movie_title  \\\n",
      "14                             Raiders of the Lost Ark   \n",
      "191                                      Black Panther   \n",
      "284                             Avengers: Infinity War   \n",
      "348  Borat: Cultural Learnings of America for Make ...   \n",
      "393                 The Life Aquatic with Steve Zissou   \n",
      "475                                          Tangerine   \n",
      "509                                         Prometheus   \n",
      "532                                           Sinister   \n",
      "590                                  Avengers: Endgame   \n",
      "627                                         District 9   \n",
      "637                             The Darjeeling Limited   \n",
      "753                                      A Serious Man   \n",
      "774                                               Cars   \n",
      "811                                     Apocalypse Now   \n",
      "846                                      Black Panther   \n",
      "\n",
      "                                     genres original_language  \\\n",
      "14                      [Adventure, Action]                en   \n",
      "191    [Action, Adventure, Science Fiction]                en   \n",
      "284    [Adventure, Action, Science Fiction]                en   \n",
      "348                                [Comedy]                en   \n",
      "393              [Adventure, Comedy, Drama]                en   \n",
      "475                         [Comedy, Drama]                en   \n",
      "509   [Science Fiction, Adventure, Mystery]                en   \n",
      "532             [Horror, Thriller, Mystery]                en   \n",
      "590    [Adventure, Science Fiction, Action]                en   \n",
      "627                       [Science Fiction]                en   \n",
      "637              [Adventure, Drama, Comedy]                en   \n",
      "753                         [Comedy, Drama]                en   \n",
      "774  [Animation, Adventure, Comedy, Family]                en   \n",
      "811                            [Drama, War]                en   \n",
      "846    [Action, Adventure, Science Fiction]                en   \n",
      "\n",
      "                                             image_url  runtime  \\\n",
      "14   sm/upload/oz/di/0n/js/mkDExQxNWZug5T9dtVdng7ou...    115.0   \n",
      "191  film-poster/2/0/9/3/8/3/209383-black-panther-0...    134.0   \n",
      "284  film-poster/2/2/6/6/6/1/226661-avengers-infini...    149.0   \n",
      "348  film-poster/5/1/6/1/4/51614-borat-cultural-lea...     84.0   \n",
      "393  sm/upload/lj/js/4a/zc/the-life-aquatic-with-st...    119.0   \n",
      "475  film-poster/2/3/4/8/1/4/234814-tangerine-0-230...     87.0   \n",
      "509  sm/upload/39/zq/9r/ye/qsYQflQhOuhDpQ0W2aOcwqgD...    124.0   \n",
      "532  sm/upload/e2/ry/mu/yc/hrRYY7FcRc46Ue7h9jcKiW1x...    110.0   \n",
      "590  film-poster/2/2/6/6/6/0/226660-avengers-endgam...    181.0   \n",
      "627  film-poster/4/0/8/6/0/40860-district-9-0-230-0...    112.0   \n",
      "637  sm/upload/1d/y8/h1/b8/47AGp0EKNMjqBBPaxRYDW0Sc...     92.0   \n",
      "753  sm/upload/2u/48/o1/04/kCl9WXR7LOqDTEU3XUX8ssUE...    106.0   \n",
      "774  sm/upload/de/kp/63/hd/dWg33ektXuHmxjSjEulwDPTW...    117.0   \n",
      "811  film-poster/2/6/9/0/2690-apocalypse-now-0-230-...    147.0   \n",
      "846  film-poster/2/0/9/3/8/3/209383-black-panther-0...    134.0   \n",
      "\n",
      "                                      spoken_languages  year_released  \n",
      "14    [English, Español, Deutsch, עִבְרִית, العربية, ]         1981.0  \n",
      "191                    [English, 한국어/조선말, Kiswahili, ]         2018.0  \n",
      "284                                        [English, ]         2018.0  \n",
      "348              [, עִבְרִית, English, Polski, Română]         2006.0  \n",
      "393  [English, Íslenska, Português, Français, , Deu...         2004.0  \n",
      "475                                        [, English]         2015.0  \n",
      "509                                        [, English]         2012.0  \n",
      "532                   [English, Português, Français, ]         2012.0  \n",
      "590                                   [English, 日本語, ]         2019.0  \n",
      "627                [Afrikaans, , , , isiZulu, English]         2009.0  \n",
      "637                       [English, हिन्दी, Deutsch, ]         2007.0  \n",
      "753                    [עִבְרִית, , English, Italiano]         2009.0  \n",
      "774                         [English, Italiano, 日本語, ]         2006.0  \n",
      "811                  [, English, Français, Tiếng Việt]         1979.0  \n",
      "846                    [English, 한국어/조선말, Kiswahili, ]         2018.0  \n"
     ]
    }
   ],
   "source": [
    "missing_language = movies[movies['spoken_languages'].apply(lambda x: '' in x)]\n",
    "print(missing_language)\n"
   ]
  },
  {
   "cell_type": "markdown",
   "id": "dbc01a4b-455b-4521-955f-a80834dba4b8",
   "metadata": {},
   "source": [
    "There were some empty values in the dataset, let's remove these:"
   ]
  },
  {
   "cell_type": "code",
   "execution_count": 18,
   "id": "63dc7cf9-1bea-4ba4-895a-e2b1c1747540",
   "metadata": {},
   "outputs": [
    {
     "name": "stdout",
     "output_type": "stream",
     "text": [
      "False\n"
     ]
    }
   ],
   "source": [
    "movies['spoken_languages'] = movies['spoken_languages'].apply(lambda x: [language for language in x if language != ''])\n",
    "print(movies['spoken_languages'].apply(lambda x: '' in x).any())"
   ]
  },
  {
   "cell_type": "markdown",
   "id": "ea131a58-22da-4f0d-ba6c-b0f1e3ee0961",
   "metadata": {},
   "source": [
    "Double checking that this \"language\" has been removed from the dataset:"
   ]
  },
  {
   "cell_type": "code",
   "execution_count": 19,
   "id": "aa882bad-9e6c-4c6b-8ad9-a25e6743be79",
   "metadata": {},
   "outputs": [
    {
     "name": "stdout",
     "output_type": "stream",
     "text": [
      "{'Český', '广州话 / 廣州話', 'Somali', 'Esperanto', 'svenska', 'Tiếng Việt', 'اردو', 'বাংলা', 'Hrvatski', 'Afrikaans', 'Bahasa indonesia', 'Nederlands', 'ਪੰਜਾਬੀ', 'suomi', 'Polski', 'български език', 'Español', 'தமிழ்', 'Português', 'Kiswahili', 'Pусский', 'Íslenska', 'සිංහල', 'Norsk', 'Gaeilge', 'Deutsch', '한국어/조선말', 'Bahasa melayu', 'فارسی', 'Italiano', 'العربية', 'Türkçe', 'shqip', '普通话', 'ελληνικά', 'Latin', 'isiZulu', 'English', '日本語', 'Magyar', 'ภาษาไทย', 'Română', 'עִבְרִית', 'Dansk', 'беларуская мова', 'हिन्दी', 'Français'}\n"
     ]
    }
   ],
   "source": [
    "unique_languages = set(language for sublist in movies['spoken_languages'] for language in sublist)\n",
    "print(unique_languages)"
   ]
  },
  {
   "cell_type": "markdown",
   "id": "234bdd14-b115-4af9-89eb-da80f8c256dc",
   "metadata": {},
   "source": [
    "And checking one of the previously affected records to ensure it looks correct now:"
   ]
  },
  {
   "cell_type": "code",
   "execution_count": 20,
   "id": "f900dd5d-702e-4621-8ee2-52101711059b",
   "metadata": {},
   "outputs": [
    {
     "data": {
      "application/vnd.microsoft.datawrangler.viewer.v0+json": {
       "columns": [
        {
         "name": "index",
         "rawType": "int64",
         "type": "integer"
        },
        {
         "name": "movie_id",
         "rawType": "object",
         "type": "string"
        },
        {
         "name": "movie_title",
         "rawType": "object",
         "type": "string"
        },
        {
         "name": "genres",
         "rawType": "object",
         "type": "unknown"
        },
        {
         "name": "original_language",
         "rawType": "object",
         "type": "string"
        },
        {
         "name": "image_url",
         "rawType": "object",
         "type": "string"
        },
        {
         "name": "runtime",
         "rawType": "float64",
         "type": "float"
        },
        {
         "name": "spoken_languages",
         "rawType": "object",
         "type": "unknown"
        },
        {
         "name": "year_released",
         "rawType": "float64",
         "type": "float"
        }
       ],
       "ref": "1556209b-1d4b-45e0-9540-2eaa035c7d9b",
       "rows": [
        [
         "627",
         "district-9",
         "District 9",
         "['Science Fiction']",
         "en",
         "film-poster/4/0/8/6/0/40860-district-9-0-230-0-345-crop",
         "112.0",
         "['Afrikaans', 'isiZulu', 'English']",
         "2009.0"
        ]
       ],
       "shape": {
        "columns": 8,
        "rows": 1
       }
      },
      "text/html": [
       "<div>\n",
       "<style scoped>\n",
       "    .dataframe tbody tr th:only-of-type {\n",
       "        vertical-align: middle;\n",
       "    }\n",
       "\n",
       "    .dataframe tbody tr th {\n",
       "        vertical-align: top;\n",
       "    }\n",
       "\n",
       "    .dataframe thead th {\n",
       "        text-align: right;\n",
       "    }\n",
       "</style>\n",
       "<table border=\"1\" class=\"dataframe\">\n",
       "  <thead>\n",
       "    <tr style=\"text-align: right;\">\n",
       "      <th></th>\n",
       "      <th>movie_id</th>\n",
       "      <th>movie_title</th>\n",
       "      <th>genres</th>\n",
       "      <th>original_language</th>\n",
       "      <th>image_url</th>\n",
       "      <th>runtime</th>\n",
       "      <th>spoken_languages</th>\n",
       "      <th>year_released</th>\n",
       "    </tr>\n",
       "  </thead>\n",
       "  <tbody>\n",
       "    <tr>\n",
       "      <th>627</th>\n",
       "      <td>district-9</td>\n",
       "      <td>District 9</td>\n",
       "      <td>[Science Fiction]</td>\n",
       "      <td>en</td>\n",
       "      <td>film-poster/4/0/8/6/0/40860-district-9-0-230-0...</td>\n",
       "      <td>112.0</td>\n",
       "      <td>[Afrikaans, isiZulu, English]</td>\n",
       "      <td>2009.0</td>\n",
       "    </tr>\n",
       "  </tbody>\n",
       "</table>\n",
       "</div>"
      ],
      "text/plain": [
       "       movie_id movie_title             genres original_language  \\\n",
       "627  district-9  District 9  [Science Fiction]                en   \n",
       "\n",
       "                                             image_url  runtime  \\\n",
       "627  film-poster/4/0/8/6/0/40860-district-9-0-230-0...    112.0   \n",
       "\n",
       "                  spoken_languages  year_released  \n",
       "627  [Afrikaans, isiZulu, English]         2009.0  "
      ]
     },
     "execution_count": 20,
     "metadata": {},
     "output_type": "execute_result"
    }
   ],
   "source": [
    "movies[movies['movie_id'] == 'district-9']"
   ]
  },
  {
   "cell_type": "markdown",
   "id": "031291fb-14a0-440d-a130-4e29ab391eb1",
   "metadata": {},
   "source": [
    "Checking final time for missing languages:"
   ]
  },
  {
   "cell_type": "code",
   "execution_count": 21,
   "id": "58ea91ac-66db-4b3d-b66d-e0726c483561",
   "metadata": {},
   "outputs": [
    {
     "name": "stdout",
     "output_type": "stream",
     "text": [
      "Number of movies with missing spoken_language: 0\n"
     ]
    }
   ],
   "source": [
    "missing_languages = movies[movies['spoken_languages'].apply(lambda x: len(x) == 0)]\n",
    "print(f\"Number of movies with missing spoken_language: {len(missing_languages)}\")"
   ]
  },
  {
   "cell_type": "markdown",
   "id": "f58b84ea-056b-4b57-b2b4-cb250cc8b31a",
   "metadata": {},
   "source": [
    "### Standardise float types to int"
   ]
  },
  {
   "cell_type": "markdown",
   "id": "95ae70db-ad3f-4ae2-a927-e07e09fc30dd",
   "metadata": {},
   "source": [
    "Currently runtime and year_released have floating .0 which we don't need. Will convert these columns to int."
   ]
  },
  {
   "cell_type": "code",
   "execution_count": 22,
   "id": "11505bf1-94d8-4a2f-88ec-83a1224b9c74",
   "metadata": {},
   "outputs": [
    {
     "data": {
      "application/vnd.microsoft.datawrangler.viewer.v0+json": {
       "columns": [
        {
         "name": "index",
         "rawType": "int64",
         "type": "integer"
        },
        {
         "name": "movie_id",
         "rawType": "object",
         "type": "string"
        },
        {
         "name": "movie_title",
         "rawType": "object",
         "type": "string"
        },
        {
         "name": "genres",
         "rawType": "object",
         "type": "unknown"
        },
        {
         "name": "original_language",
         "rawType": "object",
         "type": "string"
        },
        {
         "name": "image_url",
         "rawType": "object",
         "type": "string"
        },
        {
         "name": "runtime",
         "rawType": "int64",
         "type": "integer"
        },
        {
         "name": "spoken_languages",
         "rawType": "object",
         "type": "unknown"
        },
        {
         "name": "year_released",
         "rawType": "int64",
         "type": "integer"
        }
       ],
       "ref": "63184390-cf25-4d4d-ad66-f9cc8e7fa21d",
       "rows": [
        [
         "0",
         "napoleon-dynamite",
         "Napoleon Dynamite",
         "['Comedy']",
         "en",
         "sm/upload/wu/r9/ma/tt/2VMXuUAvU8T0oQl0w77CqVARxYs-0-230-0-345-crop",
         "95",
         "['English']",
         "2004"
        ],
        [
         "1",
         "insomnia-2002",
         "Insomnia",
         "['Crime', 'Mystery', 'Thriller']",
         "en",
         "film-poster/5/1/7/3/9/51739-insomnia-0-230-0-345-crop",
         "118",
         "['English']",
         "2002"
        ],
        [
         "2",
         "a-bugs-life",
         "A Bug's Life",
         "['Adventure', 'Animation', 'Comedy', 'Family']",
         "en",
         "film-poster/4/7/1/1/1/47111-a-bug-s-life-0-230-0-345-crop",
         "95",
         "['English']",
         "1998"
        ],
        [
         "3",
         "before-midnight",
         "Before Midnight",
         "['Romance', 'Drama']",
         "en",
         "film-poster/1/0/2/4/4/4/102444-before-midnight-0-230-0-345-crop",
         "109",
         "['English', 'ελληνικά', 'Français']",
         "2013"
        ],
        [
         "4",
         "searching-2018",
         "Searching",
         "['Thriller', 'Mystery', 'Drama']",
         "en",
         "film-poster/4/2/0/4/6/7/420467-searching-0-230-0-345-crop",
         "102",
         "['English']",
         "2018"
        ]
       ],
       "shape": {
        "columns": 8,
        "rows": 5
       }
      },
      "text/html": [
       "<div>\n",
       "<style scoped>\n",
       "    .dataframe tbody tr th:only-of-type {\n",
       "        vertical-align: middle;\n",
       "    }\n",
       "\n",
       "    .dataframe tbody tr th {\n",
       "        vertical-align: top;\n",
       "    }\n",
       "\n",
       "    .dataframe thead th {\n",
       "        text-align: right;\n",
       "    }\n",
       "</style>\n",
       "<table border=\"1\" class=\"dataframe\">\n",
       "  <thead>\n",
       "    <tr style=\"text-align: right;\">\n",
       "      <th></th>\n",
       "      <th>movie_id</th>\n",
       "      <th>movie_title</th>\n",
       "      <th>genres</th>\n",
       "      <th>original_language</th>\n",
       "      <th>image_url</th>\n",
       "      <th>runtime</th>\n",
       "      <th>spoken_languages</th>\n",
       "      <th>year_released</th>\n",
       "    </tr>\n",
       "  </thead>\n",
       "  <tbody>\n",
       "    <tr>\n",
       "      <th>0</th>\n",
       "      <td>napoleon-dynamite</td>\n",
       "      <td>Napoleon Dynamite</td>\n",
       "      <td>[Comedy]</td>\n",
       "      <td>en</td>\n",
       "      <td>sm/upload/wu/r9/ma/tt/2VMXuUAvU8T0oQl0w77CqVAR...</td>\n",
       "      <td>95</td>\n",
       "      <td>[English]</td>\n",
       "      <td>2004</td>\n",
       "    </tr>\n",
       "    <tr>\n",
       "      <th>1</th>\n",
       "      <td>insomnia-2002</td>\n",
       "      <td>Insomnia</td>\n",
       "      <td>[Crime, Mystery, Thriller]</td>\n",
       "      <td>en</td>\n",
       "      <td>film-poster/5/1/7/3/9/51739-insomnia-0-230-0-3...</td>\n",
       "      <td>118</td>\n",
       "      <td>[English]</td>\n",
       "      <td>2002</td>\n",
       "    </tr>\n",
       "    <tr>\n",
       "      <th>2</th>\n",
       "      <td>a-bugs-life</td>\n",
       "      <td>A Bug's Life</td>\n",
       "      <td>[Adventure, Animation, Comedy, Family]</td>\n",
       "      <td>en</td>\n",
       "      <td>film-poster/4/7/1/1/1/47111-a-bug-s-life-0-230...</td>\n",
       "      <td>95</td>\n",
       "      <td>[English]</td>\n",
       "      <td>1998</td>\n",
       "    </tr>\n",
       "    <tr>\n",
       "      <th>3</th>\n",
       "      <td>before-midnight</td>\n",
       "      <td>Before Midnight</td>\n",
       "      <td>[Romance, Drama]</td>\n",
       "      <td>en</td>\n",
       "      <td>film-poster/1/0/2/4/4/4/102444-before-midnight...</td>\n",
       "      <td>109</td>\n",
       "      <td>[English, ελληνικά, Français]</td>\n",
       "      <td>2013</td>\n",
       "    </tr>\n",
       "    <tr>\n",
       "      <th>4</th>\n",
       "      <td>searching-2018</td>\n",
       "      <td>Searching</td>\n",
       "      <td>[Thriller, Mystery, Drama]</td>\n",
       "      <td>en</td>\n",
       "      <td>film-poster/4/2/0/4/6/7/420467-searching-0-230...</td>\n",
       "      <td>102</td>\n",
       "      <td>[English]</td>\n",
       "      <td>2018</td>\n",
       "    </tr>\n",
       "  </tbody>\n",
       "</table>\n",
       "</div>"
      ],
      "text/plain": [
       "            movie_id        movie_title  \\\n",
       "0  napoleon-dynamite  Napoleon Dynamite   \n",
       "1      insomnia-2002           Insomnia   \n",
       "2        a-bugs-life       A Bug's Life   \n",
       "3    before-midnight    Before Midnight   \n",
       "4     searching-2018          Searching   \n",
       "\n",
       "                                   genres original_language  \\\n",
       "0                                [Comedy]                en   \n",
       "1              [Crime, Mystery, Thriller]                en   \n",
       "2  [Adventure, Animation, Comedy, Family]                en   \n",
       "3                        [Romance, Drama]                en   \n",
       "4              [Thriller, Mystery, Drama]                en   \n",
       "\n",
       "                                           image_url  runtime  \\\n",
       "0  sm/upload/wu/r9/ma/tt/2VMXuUAvU8T0oQl0w77CqVAR...       95   \n",
       "1  film-poster/5/1/7/3/9/51739-insomnia-0-230-0-3...      118   \n",
       "2  film-poster/4/7/1/1/1/47111-a-bug-s-life-0-230...       95   \n",
       "3  film-poster/1/0/2/4/4/4/102444-before-midnight...      109   \n",
       "4  film-poster/4/2/0/4/6/7/420467-searching-0-230...      102   \n",
       "\n",
       "                spoken_languages  year_released  \n",
       "0                      [English]           2004  \n",
       "1                      [English]           2002  \n",
       "2                      [English]           1998  \n",
       "3  [English, ελληνικά, Français]           2013  \n",
       "4                      [English]           2018  "
      ]
     },
     "execution_count": 22,
     "metadata": {},
     "output_type": "execute_result"
    }
   ],
   "source": [
    "movies['year_released'] = movies['year_released'].astype(int)\n",
    "movies['runtime'] = movies['runtime'].astype(int)\n",
    "\n",
    "movies.head()"
   ]
  },
  {
   "cell_type": "markdown",
   "id": "c6feda92-feb0-4157-92a5-3717a1804c40",
   "metadata": {},
   "source": [
    "I'm satisfied that the data is now adequately cleaned."
   ]
  },
  {
   "cell_type": "code",
   "execution_count": 23,
   "id": "c02d3d5a",
   "metadata": {},
   "outputs": [],
   "source": [
    "movies.reset_index(drop=True, inplace=True)"
   ]
  },
  {
   "cell_type": "markdown",
   "id": "3b19e1bf-2477-41e4-883d-f4c838450ade",
   "metadata": {},
   "source": [
    "# Save the cleaned data"
   ]
  },
  {
   "cell_type": "markdown",
   "id": "f08393f8-dec2-44b7-b7fb-08913333bc0f",
   "metadata": {},
   "source": [
    "For testing purposes in the pipeline, it makes sense for us to export the cleaned DataFrame to a CSV file.  This will allow us to use the cleaned data in the pipeline without having to run the cleaning steps again."
   ]
  },
  {
   "cell_type": "code",
   "execution_count": 24,
   "id": "5bcca873-c4b1-4606-b1b6-fb8482926c49",
   "metadata": {},
   "outputs": [],
   "source": [
    "movies.to_csv(\n",
    "    \"../tests/test_data/expected_movies_clean_results.csv\", index=False\n",
    ")"
   ]
  }
 ],
 "metadata": {
  "kernelspec": {
   "display_name": ".venv",
   "language": "python",
   "name": "python3"
  },
  "language_info": {
   "codemirror_mode": {
    "name": "ipython",
    "version": 3
   },
   "file_extension": ".py",
   "mimetype": "text/x-python",
   "name": "python",
   "nbconvert_exporter": "python",
   "pygments_lexer": "ipython3",
   "version": "3.11.0"
  }
 },
 "nbformat": 4,
 "nbformat_minor": 5
}
